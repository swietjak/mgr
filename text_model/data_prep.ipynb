{
 "cells": [
  {
   "cell_type": "code",
   "execution_count": 2,
   "metadata": {},
   "outputs": [
    {
     "name": "stderr",
     "output_type": "stream",
     "text": [
      "d:\\jswietek\\mgr\\env\\lib\\site-packages\\tqdm\\auto.py:21: TqdmWarning: IProgress not found. Please update jupyter and ipywidgets. See https://ipywidgets.readthedocs.io/en/stable/user_install.html\n",
      "  from .autonotebook import tqdm as notebook_tqdm\n"
     ]
    }
   ],
   "source": [
    "import numpy as np\n",
    "import pandas as pd\n",
    "from io import StringIO\n",
    "import seaborn as sns\n",
    "import torch\n",
    "from torch import nn\n",
    "from torch.utils.data import Dataset, DataLoader\n",
    "import torch.nn.functional as F\n",
    "import torchtext\n",
    "from transformers import BertTokenizer, AdamW\n",
    "from transformers.models.bert.modeling_bert import BertModel"
   ]
  },
  {
   "cell_type": "code",
   "execution_count": 3,
   "metadata": {},
   "outputs": [
    {
     "name": "stdout",
     "output_type": "stream",
     "text": [
      "Index(['PATIENT_ID', 'SAMPLE_ID', 'OTHER_SAMPLE_ID', 'SPECIMEN_CURRENT_WEIGHT',\n",
      "       'DAYS_TO_COLLECTION', 'DAYS_TO_SPECIMEN_COLLECTION',\n",
      "       'SPECIMEN_FREEZING_METHOD', 'INITIAL_WEIGHT',\n",
      "       'SPECIMEN_SECOND_LONGEST_DIMENSION', 'IS_FFPE', 'LONGEST_DIMENSION',\n",
      "       'METHOD_OF_SAMPLE_PROCUREMENT', 'OCT_EMBEDDED',\n",
      "       'OTHER_METHOD_OF_SAMPLE_PROCUREMENT', 'PATHOLOGY_REPORT_FILE_NAME',\n",
      "       'PATHOLOGY_REPORT_UUID', 'SAMPLE_TYPE', 'SAMPLE_TYPE_ID',\n",
      "       'SHORTEST_DIMENSION', 'TIME_BETWEEN_CLAMPING_AND_FREEZING',\n",
      "       'TIME_BETWEEN_EXCISION_AND_FREEZING', 'VIAL_NUMBER', 'ONCOTREE_CODE',\n",
      "       'CANCER_TYPE', 'CANCER_TYPE_DETAILED'],\n",
      "      dtype='object')\n"
     ]
    }
   ],
   "source": [
    "with open('../data/data_bcr_clinical_data_sample.txt', 'r') as f:\n",
    "\tbcr_sample_df = pd.read_csv(StringIO(''.join(f.readlines()[4:]).replace('[Not Available]', '')), sep='\\t')\n",
    "\tprint(bcr_sample_df.columns)"
   ]
  },
  {
   "cell_type": "code",
   "execution_count": 4,
   "metadata": {},
   "outputs": [
    {
     "name": "stdout",
     "output_type": "stream",
     "text": [
      "OTHER_PATIENT_ID\n",
      "PATIENT_ID\n",
      "FORM_COMPLETION_DATE\n",
      "PROSPECTIVE_COLLECTION\n",
      "RETROSPECTIVE_COLLECTION\n",
      "DAYS_TO_BIRTH\n",
      "GENDER\n",
      "MENOPAUSE_STATUS\n",
      "RACE\n",
      "ETHNICITY\n",
      "HISTORY_OTHER_MALIGNANCY\n",
      "HISTORY_NEOADJUVANT_TRTYN\n",
      "TUMOR_STATUS\n",
      "VITAL_STATUS\n",
      "DAYS_TO_LAST_FOLLOWUP\n",
      "DAYS_TO_DEATH\n",
      "RADIATION_TREATMENT_ADJUVANT\n",
      "PHARMACEUTICAL_TX_ADJUVANT\n",
      "HISTOLOGICAL_SUBTYPE\n",
      "INITIAL_PATHOLOGIC_DX_YEAR\n",
      "AGE\n",
      "METHOD_OF_INITIAL_SAMPLE_PROCUREMENT\n",
      "METHOD_OF_INITIAL_SAMPLE_PROCUREMENT_OTHER\n",
      "SURGICAL_PROCEDURE_FIRST\n",
      "FIRST_SURGICAL_PROCEDURE_OTHER\n",
      "PATH_MARGIN\n",
      "SURGERY_FOR_POSITIVE_MARGINS\n",
      "SURGERY_FOR_POSITIVE_MARGINS_OTHER\n",
      "MARGIN_STATUS_REEXCISION\n",
      "STAGING_SYSTEM\n",
      "STAGING_SYSTEM_OTHER\n",
      "MICROMET_DETECTION_BY_IHC\n",
      "LYMPH_NODES_EXAMINED\n",
      "LYMPH_NODE_EXAMINED_COUNT\n",
      "LYMPH_NODES_EXAMINED_HE_COUNT\n",
      "LYMPH_NODES_EXAMINED_IHC_COUNT\n",
      "AJCC_STAGING_EDITION\n",
      "AJCC_TUMOR_PATHOLOGIC_PT\n",
      "AJCC_NODES_PATHOLOGIC_PN\n",
      "AJCC_METASTASIS_PATHOLOGIC_PM\n",
      "AJCC_PATHOLOGIC_TUMOR_STAGE\n",
      "METASTATIC_SITE\n",
      "METASTATIC_SITE_OTHER\n",
      "ER_STATUS_BY_IHC\n",
      "ER_STATUS_IHC_PERCENT_POSITIVE\n",
      "ER_POSITIVITY_SCALE_USED\n",
      "IHC_SCORE\n",
      "ER_POSITIVITY_SCALE_OTHER\n",
      "BRACHYTHERAPY_TOTAL_DOSE_POINT_A\n",
      "PR_STATUS_BY_IHC\n",
      "PR_STATUS_IHC_PERCENT_POSITIVE\n",
      "PR_POSITIVITY_SCALE_USED\n",
      "PR_POSITIVITY_IHC_INTENSITY_SCORE\n",
      "PR_POSITIVITY_SCALE_OTHER\n",
      "PR_POSITIVITY_DEFINE_METHOD\n",
      "IHC_HER2\n",
      "HER2_IHC_PERCENT_POSITIVE\n",
      "HER2_IHC_SCORE\n",
      "HER2_POSITIVITY_SCALE_OTHER\n",
      "HER2_POSITIVITY_METHOD_TEXT\n",
      "HER2_FISH_STATUS\n",
      "HER2_COPY_NUMBER\n",
      "CENT17_COPY_NUMBER\n",
      "HER2_AND_CENT17_CELLS_COUNT\n",
      "HER2_CENT17_RATIO\n",
      "HER2_AND_CENT17_SCALE_OTHER\n",
      "HER2_FISH_METHOD\n",
      "NEW_TUMOR_EVENT_AFTER_INITIAL_TREATMENT\n",
      "NTE_ER_STATUS\n",
      "NTE_ER_STATUS_IHC__POSITIVE\n",
      "NTE_ER_IHC_INTENSITY_SCORE\n",
      "NTE_ER_POSITIVITY_OTHER_SCALE\n",
      "NTE_ER_POSITIVITY_DEFINE_METHOD\n",
      "NTE_PR_STATUS_BY_IHC\n",
      "NTE_PR_STATUS_IHC__POSITIVE\n",
      "NTE_PR_IHC_INTENSITY_SCORE\n",
      "NTE_PR_POSITIVITY_OTHER_SCALE\n",
      "NTE_PR_POSITIVITY_DEFINE_METHOD\n",
      "NTE_HER2_STATUS\n",
      "NTE_HER2_STATUS_IHC__POSITIVE\n",
      "NTE_HER2_POSITIVITY_IHC_SCORE\n",
      "NTE_HER2_POSITIVITY_OTHER_SCALE\n",
      "NTE_HER2_POSITIVITY_METHOD\n",
      "NTE_HER2_FISH_STATUS\n",
      "NTE_HER2_SIGNAL_NUMBER\n",
      "NTE_CENT_17_SIGNAL_NUMBER\n",
      "HER2_CENT17_COUNTED_CELLS_COUNT\n",
      "NTE_CENT_17_HER2_RATIO\n",
      "NTE_CENT17_HER2_OTHER_SCALE\n",
      "NTE_HER2_FISH_DEFINE_METHOD\n",
      "PRIMARY_SITE\n",
      "CLIN_M_STAGE\n",
      "CLIN_N_STAGE\n",
      "CLIN_T_STAGE\n",
      "CLINICAL_STAGE\n",
      "DAYS_TO_INITIAL_PATHOLOGIC_DIAGNOSIS\n",
      "DAYS_TO_PATIENT_PROGRESSION_FREE\n",
      "DAYS_TO_TUMOR_PROGRESSION\n",
      "DISEASE_CODE\n",
      "EXTRANODAL_INVOLVEMENT\n",
      "HISTOLOGICAL_DIAGNOSIS\n",
      "ICD_10\n",
      "ICD_O_3_HISTOLOGY\n",
      "ICD_O_3_SITE\n",
      "INFORMED_CONSENT_VERIFIED\n",
      "METASTATIC_TUMOR_INDICATOR\n",
      "PROJECT_CODE\n",
      "PRIMARY_SITE_OTHER\n",
      "STAGE_OTHER\n",
      "TISSUE_SOURCE_SITE\n",
      "TUMOR_TISSUE_SITE\n",
      "OS_STATUS\n",
      "OS_MONTHS\n",
      "DFS_STATUS\n",
      "DFS_MONTHS\n"
     ]
    }
   ],
   "source": [
    "with open('../data/data_bcr_clinical_data_patient 1.txt', 'r') as f:\n",
    "\tbcr_patient_df = pd.read_csv(StringIO(''.join(f.readlines()[4:]).replace('[Not Available]', '')), sep='\\t')\n",
    "\tfor col in bcr_patient_df.columns:\n",
    "\t\tprint(col)\n",
    "     "
   ]
  },
  {
   "cell_type": "code",
   "execution_count": 4,
   "metadata": {},
   "outputs": [
    {
     "name": "stdout",
     "output_type": "stream",
     "text": [
      "OTHER_PATIENT_ID 0\n",
      "PATIENT_ID 0\n",
      "FORM_COMPLETION_DATE 0\n",
      "PROSPECTIVE_COLLECTION 4\n",
      "RETROSPECTIVE_COLLECTION 4\n",
      "DAYS_TO_BIRTH 16\n",
      "GENDER 0\n",
      "MENOPAUSE_STATUS 90\n",
      "RACE 95\n",
      "ETHNICITY 174\n",
      "HISTORY_OTHER_MALIGNANCY 0\n",
      "HISTORY_NEOADJUVANT_TRTYN 1\n",
      "TUMOR_STATUS 125\n",
      "VITAL_STATUS 0\n",
      "DAYS_TO_LAST_FOLLOWUP 105\n",
      "DAYS_TO_DEATH 0\n",
      "RADIATION_TREATMENT_ADJUVANT 931\n",
      "PHARMACEUTICAL_TX_ADJUVANT 932\n",
      "HISTOLOGICAL_SUBTYPE 0\n",
      "INITIAL_PATHOLOGIC_DX_YEAR 2\n",
      "AGE 1\n",
      "METHOD_OF_INITIAL_SAMPLE_PROCUREMENT 95\n",
      "METHOD_OF_INITIAL_SAMPLE_PROCUREMENT_OTHER 4\n",
      "SURGICAL_PROCEDURE_FIRST 54\n",
      "FIRST_SURGICAL_PROCEDURE_OTHER 821\n",
      "PATH_MARGIN 68\n",
      "SURGERY_FOR_POSITIVE_MARGINS 1041\n",
      "SURGERY_FOR_POSITIVE_MARGINS_OTHER 0\n",
      "MARGIN_STATUS_REEXCISION 1037\n",
      "STAGING_SYSTEM 216\n",
      "STAGING_SYSTEM_OTHER 1076\n",
      "MICROMET_DETECTION_BY_IHC 367\n",
      "LYMPH_NODES_EXAMINED 377\n",
      "LYMPH_NODE_EXAMINED_COUNT 126\n",
      "LYMPH_NODES_EXAMINED_HE_COUNT 168\n",
      "LYMPH_NODES_EXAMINED_IHC_COUNT 751\n",
      "AJCC_STAGING_EDITION 141\n",
      "AJCC_TUMOR_PATHOLOGIC_PT 0\n",
      "AJCC_NODES_PATHOLOGIC_PN 0\n",
      "AJCC_METASTASIS_PATHOLOGIC_PM 0\n",
      "AJCC_PATHOLOGIC_TUMOR_STAGE 5\n",
      "METASTATIC_SITE 1072\n",
      "METASTATIC_SITE_OTHER 1089\n",
      "ER_STATUS_BY_IHC 49\n",
      "ER_STATUS_IHC_PERCENT_POSITIVE 627\n",
      "ER_POSITIVITY_SCALE_USED 949\n",
      "IHC_SCORE 882\n",
      "ER_POSITIVITY_SCALE_OTHER 854\n",
      "BRACHYTHERAPY_TOTAL_DOSE_POINT_A 880\n",
      "PR_STATUS_BY_IHC 50\n",
      "PR_STATUS_IHC_PERCENT_POSITIVE 667\n",
      "PR_POSITIVITY_SCALE_USED 954\n",
      "PR_POSITIVITY_IHC_INTENSITY_SCORE 888\n",
      "PR_POSITIVITY_SCALE_OTHER 875\n",
      "PR_POSITIVITY_DEFINE_METHOD 887\n",
      "IHC_HER2 178\n",
      "HER2_IHC_PERCENT_POSITIVE 888\n",
      "HER2_IHC_SCORE 474\n",
      "HER2_POSITIVITY_SCALE_OTHER 1082\n",
      "HER2_POSITIVITY_METHOD_TEXT 1006\n",
      "HER2_FISH_STATUS 676\n",
      "HER2_COPY_NUMBER 982\n",
      "CENT17_COPY_NUMBER 990\n",
      "HER2_AND_CENT17_CELLS_COUNT 992\n",
      "HER2_CENT17_RATIO 863\n",
      "HER2_AND_CENT17_SCALE_OTHER 1092\n",
      "HER2_FISH_METHOD 1046\n",
      "NEW_TUMOR_EVENT_AFTER_INITIAL_TREATMENT 902\n",
      "NTE_ER_STATUS 1084\n",
      "NTE_ER_STATUS_IHC__POSITIVE 1090\n",
      "NTE_ER_IHC_INTENSITY_SCORE 1095\n",
      "NTE_ER_POSITIVITY_OTHER_SCALE 1096\n",
      "NTE_ER_POSITIVITY_DEFINE_METHOD 1096\n",
      "NTE_PR_STATUS_BY_IHC 1085\n",
      "NTE_PR_STATUS_IHC__POSITIVE 1092\n",
      "NTE_PR_IHC_INTENSITY_SCORE 1095\n",
      "NTE_PR_POSITIVITY_OTHER_SCALE 1096\n",
      "NTE_PR_POSITIVITY_DEFINE_METHOD 1096\n",
      "NTE_HER2_STATUS 1087\n",
      "NTE_HER2_STATUS_IHC__POSITIVE 1093\n",
      "NTE_HER2_POSITIVITY_IHC_SCORE 1091\n",
      "NTE_HER2_POSITIVITY_OTHER_SCALE 1096\n",
      "NTE_HER2_POSITIVITY_METHOD 1096\n",
      "NTE_HER2_FISH_STATUS 1093\n",
      "NTE_HER2_SIGNAL_NUMBER 1096\n",
      "NTE_CENT_17_SIGNAL_NUMBER 1096\n",
      "HER2_CENT17_COUNTED_CELLS_COUNT 1096\n",
      "NTE_CENT_17_HER2_RATIO 1094\n",
      "NTE_CENT17_HER2_OTHER_SCALE 1096\n",
      "NTE_HER2_FISH_DEFINE_METHOD 1096\n",
      "PRIMARY_SITE 0\n",
      "CLIN_M_STAGE 0\n",
      "CLIN_N_STAGE 0\n",
      "CLIN_T_STAGE 1096\n",
      "CLINICAL_STAGE 0\n",
      "DAYS_TO_INITIAL_PATHOLOGIC_DIAGNOSIS 1\n",
      "DAYS_TO_PATIENT_PROGRESSION_FREE 1096\n",
      "DAYS_TO_TUMOR_PROGRESSION 1096\n",
      "DISEASE_CODE 1091\n",
      "EXTRANODAL_INVOLVEMENT 0\n",
      "HISTOLOGICAL_DIAGNOSIS 1\n",
      "ICD_10 0\n",
      "ICD_O_3_HISTOLOGY 0\n",
      "ICD_O_3_SITE 0\n",
      "INFORMED_CONSENT_VERIFIED 0\n",
      "METASTATIC_TUMOR_INDICATOR 703\n",
      "PROJECT_CODE 1091\n",
      "PRIMARY_SITE_OTHER 0\n",
      "STAGE_OTHER 1096\n",
      "TISSUE_SOURCE_SITE 0\n",
      "TUMOR_TISSUE_SITE 0\n",
      "OS_STATUS 0\n",
      "OS_MONTHS 2\n",
      "DFS_STATUS 92\n",
      "DFS_MONTHS 93\n"
     ]
    }
   ],
   "source": [
    "for i, o in enumerate(bcr_patient_df.isna().sum()):\n",
    "    print(bcr_patient_df.columns[i], o)"
   ]
  },
  {
   "cell_type": "code",
   "execution_count": 5,
   "metadata": {},
   "outputs": [
    {
     "name": "stdout",
     "output_type": "stream",
     "text": [
      "IHC_HER2\n",
      " Negative         563\n",
      "Equivocal        179\n",
      "Positive         164\n",
      "Indeterminate     12\n",
      "Name: IHC_HER2, dtype: int64 \n",
      "\n",
      "PR_STATUS_BY_IHC\n",
      " Positive         698\n",
      "Negative         344\n",
      "Indeterminate      4\n",
      "Name: PR_STATUS_BY_IHC, dtype: int64 \n",
      "\n",
      "ER_STATUS_BY_IHC\n",
      " Positive         807\n",
      "Negative         238\n",
      "Indeterminate      2\n",
      "Name: ER_STATUS_BY_IHC, dtype: int64 \n",
      "\n",
      "ER_STATUS_BY_IHC\n",
      " Negative    7\n",
      "Positive    4\n",
      "Name: NTE_PR_STATUS_BY_IHC, dtype: int64 \n",
      "\n",
      "HER2_FISH_STATUS\n",
      " Negative         333\n",
      "Positive          78\n",
      "Equivocal          5\n",
      "Indeterminate      4\n",
      "Name: HER2_FISH_STATUS, dtype: int64 \n",
      "\n"
     ]
    }
   ],
   "source": [
    "# print(bcr_patient_df[bcr_patient_df['PR_STATUS_BY_IHC'].isna() == True]['NTE_PR_STATUS_BY_IHC'])\n",
    "print('IHC_HER2\\n', bcr_patient_df['IHC_HER2'].value_counts(), '\\n')\n",
    "print('PR_STATUS_BY_IHC\\n', bcr_patient_df['PR_STATUS_BY_IHC'].value_counts(), '\\n')\n",
    "print('ER_STATUS_BY_IHC\\n', bcr_patient_df['ER_STATUS_BY_IHC'].value_counts(), '\\n')\n",
    "print('ER_STATUS_BY_IHC\\n', bcr_patient_df['NTE_PR_STATUS_BY_IHC'].value_counts(), '\\n')\n",
    "print('HER2_FISH_STATUS\\n', bcr_patient_df['HER2_FISH_STATUS'].value_counts(), '\\n')"
   ]
  },
  {
   "cell_type": "code",
   "execution_count": 6,
   "metadata": {},
   "outputs": [
    {
     "data": {
      "text/plain": [
       "175"
      ]
     },
     "execution_count": 6,
     "metadata": {},
     "output_type": "execute_result"
    }
   ],
   "source": [
    "bcr_patient_df[bcr_patient_df['IHC_HER2'] == 'Equivocal']['NTE_HER2_STATUS'].isna().sum()"
   ]
  },
  {
   "cell_type": "code",
   "execution_count": 7,
   "metadata": {},
   "outputs": [
    {
     "data": {
      "text/html": [
       "<div>\n",
       "<style scoped>\n",
       "    .dataframe tbody tr th:only-of-type {\n",
       "        vertical-align: middle;\n",
       "    }\n",
       "\n",
       "    .dataframe tbody tr th {\n",
       "        vertical-align: top;\n",
       "    }\n",
       "\n",
       "    .dataframe thead th {\n",
       "        text-align: right;\n",
       "    }\n",
       "</style>\n",
       "<table border=\"1\" class=\"dataframe\">\n",
       "  <thead>\n",
       "    <tr style=\"text-align: right;\">\n",
       "      <th></th>\n",
       "      <th>text</th>\n",
       "      <th>patient_filename</th>\n",
       "    </tr>\n",
       "    <tr>\n",
       "      <th>bcr_patient_barcode</th>\n",
       "      <th></th>\n",
       "      <th></th>\n",
       "    </tr>\n",
       "  </thead>\n",
       "  <tbody>\n",
       "    <tr>\n",
       "      <th>TCGA-3C-AAAU</th>\n",
       "      <td>Path No.: Date Obtained: (Age: Date Received: ...</td>\n",
       "      <td>TCGA-3C-AAAU.0CD23E1B-3FA3-4A43-AE6E-C8E7B51252F8</td>\n",
       "    </tr>\n",
       "    <tr>\n",
       "      <th>TCGA-3C-AALI</th>\n",
       "      <td>Path No.: Date Obtained: (Age: ). Date Receive...</td>\n",
       "      <td>TCGA-3C-AALI.84E6A935-1A49-4BC1-9669-3DEA161CF6FC</td>\n",
       "    </tr>\n",
       "    <tr>\n",
       "      <th>TCGA-3C-AALJ</th>\n",
       "      <td>Path No.: Date Obtained: (Age: ). Date Receive...</td>\n",
       "      <td>TCGA-3C-AALJ.265E5A9A-64FD-4B86-89BC-5E89F253C118</td>\n",
       "    </tr>\n",
       "    <tr>\n",
       "      <th>TCGA-3C-AALK</th>\n",
       "      <td>Path No.: Date Obtained: (Age: ). Date Receive...</td>\n",
       "      <td>TCGA-3C-AALK.F43B01E6-E1DB-44B1-8003-93870606346A</td>\n",
       "    </tr>\n",
       "    <tr>\n",
       "      <th>TCGA-4H-AAAK</th>\n",
       "      <td>Procedure: Left radical mastectomy. Preoperati...</td>\n",
       "      <td>TCGA-4H-AAAK.8894688F-7167-48A1-BB1B-FC219B7675C2</td>\n",
       "    </tr>\n",
       "    <tr>\n",
       "      <th>...</th>\n",
       "      <td>...</td>\n",
       "      <td>...</td>\n",
       "    </tr>\n",
       "    <tr>\n",
       "      <th>TCGA-WT-AB41</th>\n",
       "      <td>SURG PATH #: SPECIMEN CLASS: ALT ID #: SEX: F....</td>\n",
       "      <td>TCGA-WT-AB41.FDB00212-9782-4ACE-AD59-019384297A2F</td>\n",
       "    </tr>\n",
       "    <tr>\n",
       "      <th>TCGA-WT-AB44</th>\n",
       "      <td>SURG PATH #: SPECIMEN CLASS: ALT ID #: SEX: F....</td>\n",
       "      <td>TCGA-WT-AB44.B7EB0E0B-46C5-43C0-A78D-FB094290765A</td>\n",
       "    </tr>\n",
       "    <tr>\n",
       "      <th>TCGA-XX-A89A</th>\n",
       "      <td>Research Gross Description. Research Dx. Left ...</td>\n",
       "      <td>TCGA-XX-A89A.5D85E578-64B4-4238-922E-802B8ED87800</td>\n",
       "    </tr>\n",
       "    <tr>\n",
       "      <th>TCGA-Z7-A8R5</th>\n",
       "      <td>ADDENDUM. Addendum #1. Entered. BREAST CANCER ...</td>\n",
       "      <td>TCGA-Z7-A8R5.7726F7AA-88A8-4DD6-B322-6FC68893E0D2</td>\n",
       "    </tr>\n",
       "    <tr>\n",
       "      <th>TCGA-Z7-A8R6</th>\n",
       "      <td>ADDENDUM. Addendum #1. Entered: : BREAST CANCE...</td>\n",
       "      <td>TCGA-Z7-A8R6.9A5C8EDF-9243-4F55-9036-A400CF3F4CC1</td>\n",
       "    </tr>\n",
       "  </tbody>\n",
       "</table>\n",
       "<p>1034 rows × 2 columns</p>\n",
       "</div>"
      ],
      "text/plain": [
       "                                                                  text  \\\n",
       "bcr_patient_barcode                                                      \n",
       "TCGA-3C-AAAU         Path No.: Date Obtained: (Age: Date Received: ...   \n",
       "TCGA-3C-AALI         Path No.: Date Obtained: (Age: ). Date Receive...   \n",
       "TCGA-3C-AALJ         Path No.: Date Obtained: (Age: ). Date Receive...   \n",
       "TCGA-3C-AALK         Path No.: Date Obtained: (Age: ). Date Receive...   \n",
       "TCGA-4H-AAAK         Procedure: Left radical mastectomy. Preoperati...   \n",
       "...                                                                ...   \n",
       "TCGA-WT-AB41         SURG PATH #: SPECIMEN CLASS: ALT ID #: SEX: F....   \n",
       "TCGA-WT-AB44         SURG PATH #: SPECIMEN CLASS: ALT ID #: SEX: F....   \n",
       "TCGA-XX-A89A         Research Gross Description. Research Dx. Left ...   \n",
       "TCGA-Z7-A8R5         ADDENDUM. Addendum #1. Entered. BREAST CANCER ...   \n",
       "TCGA-Z7-A8R6         ADDENDUM. Addendum #1. Entered: : BREAST CANCE...   \n",
       "\n",
       "                                                      patient_filename  \n",
       "bcr_patient_barcode                                                     \n",
       "TCGA-3C-AAAU         TCGA-3C-AAAU.0CD23E1B-3FA3-4A43-AE6E-C8E7B51252F8  \n",
       "TCGA-3C-AALI         TCGA-3C-AALI.84E6A935-1A49-4BC1-9669-3DEA161CF6FC  \n",
       "TCGA-3C-AALJ         TCGA-3C-AALJ.265E5A9A-64FD-4B86-89BC-5E89F253C118  \n",
       "TCGA-3C-AALK         TCGA-3C-AALK.F43B01E6-E1DB-44B1-8003-93870606346A  \n",
       "TCGA-4H-AAAK         TCGA-4H-AAAK.8894688F-7167-48A1-BB1B-FC219B7675C2  \n",
       "...                                                                ...  \n",
       "TCGA-WT-AB41         TCGA-WT-AB41.FDB00212-9782-4ACE-AD59-019384297A2F  \n",
       "TCGA-WT-AB44         TCGA-WT-AB44.B7EB0E0B-46C5-43C0-A78D-FB094290765A  \n",
       "TCGA-XX-A89A         TCGA-XX-A89A.5D85E578-64B4-4238-922E-802B8ED87800  \n",
       "TCGA-Z7-A8R5         TCGA-Z7-A8R5.7726F7AA-88A8-4DD6-B322-6FC68893E0D2  \n",
       "TCGA-Z7-A8R6         TCGA-Z7-A8R6.9A5C8EDF-9243-4F55-9036-A400CF3F4CC1  \n",
       "\n",
       "[1034 rows x 2 columns]"
      ]
     },
     "execution_count": 7,
     "metadata": {},
     "output_type": "execute_result"
    }
   ],
   "source": [
    "raw_exams_df = pd.read_csv('../data/TCGA_Reports.csv')\n",
    "patients_df = pd.read_excel('../data/TCGA-CDR-SupplementalTableS1.xlsx')\n",
    "raw_exams_df['bcr_patient_barcode'] = raw_exams_df['patient_filename'].map(lambda x: x.split('.')[0])\n",
    "tmp_exams_df = pd.concat([patients_df[patients_df['type'] == 'BRCA'].set_index('bcr_patient_barcode'), raw_exams_df.set_index('bcr_patient_barcode')], axis=1, join='inner')[['text', 'patient_filename']]\n",
    "tmp_exams_df"
   ]
  },
  {
   "cell_type": "code",
   "execution_count": 8,
   "metadata": {},
   "outputs": [
    {
     "data": {
      "text/plain": [
       "True     556\n",
       "False    478\n",
       "Name: text, dtype: int64"
      ]
     },
     "execution_count": 8,
     "metadata": {},
     "output_type": "execute_result"
    }
   ],
   "source": [
    "(tmp_exams_df['text'].apply(lambda x: len(x.split(\" \"))) < 512).value_counts()"
   ]
  },
  {
   "cell_type": "code",
   "execution_count": 9,
   "metadata": {},
   "outputs": [],
   "source": [
    "exams_df = pd.concat([bcr_patient_df.set_index('PATIENT_ID'), tmp_exams_df], axis=1, join='inner')"
   ]
  },
  {
   "cell_type": "code",
   "execution_count": 10,
   "metadata": {},
   "outputs": [
    {
     "data": {
      "text/html": [
       "<div>\n",
       "<style scoped>\n",
       "    .dataframe tbody tr th:only-of-type {\n",
       "        vertical-align: middle;\n",
       "    }\n",
       "\n",
       "    .dataframe tbody tr th {\n",
       "        vertical-align: top;\n",
       "    }\n",
       "\n",
       "    .dataframe thead th {\n",
       "        text-align: right;\n",
       "    }\n",
       "</style>\n",
       "<table border=\"1\" class=\"dataframe\">\n",
       "  <thead>\n",
       "    <tr style=\"text-align: right;\">\n",
       "      <th></th>\n",
       "      <th>text</th>\n",
       "      <th>PR_STATUS_BY_IHC</th>\n",
       "      <th>NTE_PR_STATUS_BY_IHC</th>\n",
       "      <th>NTE_ER_STATUS</th>\n",
       "      <th>ER_STATUS_BY_IHC</th>\n",
       "      <th>IHC_HER2</th>\n",
       "      <th>HER2_FISH_STATUS</th>\n",
       "      <th>NTE_HER2_STATUS</th>\n",
       "    </tr>\n",
       "  </thead>\n",
       "  <tbody>\n",
       "    <tr>\n",
       "      <th>TCGA-3C-AALI</th>\n",
       "      <td>Path No.: Date Obtained: (Age: ). Date Receive...</td>\n",
       "      <td>Positive</td>\n",
       "      <td>NaN</td>\n",
       "      <td>NaN</td>\n",
       "      <td>Positive</td>\n",
       "      <td>Positive</td>\n",
       "      <td>NaN</td>\n",
       "      <td>NaN</td>\n",
       "    </tr>\n",
       "    <tr>\n",
       "      <th>TCGA-3C-AALJ</th>\n",
       "      <td>Path No.: Date Obtained: (Age: ). Date Receive...</td>\n",
       "      <td>Positive</td>\n",
       "      <td>NaN</td>\n",
       "      <td>NaN</td>\n",
       "      <td>Positive</td>\n",
       "      <td>Indeterminate</td>\n",
       "      <td>NaN</td>\n",
       "      <td>NaN</td>\n",
       "    </tr>\n",
       "    <tr>\n",
       "      <th>TCGA-3C-AALK</th>\n",
       "      <td>Path No.: Date Obtained: (Age: ). Date Receive...</td>\n",
       "      <td>Positive</td>\n",
       "      <td>NaN</td>\n",
       "      <td>NaN</td>\n",
       "      <td>Positive</td>\n",
       "      <td>Positive</td>\n",
       "      <td>NaN</td>\n",
       "      <td>NaN</td>\n",
       "    </tr>\n",
       "    <tr>\n",
       "      <th>TCGA-4H-AAAK</th>\n",
       "      <td>Procedure: Left radical mastectomy. Preoperati...</td>\n",
       "      <td>Positive</td>\n",
       "      <td>NaN</td>\n",
       "      <td>NaN</td>\n",
       "      <td>Positive</td>\n",
       "      <td>Equivocal</td>\n",
       "      <td>NaN</td>\n",
       "      <td>NaN</td>\n",
       "    </tr>\n",
       "    <tr>\n",
       "      <th>TCGA-5L-AAT0</th>\n",
       "      <td>Gender: Female. Color: White. Origin: Nature o...</td>\n",
       "      <td>Positive</td>\n",
       "      <td>NaN</td>\n",
       "      <td>NaN</td>\n",
       "      <td>Positive</td>\n",
       "      <td>Negative</td>\n",
       "      <td>NaN</td>\n",
       "      <td>NaN</td>\n",
       "    </tr>\n",
       "    <tr>\n",
       "      <th>...</th>\n",
       "      <td>...</td>\n",
       "      <td>...</td>\n",
       "      <td>...</td>\n",
       "      <td>...</td>\n",
       "      <td>...</td>\n",
       "      <td>...</td>\n",
       "      <td>...</td>\n",
       "      <td>...</td>\n",
       "    </tr>\n",
       "    <tr>\n",
       "      <th>TCGA-WT-AB41</th>\n",
       "      <td>SURG PATH #: SPECIMEN CLASS: ALT ID #: SEX: F....</td>\n",
       "      <td>Positive</td>\n",
       "      <td>NaN</td>\n",
       "      <td>NaN</td>\n",
       "      <td>Positive</td>\n",
       "      <td>NaN</td>\n",
       "      <td>NaN</td>\n",
       "      <td>NaN</td>\n",
       "    </tr>\n",
       "    <tr>\n",
       "      <th>TCGA-WT-AB44</th>\n",
       "      <td>SURG PATH #: SPECIMEN CLASS: ALT ID #: SEX: F....</td>\n",
       "      <td>Positive</td>\n",
       "      <td>NaN</td>\n",
       "      <td>NaN</td>\n",
       "      <td>Positive</td>\n",
       "      <td>Negative</td>\n",
       "      <td>NaN</td>\n",
       "      <td>NaN</td>\n",
       "    </tr>\n",
       "    <tr>\n",
       "      <th>TCGA-XX-A89A</th>\n",
       "      <td>Research Gross Description. Research Dx. Left ...</td>\n",
       "      <td>Positive</td>\n",
       "      <td>NaN</td>\n",
       "      <td>NaN</td>\n",
       "      <td>Positive</td>\n",
       "      <td>Negative</td>\n",
       "      <td>NaN</td>\n",
       "      <td>NaN</td>\n",
       "    </tr>\n",
       "    <tr>\n",
       "      <th>TCGA-Z7-A8R5</th>\n",
       "      <td>ADDENDUM. Addendum #1. Entered. BREAST CANCER ...</td>\n",
       "      <td>Positive</td>\n",
       "      <td>NaN</td>\n",
       "      <td>NaN</td>\n",
       "      <td>Positive</td>\n",
       "      <td>Negative</td>\n",
       "      <td>NaN</td>\n",
       "      <td>NaN</td>\n",
       "    </tr>\n",
       "    <tr>\n",
       "      <th>TCGA-Z7-A8R6</th>\n",
       "      <td>ADDENDUM. Addendum #1. Entered: : BREAST CANCE...</td>\n",
       "      <td>Positive</td>\n",
       "      <td>NaN</td>\n",
       "      <td>NaN</td>\n",
       "      <td>Positive</td>\n",
       "      <td>Negative</td>\n",
       "      <td>NaN</td>\n",
       "      <td>NaN</td>\n",
       "    </tr>\n",
       "  </tbody>\n",
       "</table>\n",
       "<p>1033 rows × 8 columns</p>\n",
       "</div>"
      ],
      "text/plain": [
       "                                                           text  \\\n",
       "TCGA-3C-AALI  Path No.: Date Obtained: (Age: ). Date Receive...   \n",
       "TCGA-3C-AALJ  Path No.: Date Obtained: (Age: ). Date Receive...   \n",
       "TCGA-3C-AALK  Path No.: Date Obtained: (Age: ). Date Receive...   \n",
       "TCGA-4H-AAAK  Procedure: Left radical mastectomy. Preoperati...   \n",
       "TCGA-5L-AAT0  Gender: Female. Color: White. Origin: Nature o...   \n",
       "...                                                         ...   \n",
       "TCGA-WT-AB41  SURG PATH #: SPECIMEN CLASS: ALT ID #: SEX: F....   \n",
       "TCGA-WT-AB44  SURG PATH #: SPECIMEN CLASS: ALT ID #: SEX: F....   \n",
       "TCGA-XX-A89A  Research Gross Description. Research Dx. Left ...   \n",
       "TCGA-Z7-A8R5  ADDENDUM. Addendum #1. Entered. BREAST CANCER ...   \n",
       "TCGA-Z7-A8R6  ADDENDUM. Addendum #1. Entered: : BREAST CANCE...   \n",
       "\n",
       "             PR_STATUS_BY_IHC NTE_PR_STATUS_BY_IHC NTE_ER_STATUS  \\\n",
       "TCGA-3C-AALI         Positive                  NaN           NaN   \n",
       "TCGA-3C-AALJ         Positive                  NaN           NaN   \n",
       "TCGA-3C-AALK         Positive                  NaN           NaN   \n",
       "TCGA-4H-AAAK         Positive                  NaN           NaN   \n",
       "TCGA-5L-AAT0         Positive                  NaN           NaN   \n",
       "...                       ...                  ...           ...   \n",
       "TCGA-WT-AB41         Positive                  NaN           NaN   \n",
       "TCGA-WT-AB44         Positive                  NaN           NaN   \n",
       "TCGA-XX-A89A         Positive                  NaN           NaN   \n",
       "TCGA-Z7-A8R5         Positive                  NaN           NaN   \n",
       "TCGA-Z7-A8R6         Positive                  NaN           NaN   \n",
       "\n",
       "             ER_STATUS_BY_IHC       IHC_HER2 HER2_FISH_STATUS NTE_HER2_STATUS  \n",
       "TCGA-3C-AALI         Positive       Positive              NaN             NaN  \n",
       "TCGA-3C-AALJ         Positive  Indeterminate              NaN             NaN  \n",
       "TCGA-3C-AALK         Positive       Positive              NaN             NaN  \n",
       "TCGA-4H-AAAK         Positive      Equivocal              NaN             NaN  \n",
       "TCGA-5L-AAT0         Positive       Negative              NaN             NaN  \n",
       "...                       ...            ...              ...             ...  \n",
       "TCGA-WT-AB41         Positive            NaN              NaN             NaN  \n",
       "TCGA-WT-AB44         Positive       Negative              NaN             NaN  \n",
       "TCGA-XX-A89A         Positive       Negative              NaN             NaN  \n",
       "TCGA-Z7-A8R5         Positive       Negative              NaN             NaN  \n",
       "TCGA-Z7-A8R6         Positive       Negative              NaN             NaN  \n",
       "\n",
       "[1033 rows x 8 columns]"
      ]
     },
     "execution_count": 10,
     "metadata": {},
     "output_type": "execute_result"
    }
   ],
   "source": [
    "exams_df[['text', 'PR_STATUS_BY_IHC', 'NTE_PR_STATUS_BY_IHC', 'NTE_ER_STATUS', 'ER_STATUS_BY_IHC', 'IHC_HER2', 'HER2_FISH_STATUS', 'NTE_HER2_STATUS']]"
   ]
  },
  {
   "cell_type": "code",
   "execution_count": 5,
   "metadata": {},
   "outputs": [],
   "source": [
    "statuses = ['Negative', 'Positive']"
   ]
  },
  {
   "cell_type": "code",
   "execution_count": 6,
   "metadata": {},
   "outputs": [],
   "source": [
    "def get_status_code(status: str):\n",
    "    if status == 'Negative': return 0\n",
    "    elif status == 'Positive': return 1\n",
    "    else: return np.nan"
   ]
  },
  {
   "cell_type": "code",
   "execution_count": 7,
   "metadata": {},
   "outputs": [],
   "source": [
    "def get_er_status(row: pd.Series):\n",
    "    if row['ER_STATUS_BY_IHC'] in statuses:\n",
    "        return get_status_code(row['ER_STATUS_BY_IHC'])\n",
    "    if row['NTE_ER_STATUS'] in statuses:\n",
    "        return get_status_code(row['NTE_ER_STATUS'])\n",
    "\n",
    "    return np.nan"
   ]
  },
  {
   "cell_type": "code",
   "execution_count": 8,
   "metadata": {},
   "outputs": [],
   "source": [
    "def get_her2_status(row: pd.Series):\n",
    "    if row['IHC_HER2'] in statuses:\n",
    "        return get_status_code(row['IHC_HER2'])\n",
    "    if row['HER2_FISH_STATUS'] in statuses:\n",
    "        return get_status_code(row['HER2_FISH_STATUS'])\n",
    "    if row['NTE_HER2_STATUS'] in statuses:\n",
    "        return get_status_code(row['NTE_HER2_STATUS'])\n",
    "    return np.nan"
   ]
  },
  {
   "cell_type": "code",
   "execution_count": 9,
   "metadata": {},
   "outputs": [],
   "source": [
    "def get_pr_status(row: pd.Series):\n",
    "    if row['PR_STATUS_BY_IHC'] in statuses:\n",
    "        return get_status_code(row['PR_STATUS_BY_IHC'])\n",
    "    if row['NTE_PR_STATUS_BY_IHC'] in statuses:\n",
    "        return get_status_code(row['NTE_PR_STATUS'])\n",
    "\n",
    "    return np.nan"
   ]
  },
  {
   "cell_type": "code",
   "execution_count": 10,
   "metadata": {},
   "outputs": [],
   "source": [
    "def get_hr_status(row: pd.Series):\n",
    "    if row['ER'] == 1 or row['PR'] == 1:\n",
    "        return 1\n",
    "    if row['ER'] == 0 and row['PR'] == 0:\n",
    "        return 0\n",
    "\n",
    "    return np.nan"
   ]
  },
  {
   "cell_type": "code",
   "execution_count": 17,
   "metadata": {},
   "outputs": [],
   "source": [
    "def get_cancer_subtype2(row: pd.Series):\n",
    "    if row['HR'] == 0 and row['HER2'] == 0: return \"TNBC\"\n",
    "    if row['HR'] == 1 and row['HER2'] == 0: return \"Luminal A\"\n",
    "    if row['HR'] == 1 and row['HER2'] == 1: return \"Luminal B\"\n",
    "    if row['HR'] == 0 and row['HER2'] == 1: return \"HER2+\"\n",
    "    return np.nan"
   ]
  },
  {
   "cell_type": "code",
   "execution_count": 12,
   "metadata": {},
   "outputs": [],
   "source": [
    "def get_cancer_subtype(row: pd.Series):\n",
    "    if row['HR'] == 0 and row['HER2'] == 0: return \"TNBC\"\n",
    "    if row['HR'] == 1 and row['HER2'] == 0: return \"HR+\"\n",
    "    if row['HER2'] == 1: return \"HER2+\"\n",
    "    return np.nan"
   ]
  },
  {
   "cell_type": "code",
   "execution_count": 13,
   "metadata": {},
   "outputs": [],
   "source": [
    "def get_targets(row: pd.Series):\n",
    "    if row['HR'] == 1 and row['HER2'] == 0: return [1, 0, 0]\n",
    "    if row['HR'] == 1 and row['HER2'] == 1: return [0, 1, 0]\n",
    "    if row['HR'] == 0: return [0, 0, 1]\n",
    "    return np.nan"
   ]
  },
  {
   "cell_type": "code",
   "execution_count": 21,
   "metadata": {},
   "outputs": [],
   "source": [
    "bcr_patient_df\n",
    "bcr_patient_df['HER2'] = bcr_patient_df.apply(get_her2_status, axis=1)\n",
    "bcr_patient_df['ER'] = bcr_patient_df.apply(get_er_status, axis=1)\n",
    "bcr_patient_df['PR'] = bcr_patient_df.apply(get_pr_status, axis=1)\n",
    "bcr_patient_df['HR'] = bcr_patient_df.apply(get_hr_status, axis=1)\n",
    "bcr_patient_df['subtype2'] = bcr_patient_df.apply(get_cancer_subtype2, axis=1)\n",
    "bcr_patient_df['subtype'] = bcr_patient_df.apply(get_cancer_subtype, axis=1)"
   ]
  },
  {
   "cell_type": "code",
   "execution_count": 24,
   "metadata": {},
   "outputs": [
    {
     "data": {
      "text/plain": [
       "(1096,)"
      ]
     },
     "execution_count": 24,
     "metadata": {},
     "output_type": "execute_result"
    }
   ],
   "source": [
    "bcr_patient_df['subtype'].shape"
   ]
  },
  {
   "cell_type": "code",
   "execution_count": 19,
   "metadata": {},
   "outputs": [],
   "source": [
    "exams_df['HER2'] = exams_df.apply(get_her2_status, axis=1)\n",
    "exams_df['ER'] = exams_df.apply(get_er_status, axis=1)\n",
    "exams_df['PR'] = exams_df.apply(get_pr_status, axis=1)\n",
    "exams_df['HR'] = exams_df.apply(get_hr_status, axis=1)"
   ]
  },
  {
   "cell_type": "code",
   "execution_count": 21,
   "metadata": {},
   "outputs": [],
   "source": [
    "missing_df = exams_df[(exams_df['HER2'].isna()) | (exams_df['HR'].isna())]\n",
    "missing_df.index.to_series().to_csv('./negative_df.csv')"
   ]
  },
  {
   "cell_type": "code",
   "execution_count": 22,
   "metadata": {},
   "outputs": [
    {
     "data": {
      "text/html": [
       "<div>\n",
       "<style scoped>\n",
       "    .dataframe tbody tr th:only-of-type {\n",
       "        vertical-align: middle;\n",
       "    }\n",
       "\n",
       "    .dataframe tbody tr th {\n",
       "        vertical-align: top;\n",
       "    }\n",
       "\n",
       "    .dataframe thead th {\n",
       "        text-align: right;\n",
       "    }\n",
       "</style>\n",
       "<table border=\"1\" class=\"dataframe\">\n",
       "  <thead>\n",
       "    <tr style=\"text-align: right;\">\n",
       "      <th></th>\n",
       "      <th>subtype</th>\n",
       "    </tr>\n",
       "    <tr>\n",
       "      <th>patients_id</th>\n",
       "      <th></th>\n",
       "    </tr>\n",
       "  </thead>\n",
       "  <tbody>\n",
       "    <tr>\n",
       "      <th>TCGA-C8-A27A</th>\n",
       "      <td>HR+</td>\n",
       "    </tr>\n",
       "    <tr>\n",
       "      <th>TCGA-AR-A0TW</th>\n",
       "      <td>HR+</td>\n",
       "    </tr>\n",
       "    <tr>\n",
       "      <th>TCGA-A1-A0SH</th>\n",
       "      <td>HR+</td>\n",
       "    </tr>\n",
       "    <tr>\n",
       "      <th>TCGA-A2-A0EW</th>\n",
       "      <td>HR+</td>\n",
       "    </tr>\n",
       "    <tr>\n",
       "      <th>TCGA-GM-A2DN</th>\n",
       "      <td>HR+</td>\n",
       "    </tr>\n",
       "    <tr>\n",
       "      <th>...</th>\n",
       "      <td>...</td>\n",
       "    </tr>\n",
       "    <tr>\n",
       "      <th>TCGA-E9-A229</th>\n",
       "      <td>HR+</td>\n",
       "    </tr>\n",
       "    <tr>\n",
       "      <th>TCGA-A8-A08P</th>\n",
       "      <td>HER2+</td>\n",
       "    </tr>\n",
       "    <tr>\n",
       "      <th>TCGA-A8-A09W</th>\n",
       "      <td>HR+</td>\n",
       "    </tr>\n",
       "    <tr>\n",
       "      <th>TCGA-E2-A14U</th>\n",
       "      <td>HR+</td>\n",
       "    </tr>\n",
       "    <tr>\n",
       "      <th>TCGA-D8-A1XM</th>\n",
       "      <td>HR+</td>\n",
       "    </tr>\n",
       "  </tbody>\n",
       "</table>\n",
       "<p>981 rows × 1 columns</p>\n",
       "</div>"
      ],
      "text/plain": [
       "             subtype\n",
       "patients_id         \n",
       "TCGA-C8-A27A     HR+\n",
       "TCGA-AR-A0TW     HR+\n",
       "TCGA-A1-A0SH     HR+\n",
       "TCGA-A2-A0EW     HR+\n",
       "TCGA-GM-A2DN     HR+\n",
       "...              ...\n",
       "TCGA-E9-A229     HR+\n",
       "TCGA-A8-A08P   HER2+\n",
       "TCGA-A8-A09W     HR+\n",
       "TCGA-E2-A14U     HR+\n",
       "TCGA-D8-A1XM     HR+\n",
       "\n",
       "[981 rows x 1 columns]"
      ]
     },
     "execution_count": 22,
     "metadata": {},
     "output_type": "execute_result"
    }
   ],
   "source": [
    "rna_seq_df = pd.read_excel('../data/BRCA_predicted_subtypes.xlsx', index_col='patients_id')\n",
    "# rna_seq_df = rna_seq_df.apply(get_new_rna_row, axis=1)\n",
    "rna_seq_df"
   ]
  },
  {
   "cell_type": "code",
   "execution_count": 23,
   "metadata": {},
   "outputs": [],
   "source": [
    "def get_new_missing_row(row: pd.Series):\n",
    "    # print(row)\n",
    "    her2 = row['HER'] if np.isnan(row['HER2']) else row['HER2']\n",
    "    hr = row['HR_rna'] if np.isnan(row['HR']) else row['HR']\n",
    "\n",
    "    return pd.Series({'HER2': her2, 'HR': hr})"
   ]
  },
  {
   "cell_type": "code",
   "execution_count": 24,
   "metadata": {},
   "outputs": [
    {
     "data": {
      "text/plain": [
       "<AxesSubplot:>"
      ]
     },
     "execution_count": 24,
     "metadata": {},
     "output_type": "execute_result"
    },
    {
     "data": {
      "image/png": "[encoded data removed]",
      "text/plain": [
       "<Figure size 640x480 with 1 Axes>"
      ]
     },
     "metadata": {},
     "output_type": "display_data"
    }
   ],
   "source": [
    "missing_rna_df = pd.merge(missing_df, rna_seq_df, left_index=True, right_index=True, suffixes=(None, '_rna'))\n",
    "# print(missing_rna_df.head())\n",
    "# missing_rna_df = missing_rna_df.apply(get_new_missing_row, axis=1).apply(get_cancer_subtype, axis=1)\n",
    "missing_rna_df['subtype'].value_counts().plot(kind='bar')"
   ]
  },
  {
   "cell_type": "code",
   "execution_count": 25,
   "metadata": {},
   "outputs": [
    {
     "name": "stderr",
     "output_type": "stream",
     "text": [
      "C:\\Users\\jswietek\\AppData\\Local\\Temp\\2\\ipykernel_5796\\774475314.py:2: SettingWithCopyWarning: \n",
      "A value is trying to be set on a copy of a slice from a DataFrame.\n",
      "Try using .loc[row_indexer,col_indexer] = value instead\n",
      "\n",
      "See the caveats in the documentation: https://pandas.pydata.org/pandas-docs/stable/user_guide/indexing.html#returning-a-view-versus-a-copy\n",
      "  df['SUBTYPE'] = df.apply(get_cancer_subtype, axis=1)\n"
     ]
    },
    {
     "data": {
      "text/plain": [
       "<AxesSubplot:>"
      ]
     },
     "execution_count": 25,
     "metadata": {},
     "output_type": "execute_result"
    },
    {
     "data": {
      "image/png": "[encoded data removed]",
      "text/plain": [
       "<Figure size 640x480 with 1 Axes>"
      ]
     },
     "metadata": {},
     "output_type": "display_data"
    }
   ],
   "source": [
    "df = exams_df[(~exams_df['HER2'].isna()) & (~exams_df['HR'].isna())]\n",
    "df['SUBTYPE'] = df.apply(get_cancer_subtype, axis=1)\n",
    "# df.to_csv('../data/processed_df2.csv')\n",
    "df['SUBTYPE'].value_counts().plot(kind='bar')"
   ]
  },
  {
   "cell_type": "code",
   "execution_count": 26,
   "metadata": {},
   "outputs": [
    {
     "data": {
      "text/plain": [
       "HR+      575\n",
       "HER2+    181\n",
       "TNBC     151\n",
       "Name: SUBTYPE, dtype: int64"
      ]
     },
     "execution_count": 26,
     "metadata": {},
     "output_type": "execute_result"
    }
   ],
   "source": [
    "df['SUBTYPE'].value_counts()"
   ]
  },
  {
   "cell_type": "code",
   "execution_count": 27,
   "metadata": {},
   "outputs": [
    {
     "name": "stdout",
     "output_type": "stream",
     "text": [
      "(817, 121) (90, 121)\n"
     ]
    },
    {
     "data": {
      "text/html": [
       "<div>\n",
       "<style scoped>\n",
       "    .dataframe tbody tr th:only-of-type {\n",
       "        vertical-align: middle;\n",
       "    }\n",
       "\n",
       "    .dataframe tbody tr th {\n",
       "        vertical-align: top;\n",
       "    }\n",
       "\n",
       "    .dataframe thead th {\n",
       "        text-align: right;\n",
       "    }\n",
       "</style>\n",
       "<table border=\"1\" class=\"dataframe\">\n",
       "  <thead>\n",
       "    <tr style=\"text-align: right;\">\n",
       "      <th></th>\n",
       "      <th>OTHER_PATIENT_ID</th>\n",
       "      <th>FORM_COMPLETION_DATE</th>\n",
       "      <th>PROSPECTIVE_COLLECTION</th>\n",
       "      <th>RETROSPECTIVE_COLLECTION</th>\n",
       "      <th>DAYS_TO_BIRTH</th>\n",
       "      <th>GENDER</th>\n",
       "      <th>MENOPAUSE_STATUS</th>\n",
       "      <th>RACE</th>\n",
       "      <th>ETHNICITY</th>\n",
       "      <th>HISTORY_OTHER_MALIGNANCY</th>\n",
       "      <th>...</th>\n",
       "      <th>OS_MONTHS</th>\n",
       "      <th>DFS_STATUS</th>\n",
       "      <th>DFS_MONTHS</th>\n",
       "      <th>text</th>\n",
       "      <th>patient_filename</th>\n",
       "      <th>HER2</th>\n",
       "      <th>ER</th>\n",
       "      <th>PR</th>\n",
       "      <th>HR</th>\n",
       "      <th>SUBTYPE</th>\n",
       "    </tr>\n",
       "  </thead>\n",
       "  <tbody>\n",
       "    <tr>\n",
       "      <th>TCGA-3C-AALI</th>\n",
       "      <td>55262FCB-1B01-4480-B322-36570430C917</td>\n",
       "      <td>2014-7-28</td>\n",
       "      <td>NO</td>\n",
       "      <td>YES</td>\n",
       "      <td>-18538.0</td>\n",
       "      <td>FEMALE</td>\n",
       "      <td>Post (prior bilateral ovariectomy OR &gt;12 mo si...</td>\n",
       "      <td>BLACK OR AFRICAN AMERICAN</td>\n",
       "      <td>NOT HISPANIC OR LATINO</td>\n",
       "      <td>No</td>\n",
       "      <td>...</td>\n",
       "      <td>131.57</td>\n",
       "      <td>DiseaseFree</td>\n",
       "      <td>131.57</td>\n",
       "      <td>Path No.: Date Obtained: (Age: ). Date Receive...</td>\n",
       "      <td>TCGA-3C-AALI.84E6A935-1A49-4BC1-9669-3DEA161CF6FC</td>\n",
       "      <td>1.0</td>\n",
       "      <td>1.0</td>\n",
       "      <td>1.0</td>\n",
       "      <td>1.0</td>\n",
       "      <td>HER2+</td>\n",
       "    </tr>\n",
       "    <tr>\n",
       "      <th>TCGA-3C-AALK</th>\n",
       "      <td>C31900A4-5DCD-4022-97AC-638E86E889E4</td>\n",
       "      <td>2014-7-28</td>\n",
       "      <td>NO</td>\n",
       "      <td>YES</td>\n",
       "      <td>-19074.0</td>\n",
       "      <td>FEMALE</td>\n",
       "      <td>NaN</td>\n",
       "      <td>BLACK OR AFRICAN AMERICAN</td>\n",
       "      <td>NOT HISPANIC OR LATINO</td>\n",
       "      <td>No</td>\n",
       "      <td>...</td>\n",
       "      <td>47.57</td>\n",
       "      <td>DiseaseFree</td>\n",
       "      <td>47.57</td>\n",
       "      <td>Path No.: Date Obtained: (Age: ). Date Receive...</td>\n",
       "      <td>TCGA-3C-AALK.F43B01E6-E1DB-44B1-8003-93870606346A</td>\n",
       "      <td>1.0</td>\n",
       "      <td>1.0</td>\n",
       "      <td>1.0</td>\n",
       "      <td>1.0</td>\n",
       "      <td>HER2+</td>\n",
       "    </tr>\n",
       "    <tr>\n",
       "      <th>TCGA-5L-AAT0</th>\n",
       "      <td>86C6F993-327F-4525-9983-29C55625593A</td>\n",
       "      <td>2014-8-15</td>\n",
       "      <td>NO</td>\n",
       "      <td>YES</td>\n",
       "      <td>-15393.0</td>\n",
       "      <td>FEMALE</td>\n",
       "      <td>Post (prior bilateral ovariectomy OR &gt;12 mo si...</td>\n",
       "      <td>WHITE</td>\n",
       "      <td>HISPANIC OR LATINO</td>\n",
       "      <td>Yes</td>\n",
       "      <td>...</td>\n",
       "      <td>48.52</td>\n",
       "      <td>DiseaseFree</td>\n",
       "      <td>48.52</td>\n",
       "      <td>Gender: Female. Color: White. Origin: Nature o...</td>\n",
       "      <td>TCGA-5L-AAT0.F9B6971F-23C0-465F-BFEC-778BF228A1AE</td>\n",
       "      <td>0.0</td>\n",
       "      <td>1.0</td>\n",
       "      <td>1.0</td>\n",
       "      <td>1.0</td>\n",
       "      <td>HR+</td>\n",
       "    </tr>\n",
       "    <tr>\n",
       "      <th>TCGA-A1-A0SB</th>\n",
       "      <td>0045349c-69d9-4306-a403-c9c1fa836644</td>\n",
       "      <td>2011-6-30</td>\n",
       "      <td>NO</td>\n",
       "      <td>YES</td>\n",
       "      <td>-25833.0</td>\n",
       "      <td>FEMALE</td>\n",
       "      <td>Post (prior bilateral ovariectomy OR &gt;12 mo si...</td>\n",
       "      <td>WHITE</td>\n",
       "      <td>NOT HISPANIC OR LATINO</td>\n",
       "      <td>No</td>\n",
       "      <td>...</td>\n",
       "      <td>8.51</td>\n",
       "      <td>DiseaseFree</td>\n",
       "      <td>8.51</td>\n",
       "      <td>Final Pathologic Diagnosis: A. Sentinel lymph ...</td>\n",
       "      <td>TCGA-A1-A0SB.BEC7EEA9-6DEA-4402-A3A1-07EF33D58174</td>\n",
       "      <td>0.0</td>\n",
       "      <td>1.0</td>\n",
       "      <td>0.0</td>\n",
       "      <td>1.0</td>\n",
       "      <td>HR+</td>\n",
       "    </tr>\n",
       "    <tr>\n",
       "      <th>TCGA-A1-A0SD</th>\n",
       "      <td>c462e422-eb8d-4daf-9897-2a9c6cbd783a</td>\n",
       "      <td>2011-9-7</td>\n",
       "      <td>NO</td>\n",
       "      <td>YES</td>\n",
       "      <td>-21793.0</td>\n",
       "      <td>FEMALE</td>\n",
       "      <td>NaN</td>\n",
       "      <td>WHITE</td>\n",
       "      <td>NOT HISPANIC OR LATINO</td>\n",
       "      <td>No</td>\n",
       "      <td>...</td>\n",
       "      <td>14.36</td>\n",
       "      <td>DiseaseFree</td>\n",
       "      <td>14.36</td>\n",
       "      <td>Final Pathologic Diagnosis: A. Sentinel lymph ...</td>\n",
       "      <td>TCGA-A1-A0SD.DD89D265-9E20-49C2-93BD-666BE7D5E41B</td>\n",
       "      <td>0.0</td>\n",
       "      <td>1.0</td>\n",
       "      <td>1.0</td>\n",
       "      <td>1.0</td>\n",
       "      <td>HR+</td>\n",
       "    </tr>\n",
       "  </tbody>\n",
       "</table>\n",
       "<p>5 rows × 121 columns</p>\n",
       "</div>"
      ],
      "text/plain": [
       "                                  OTHER_PATIENT_ID FORM_COMPLETION_DATE  \\\n",
       "TCGA-3C-AALI  55262FCB-1B01-4480-B322-36570430C917            2014-7-28   \n",
       "TCGA-3C-AALK  C31900A4-5DCD-4022-97AC-638E86E889E4            2014-7-28   \n",
       "TCGA-5L-AAT0  86C6F993-327F-4525-9983-29C55625593A            2014-8-15   \n",
       "TCGA-A1-A0SB  0045349c-69d9-4306-a403-c9c1fa836644            2011-6-30   \n",
       "TCGA-A1-A0SD  c462e422-eb8d-4daf-9897-2a9c6cbd783a             2011-9-7   \n",
       "\n",
       "             PROSPECTIVE_COLLECTION RETROSPECTIVE_COLLECTION  DAYS_TO_BIRTH  \\\n",
       "TCGA-3C-AALI                     NO                      YES       -18538.0   \n",
       "TCGA-3C-AALK                     NO                      YES       -19074.0   \n",
       "TCGA-5L-AAT0                     NO                      YES       -15393.0   \n",
       "TCGA-A1-A0SB                     NO                      YES       -25833.0   \n",
       "TCGA-A1-A0SD                     NO                      YES       -21793.0   \n",
       "\n",
       "              GENDER                                   MENOPAUSE_STATUS  \\\n",
       "TCGA-3C-AALI  FEMALE  Post (prior bilateral ovariectomy OR >12 mo si...   \n",
       "TCGA-3C-AALK  FEMALE                                                NaN   \n",
       "TCGA-5L-AAT0  FEMALE  Post (prior bilateral ovariectomy OR >12 mo si...   \n",
       "TCGA-A1-A0SB  FEMALE  Post (prior bilateral ovariectomy OR >12 mo si...   \n",
       "TCGA-A1-A0SD  FEMALE                                                NaN   \n",
       "\n",
       "                                   RACE               ETHNICITY  \\\n",
       "TCGA-3C-AALI  BLACK OR AFRICAN AMERICAN  NOT HISPANIC OR LATINO   \n",
       "TCGA-3C-AALK  BLACK OR AFRICAN AMERICAN  NOT HISPANIC OR LATINO   \n",
       "TCGA-5L-AAT0                      WHITE      HISPANIC OR LATINO   \n",
       "TCGA-A1-A0SB                      WHITE  NOT HISPANIC OR LATINO   \n",
       "TCGA-A1-A0SD                      WHITE  NOT HISPANIC OR LATINO   \n",
       "\n",
       "             HISTORY_OTHER_MALIGNANCY  ... OS_MONTHS   DFS_STATUS DFS_MONTHS  \\\n",
       "TCGA-3C-AALI                       No  ...    131.57  DiseaseFree     131.57   \n",
       "TCGA-3C-AALK                       No  ...     47.57  DiseaseFree      47.57   \n",
       "TCGA-5L-AAT0                      Yes  ...     48.52  DiseaseFree      48.52   \n",
       "TCGA-A1-A0SB                       No  ...      8.51  DiseaseFree       8.51   \n",
       "TCGA-A1-A0SD                       No  ...     14.36  DiseaseFree      14.36   \n",
       "\n",
       "                                                           text  \\\n",
       "TCGA-3C-AALI  Path No.: Date Obtained: (Age: ). Date Receive...   \n",
       "TCGA-3C-AALK  Path No.: Date Obtained: (Age: ). Date Receive...   \n",
       "TCGA-5L-AAT0  Gender: Female. Color: White. Origin: Nature o...   \n",
       "TCGA-A1-A0SB  Final Pathologic Diagnosis: A. Sentinel lymph ...   \n",
       "TCGA-A1-A0SD  Final Pathologic Diagnosis: A. Sentinel lymph ...   \n",
       "\n",
       "                                               patient_filename HER2   ER  \\\n",
       "TCGA-3C-AALI  TCGA-3C-AALI.84E6A935-1A49-4BC1-9669-3DEA161CF6FC  1.0  1.0   \n",
       "TCGA-3C-AALK  TCGA-3C-AALK.F43B01E6-E1DB-44B1-8003-93870606346A  1.0  1.0   \n",
       "TCGA-5L-AAT0  TCGA-5L-AAT0.F9B6971F-23C0-465F-BFEC-778BF228A1AE  0.0  1.0   \n",
       "TCGA-A1-A0SB  TCGA-A1-A0SB.BEC7EEA9-6DEA-4402-A3A1-07EF33D58174  0.0  1.0   \n",
       "TCGA-A1-A0SD  TCGA-A1-A0SD.DD89D265-9E20-49C2-93BD-666BE7D5E41B  0.0  1.0   \n",
       "\n",
       "               PR   HR  SUBTYPE  \n",
       "TCGA-3C-AALI  1.0  1.0    HER2+  \n",
       "TCGA-3C-AALK  1.0  1.0    HER2+  \n",
       "TCGA-5L-AAT0  1.0  1.0      HR+  \n",
       "TCGA-A1-A0SB  0.0  1.0      HR+  \n",
       "TCGA-A1-A0SD  1.0  1.0      HR+  \n",
       "\n",
       "[5 rows x 121 columns]"
      ]
     },
     "execution_count": 27,
     "metadata": {},
     "output_type": "execute_result"
    }
   ],
   "source": [
    "def get_train_test_split(df: pd.DataFrame, group_sample_size: int=50, target_column: str=\"SUBTYPE\", same_train_classes_count: bool = False):\n",
    "    test_df = pd.DataFrame(columns=df.columns)\n",
    "    for c in df[target_column].unique():\n",
    "        test_df = pd.concat([df[df[target_column] == c].sample(group_sample_size, random_state=420).loc[:], test_df.loc[:]])\n",
    "    train_df = df.loc[~df.index.isin(test_df.index)]\n",
    "    \n",
    "    if same_train_classes_count:\n",
    "        train_df2 = pd.DataFrame(columns=df.columns)\n",
    "        max_sample = np.min(df['SUBTYPE'].value_counts().iloc[0:3].to_numpy())\n",
    "        for c in df[target_column].unique():\n",
    "            train_df2 = pd.concat([df[df[target_column] == c].sample(max_sample, random_state=420).loc[:], train_df2.loc[:]])\n",
    "        train_df = train_df2\n",
    "\n",
    "    return train_df, test_df\n",
    "\n",
    "train_df, test_df = get_train_test_split(df, group_sample_size=30)\n",
    "print(train_df.shape, test_df.shape)\n",
    "train_df.head()"
   ]
  },
  {
   "cell_type": "code",
   "execution_count": 28,
   "metadata": {},
   "outputs": [
    {
     "name": "stderr",
     "output_type": "stream",
     "text": [
      "d:\\jswietek\\mgr\\env\\lib\\site-packages\\transformers\\models\\t5\\tokenization_t5_fast.py:160: FutureWarning: This tokenizer was incorrectly instantiated with a model max length of 512 which will be corrected in Transformers v5.\n",
      "For now, this behavior is kept to avoid breaking backwards compatibility when padding/encoding with `truncation is True`.\n",
      "- Be aware that you SHOULD NOT rely on t5-base automatically truncating your input to 512 when padding/encoding.\n",
      "- If you want to encode/pad to sequences longer than 512 you can either instantiate this tokenizer with `model_max_length` or pass `max_length` when encoding/padding.\n",
      "- To avoid this warning, please instantiate this tokenizer with `model_max_length` set to your preferred value.\n",
      "  warnings.warn(\n"
     ]
    }
   ],
   "source": [
    "from textaugment import Wordnet\n",
    "from textaugment import Translate, EDA\n",
    "import albumentations as A\n",
    "from nlpaug.augmenter import sentence, char\n",
    "\n",
    "translate_aug = Translate(src=\"en\", to=\"fr\")\n",
    "eda = EDA()\n",
    "shuffle_aug = sentence.RandomSentAug(mode='random')\n",
    "cont_aug = sentence.AbstSummAug(max_length = 3000, device = 'cuda')\n",
    "\n",
    "def augment_data(df: pd.DataFrame, types_to_augment: list[str]):\n",
    "    res = df.copy()\n",
    "\n",
    "    for ty in types_to_augment:\n",
    "        translated_df = df[df['SUBTYPE'] == ty].copy()\n",
    "        # shufled_df = df[df['SUBTYPE'] == ty].copy()\n",
    "        translated_df['text'] = translated_df['text'].apply(lambda x: translate_aug.augment(x))\n",
    "        # shufled_df['text'] = pd.concat((shufled_df, translated_df)) translated_df['text'].apply(lambda x: shuffle_aug.augment(x))\n",
    "        res = pd.concat((res, translated_df))\n",
    "    return res\n",
    "\n",
    "augmented_train_df = augment_data(train_df, ['HER2+', 'TNBC'])\n",
    "\n",
    "def sentence_aug(df: pd.DataFrame):\n",
    "    res = df.copy()\n",
    "\n",
    "    shufled_df = res.copy()\n",
    "    shufled_df['text'] = shufled_df['text'].apply(lambda x: shuffle_aug.augment(x)[0])\n",
    "    return pd.concat((res, shufled_df))\n",
    "\n",
    "augmented_train_df2 = sentence_aug(augmented_train_df)\n",
    "\n",
    "random_aug = char.RandomCharAug()\n",
    "def char_aug(df: pd.DataFrame):\n",
    "    res = df.copy()\n",
    "\n",
    "    shufled_df = res.copy()\n",
    "    shufled_df['text'] = shufled_df['text'].apply(lambda x: random_aug.augment(x)[0])\n",
    "    return pd.concat((res, shufled_df))\n",
    "\n",
    "augmented_train_df3 = char_aug(augmented_train_df2)"
   ]
  },
  {
   "cell_type": "code",
   "execution_count": 29,
   "metadata": {},
   "outputs": [
    {
     "name": "stderr",
     "output_type": "stream",
     "text": [
      "Token indices sequence length is longer than the specified maximum sequence length for this model (1753 > 512). Running this sequence through the model will result in indexing errors\n"
     ]
    },
    {
     "ename": "OutOfMemoryError",
     "evalue": "CUDA out of memory. Tried to allocate 2.97 GiB. GPU 0 has a total capacty of 12.00 GiB of which 2.21 GiB is free. Of the allocated memory 6.89 GiB is allocated by PyTorch, and 99.41 MiB is reserved by PyTorch but unallocated. If reserved but unallocated memory is large try setting max_split_size_mb to avoid fragmentation.  See documentation for Memory Management and PYTORCH_CUDA_ALLOC_CONF",
     "output_type": "error",
     "traceback": [
      "\u001b[1;31m---------------------------------------------------------------------------\u001b[0m",
      "\u001b[1;31mOutOfMemoryError\u001b[0m                          Traceback (most recent call last)",
      "\u001b[1;32m~\\AppData\\Local\\Temp\\2\\ipykernel_5796\\4046703601.py\u001b[0m in \u001b[0;36m<cell line: 8>\u001b[1;34m()\u001b[0m\n\u001b[0;32m      6\u001b[0m     \u001b[1;32mreturn\u001b[0m \u001b[0mpd\u001b[0m\u001b[1;33m.\u001b[0m\u001b[0mconcat\u001b[0m\u001b[1;33m(\u001b[0m\u001b[1;33m(\u001b[0m\u001b[0mres\u001b[0m\u001b[1;33m,\u001b[0m \u001b[0mshufled_df\u001b[0m\u001b[1;33m)\u001b[0m\u001b[1;33m)\u001b[0m\u001b[1;33m\u001b[0m\u001b[1;33m\u001b[0m\u001b[0m\n\u001b[0;32m      7\u001b[0m \u001b[1;33m\u001b[0m\u001b[0m\n\u001b[1;32m----> 8\u001b[1;33m \u001b[0maugmented_train_df4\u001b[0m \u001b[1;33m=\u001b[0m \u001b[0mcontextual_aug\u001b[0m\u001b[1;33m(\u001b[0m\u001b[0maugmented_train_df3\u001b[0m\u001b[1;33m)\u001b[0m\u001b[1;33m\u001b[0m\u001b[1;33m\u001b[0m\u001b[0m\n\u001b[0m\u001b[0;32m      9\u001b[0m \u001b[1;33m\u001b[0m\u001b[0m\n\u001b[0;32m     10\u001b[0m \u001b[0maugmented_train_df1\u001b[0m \u001b[1;33m=\u001b[0m \u001b[0maugmented_train_df\u001b[0m\u001b[1;33m\u001b[0m\u001b[1;33m\u001b[0m\u001b[0m\n",
      "\u001b[1;32m~\\AppData\\Local\\Temp\\2\\ipykernel_5796\\4046703601.py\u001b[0m in \u001b[0;36mcontextual_aug\u001b[1;34m(df)\u001b[0m\n\u001b[0;32m      3\u001b[0m \u001b[1;33m\u001b[0m\u001b[0m\n\u001b[0;32m      4\u001b[0m     \u001b[0mshufled_df\u001b[0m \u001b[1;33m=\u001b[0m \u001b[0mres\u001b[0m\u001b[1;33m.\u001b[0m\u001b[0mcopy\u001b[0m\u001b[1;33m(\u001b[0m\u001b[1;33m)\u001b[0m\u001b[1;33m\u001b[0m\u001b[1;33m\u001b[0m\u001b[0m\n\u001b[1;32m----> 5\u001b[1;33m     \u001b[0mshufled_df\u001b[0m\u001b[1;33m[\u001b[0m\u001b[1;34m'text'\u001b[0m\u001b[1;33m]\u001b[0m \u001b[1;33m=\u001b[0m \u001b[0mshufled_df\u001b[0m\u001b[1;33m[\u001b[0m\u001b[1;34m'text'\u001b[0m\u001b[1;33m]\u001b[0m\u001b[1;33m.\u001b[0m\u001b[0mapply\u001b[0m\u001b[1;33m(\u001b[0m\u001b[1;32mlambda\u001b[0m \u001b[0mx\u001b[0m\u001b[1;33m:\u001b[0m \u001b[0mcont_aug\u001b[0m\u001b[1;33m.\u001b[0m\u001b[0maugment\u001b[0m\u001b[1;33m(\u001b[0m\u001b[0mx\u001b[0m\u001b[1;33m)\u001b[0m\u001b[1;33m[\u001b[0m\u001b[1;36m0\u001b[0m\u001b[1;33m]\u001b[0m\u001b[1;33m)\u001b[0m\u001b[1;33m\u001b[0m\u001b[1;33m\u001b[0m\u001b[0m\n\u001b[0m\u001b[0;32m      6\u001b[0m     \u001b[1;32mreturn\u001b[0m \u001b[0mpd\u001b[0m\u001b[1;33m.\u001b[0m\u001b[0mconcat\u001b[0m\u001b[1;33m(\u001b[0m\u001b[1;33m(\u001b[0m\u001b[0mres\u001b[0m\u001b[1;33m,\u001b[0m \u001b[0mshufled_df\u001b[0m\u001b[1;33m)\u001b[0m\u001b[1;33m)\u001b[0m\u001b[1;33m\u001b[0m\u001b[1;33m\u001b[0m\u001b[0m\n\u001b[0;32m      7\u001b[0m \u001b[1;33m\u001b[0m\u001b[0m\n",
      "\u001b[1;32md:\\jswietek\\mgr\\env\\lib\\site-packages\\pandas\\core\\series.py\u001b[0m in \u001b[0;36mapply\u001b[1;34m(self, func, convert_dtype, args, **kwargs)\u001b[0m\n\u001b[0;32m   4355\u001b[0m         \u001b[0mdtype\u001b[0m\u001b[1;33m:\u001b[0m \u001b[0mfloat64\u001b[0m\u001b[1;33m\u001b[0m\u001b[1;33m\u001b[0m\u001b[0m\n\u001b[0;32m   4356\u001b[0m         \"\"\"\n\u001b[1;32m-> 4357\u001b[1;33m         \u001b[1;32mreturn\u001b[0m \u001b[0mSeriesApply\u001b[0m\u001b[1;33m(\u001b[0m\u001b[0mself\u001b[0m\u001b[1;33m,\u001b[0m \u001b[0mfunc\u001b[0m\u001b[1;33m,\u001b[0m \u001b[0mconvert_dtype\u001b[0m\u001b[1;33m,\u001b[0m \u001b[0margs\u001b[0m\u001b[1;33m,\u001b[0m \u001b[0mkwargs\u001b[0m\u001b[1;33m)\u001b[0m\u001b[1;33m.\u001b[0m\u001b[0mapply\u001b[0m\u001b[1;33m(\u001b[0m\u001b[1;33m)\u001b[0m\u001b[1;33m\u001b[0m\u001b[1;33m\u001b[0m\u001b[0m\n\u001b[0m\u001b[0;32m   4358\u001b[0m \u001b[1;33m\u001b[0m\u001b[0m\n\u001b[0;32m   4359\u001b[0m     def _reduce(\n",
      "\u001b[1;32md:\\jswietek\\mgr\\env\\lib\\site-packages\\pandas\\core\\apply.py\u001b[0m in \u001b[0;36mapply\u001b[1;34m(self)\u001b[0m\n\u001b[0;32m   1041\u001b[0m             \u001b[1;32mreturn\u001b[0m \u001b[0mself\u001b[0m\u001b[1;33m.\u001b[0m\u001b[0mapply_str\u001b[0m\u001b[1;33m(\u001b[0m\u001b[1;33m)\u001b[0m\u001b[1;33m\u001b[0m\u001b[1;33m\u001b[0m\u001b[0m\n\u001b[0;32m   1042\u001b[0m \u001b[1;33m\u001b[0m\u001b[0m\n\u001b[1;32m-> 1043\u001b[1;33m         \u001b[1;32mreturn\u001b[0m \u001b[0mself\u001b[0m\u001b[1;33m.\u001b[0m\u001b[0mapply_standard\u001b[0m\u001b[1;33m(\u001b[0m\u001b[1;33m)\u001b[0m\u001b[1;33m\u001b[0m\u001b[1;33m\u001b[0m\u001b[0m\n\u001b[0m\u001b[0;32m   1044\u001b[0m \u001b[1;33m\u001b[0m\u001b[0m\n\u001b[0;32m   1045\u001b[0m     \u001b[1;32mdef\u001b[0m \u001b[0magg\u001b[0m\u001b[1;33m(\u001b[0m\u001b[0mself\u001b[0m\u001b[1;33m)\u001b[0m\u001b[1;33m:\u001b[0m\u001b[1;33m\u001b[0m\u001b[1;33m\u001b[0m\u001b[0m\n",
      "\u001b[1;32md:\\jswietek\\mgr\\env\\lib\\site-packages\\pandas\\core\\apply.py\u001b[0m in \u001b[0;36mapply_standard\u001b[1;34m(self)\u001b[0m\n\u001b[0;32m   1096\u001b[0m                 \u001b[1;31m# List[Union[Callable[..., Any], str]]]]]\"; expected\u001b[0m\u001b[1;33m\u001b[0m\u001b[1;33m\u001b[0m\u001b[0m\n\u001b[0;32m   1097\u001b[0m                 \u001b[1;31m# \"Callable[[Any], Any]\"\u001b[0m\u001b[1;33m\u001b[0m\u001b[1;33m\u001b[0m\u001b[0m\n\u001b[1;32m-> 1098\u001b[1;33m                 mapped = lib.map_infer(\n\u001b[0m\u001b[0;32m   1099\u001b[0m                     \u001b[0mvalues\u001b[0m\u001b[1;33m,\u001b[0m\u001b[1;33m\u001b[0m\u001b[1;33m\u001b[0m\u001b[0m\n\u001b[0;32m   1100\u001b[0m                     \u001b[0mf\u001b[0m\u001b[1;33m,\u001b[0m  \u001b[1;31m# type: ignore[arg-type]\u001b[0m\u001b[1;33m\u001b[0m\u001b[1;33m\u001b[0m\u001b[0m\n",
      "\u001b[1;32md:\\jswietek\\mgr\\env\\lib\\site-packages\\pandas\\_libs\\lib.pyx\u001b[0m in \u001b[0;36mpandas._libs.lib.map_infer\u001b[1;34m()\u001b[0m\n",
      "\u001b[1;32m~\\AppData\\Local\\Temp\\2\\ipykernel_5796\\4046703601.py\u001b[0m in \u001b[0;36m<lambda>\u001b[1;34m(x)\u001b[0m\n\u001b[0;32m      3\u001b[0m \u001b[1;33m\u001b[0m\u001b[0m\n\u001b[0;32m      4\u001b[0m     \u001b[0mshufled_df\u001b[0m \u001b[1;33m=\u001b[0m \u001b[0mres\u001b[0m\u001b[1;33m.\u001b[0m\u001b[0mcopy\u001b[0m\u001b[1;33m(\u001b[0m\u001b[1;33m)\u001b[0m\u001b[1;33m\u001b[0m\u001b[1;33m\u001b[0m\u001b[0m\n\u001b[1;32m----> 5\u001b[1;33m     \u001b[0mshufled_df\u001b[0m\u001b[1;33m[\u001b[0m\u001b[1;34m'text'\u001b[0m\u001b[1;33m]\u001b[0m \u001b[1;33m=\u001b[0m \u001b[0mshufled_df\u001b[0m\u001b[1;33m[\u001b[0m\u001b[1;34m'text'\u001b[0m\u001b[1;33m]\u001b[0m\u001b[1;33m.\u001b[0m\u001b[0mapply\u001b[0m\u001b[1;33m(\u001b[0m\u001b[1;32mlambda\u001b[0m \u001b[0mx\u001b[0m\u001b[1;33m:\u001b[0m \u001b[0mcont_aug\u001b[0m\u001b[1;33m.\u001b[0m\u001b[0maugment\u001b[0m\u001b[1;33m(\u001b[0m\u001b[0mx\u001b[0m\u001b[1;33m)\u001b[0m\u001b[1;33m[\u001b[0m\u001b[1;36m0\u001b[0m\u001b[1;33m]\u001b[0m\u001b[1;33m)\u001b[0m\u001b[1;33m\u001b[0m\u001b[1;33m\u001b[0m\u001b[0m\n\u001b[0m\u001b[0;32m      6\u001b[0m     \u001b[1;32mreturn\u001b[0m \u001b[0mpd\u001b[0m\u001b[1;33m.\u001b[0m\u001b[0mconcat\u001b[0m\u001b[1;33m(\u001b[0m\u001b[1;33m(\u001b[0m\u001b[0mres\u001b[0m\u001b[1;33m,\u001b[0m \u001b[0mshufled_df\u001b[0m\u001b[1;33m)\u001b[0m\u001b[1;33m)\u001b[0m\u001b[1;33m\u001b[0m\u001b[1;33m\u001b[0m\u001b[0m\n\u001b[0;32m      7\u001b[0m \u001b[1;33m\u001b[0m\u001b[0m\n",
      "\u001b[1;32md:\\jswietek\\mgr\\env\\lib\\site-packages\\nlpaug\\base_augmenter.py\u001b[0m in \u001b[0;36maugment\u001b[1;34m(self, data, n, num_thread)\u001b[0m\n\u001b[0;32m     96\u001b[0m             \u001b[1;32melif\u001b[0m \u001b[0mself\u001b[0m\u001b[1;33m.\u001b[0m\u001b[0m__class__\u001b[0m\u001b[1;33m.\u001b[0m\u001b[0m__name__\u001b[0m \u001b[1;32min\u001b[0m \u001b[1;33m[\u001b[0m\u001b[1;34m'AbstSummAug'\u001b[0m\u001b[1;33m,\u001b[0m \u001b[1;34m'BackTranslationAug'\u001b[0m\u001b[1;33m,\u001b[0m \u001b[1;34m'ContextualWordEmbsAug'\u001b[0m\u001b[1;33m,\u001b[0m \u001b[1;34m'ContextualWordEmbsForSentenceAug'\u001b[0m\u001b[1;33m]\u001b[0m\u001b[1;33m:\u001b[0m\u001b[1;33m\u001b[0m\u001b[1;33m\u001b[0m\u001b[0m\n\u001b[0;32m     97\u001b[0m                 \u001b[1;32mfor\u001b[0m \u001b[0m_\u001b[0m \u001b[1;32min\u001b[0m \u001b[0mrange\u001b[0m\u001b[1;33m(\u001b[0m\u001b[0maug_num\u001b[0m\u001b[1;33m)\u001b[0m\u001b[1;33m:\u001b[0m\u001b[1;33m\u001b[0m\u001b[1;33m\u001b[0m\u001b[0m\n\u001b[1;32m---> 98\u001b[1;33m                     \u001b[0mresult\u001b[0m \u001b[1;33m=\u001b[0m \u001b[0maction_fx\u001b[0m\u001b[1;33m(\u001b[0m\u001b[0mclean_data\u001b[0m\u001b[1;33m)\u001b[0m\u001b[1;33m\u001b[0m\u001b[1;33m\u001b[0m\u001b[0m\n\u001b[0m\u001b[0;32m     99\u001b[0m                     \u001b[1;32mif\u001b[0m \u001b[0misinstance\u001b[0m\u001b[1;33m(\u001b[0m\u001b[0mresult\u001b[0m\u001b[1;33m,\u001b[0m \u001b[0mlist\u001b[0m\u001b[1;33m)\u001b[0m\u001b[1;33m:\u001b[0m\u001b[1;33m\u001b[0m\u001b[1;33m\u001b[0m\u001b[0m\n\u001b[0;32m    100\u001b[0m                         \u001b[0maugmented_results\u001b[0m\u001b[1;33m.\u001b[0m\u001b[0mextend\u001b[0m\u001b[1;33m(\u001b[0m\u001b[0mresult\u001b[0m\u001b[1;33m)\u001b[0m\u001b[1;33m\u001b[0m\u001b[1;33m\u001b[0m\u001b[0m\n",
      "\u001b[1;32md:\\jswietek\\mgr\\env\\lib\\site-packages\\nlpaug\\augmenter\\sentence\\abst_summ.py\u001b[0m in \u001b[0;36msubstitute\u001b[1;34m(self, data)\u001b[0m\n\u001b[0;32m     96\u001b[0m             \u001b[0mall_data\u001b[0m \u001b[1;33m=\u001b[0m \u001b[1;33m[\u001b[0m\u001b[0mdata\u001b[0m\u001b[1;33m]\u001b[0m\u001b[1;33m\u001b[0m\u001b[1;33m\u001b[0m\u001b[0m\n\u001b[0;32m     97\u001b[0m \u001b[1;33m\u001b[0m\u001b[0m\n\u001b[1;32m---> 98\u001b[1;33m         \u001b[1;32mreturn\u001b[0m \u001b[0mself\u001b[0m\u001b[1;33m.\u001b[0m\u001b[0mmodel\u001b[0m\u001b[1;33m.\u001b[0m\u001b[0mpredict\u001b[0m\u001b[1;33m(\u001b[0m\u001b[0mall_data\u001b[0m\u001b[1;33m)\u001b[0m\u001b[1;33m\u001b[0m\u001b[1;33m\u001b[0m\u001b[0m\n\u001b[0m\u001b[0;32m     99\u001b[0m \u001b[1;33m\u001b[0m\u001b[0m\n\u001b[0;32m    100\u001b[0m     \u001b[1;33m@\u001b[0m\u001b[0mclassmethod\u001b[0m\u001b[1;33m\u001b[0m\u001b[1;33m\u001b[0m\u001b[0m\n",
      "\u001b[1;32md:\\jswietek\\mgr\\env\\lib\\site-packages\\nlpaug\\model\\lang_models\\t5.py\u001b[0m in \u001b[0;36mpredict\u001b[1;34m(self, texts, n)\u001b[0m\n\u001b[0;32m     65\u001b[0m         \u001b[0mresults\u001b[0m \u001b[1;33m=\u001b[0m \u001b[1;33m[\u001b[0m\u001b[1;33m]\u001b[0m\u001b[1;33m\u001b[0m\u001b[1;33m\u001b[0m\u001b[0m\n\u001b[0;32m     66\u001b[0m         \u001b[1;32mwith\u001b[0m \u001b[0mtorch\u001b[0m\u001b[1;33m.\u001b[0m\u001b[0mno_grad\u001b[0m\u001b[1;33m(\u001b[0m\u001b[1;33m)\u001b[0m\u001b[1;33m:\u001b[0m\u001b[1;33m\u001b[0m\u001b[1;33m\u001b[0m\u001b[0m\n\u001b[1;32m---> 67\u001b[1;33m             outputs = self.model.generate(input_ids=token_inputs, attention_mask=mask_inputs,\n\u001b[0m\u001b[0;32m     68\u001b[0m                 \u001b[0mmin_length\u001b[0m\u001b[1;33m=\u001b[0m\u001b[0mmin_length\u001b[0m\u001b[1;33m,\u001b[0m \u001b[0mmax_length\u001b[0m\u001b[1;33m=\u001b[0m\u001b[0mmax_length\u001b[0m\u001b[1;33m,\u001b[0m \u001b[0mnum_beams\u001b[0m\u001b[1;33m=\u001b[0m\u001b[0mself\u001b[0m\u001b[1;33m.\u001b[0m\u001b[0mnum_beam\u001b[0m\u001b[1;33m,\u001b[0m\u001b[1;33m\u001b[0m\u001b[1;33m\u001b[0m\u001b[0m\n\u001b[0;32m     69\u001b[0m                 no_repeat_ngram_size=self.no_repeat_ngram_size)\n",
      "\u001b[1;32md:\\jswietek\\mgr\\env\\lib\\site-packages\\torch\\utils\\_contextlib.py\u001b[0m in \u001b[0;36mdecorate_context\u001b[1;34m(*args, **kwargs)\u001b[0m\n\u001b[0;32m    113\u001b[0m     \u001b[1;32mdef\u001b[0m \u001b[0mdecorate_context\u001b[0m\u001b[1;33m(\u001b[0m\u001b[1;33m*\u001b[0m\u001b[0margs\u001b[0m\u001b[1;33m,\u001b[0m \u001b[1;33m**\u001b[0m\u001b[0mkwargs\u001b[0m\u001b[1;33m)\u001b[0m\u001b[1;33m:\u001b[0m\u001b[1;33m\u001b[0m\u001b[1;33m\u001b[0m\u001b[0m\n\u001b[0;32m    114\u001b[0m         \u001b[1;32mwith\u001b[0m \u001b[0mctx_factory\u001b[0m\u001b[1;33m(\u001b[0m\u001b[1;33m)\u001b[0m\u001b[1;33m:\u001b[0m\u001b[1;33m\u001b[0m\u001b[1;33m\u001b[0m\u001b[0m\n\u001b[1;32m--> 115\u001b[1;33m             \u001b[1;32mreturn\u001b[0m \u001b[0mfunc\u001b[0m\u001b[1;33m(\u001b[0m\u001b[1;33m*\u001b[0m\u001b[0margs\u001b[0m\u001b[1;33m,\u001b[0m \u001b[1;33m**\u001b[0m\u001b[0mkwargs\u001b[0m\u001b[1;33m)\u001b[0m\u001b[1;33m\u001b[0m\u001b[1;33m\u001b[0m\u001b[0m\n\u001b[0m\u001b[0;32m    116\u001b[0m \u001b[1;33m\u001b[0m\u001b[0m\n\u001b[0;32m    117\u001b[0m     \u001b[1;32mreturn\u001b[0m \u001b[0mdecorate_context\u001b[0m\u001b[1;33m\u001b[0m\u001b[1;33m\u001b[0m\u001b[0m\n",
      "\u001b[1;32md:\\jswietek\\mgr\\env\\lib\\site-packages\\transformers\\generation\\utils.py\u001b[0m in \u001b[0;36mgenerate\u001b[1;34m(self, inputs, generation_config, logits_processor, stopping_criteria, prefix_allowed_tokens_fn, synced_gpus, assistant_model, streamer, negative_prompt_ids, negative_prompt_attention_mask, **kwargs)\u001b[0m\n\u001b[0;32m   1591\u001b[0m             \u001b[1;31m# if model is encoder decoder encoder_outputs are created\u001b[0m\u001b[1;33m\u001b[0m\u001b[1;33m\u001b[0m\u001b[0m\n\u001b[0;32m   1592\u001b[0m             \u001b[1;31m# and added to `model_kwargs`\u001b[0m\u001b[1;33m\u001b[0m\u001b[1;33m\u001b[0m\u001b[0m\n\u001b[1;32m-> 1593\u001b[1;33m             model_kwargs = self._prepare_encoder_decoder_kwargs_for_generation(\n\u001b[0m\u001b[0;32m   1594\u001b[0m                 \u001b[0minputs_tensor\u001b[0m\u001b[1;33m,\u001b[0m \u001b[0mmodel_kwargs\u001b[0m\u001b[1;33m,\u001b[0m \u001b[0mmodel_input_name\u001b[0m\u001b[1;33m\u001b[0m\u001b[1;33m\u001b[0m\u001b[0m\n\u001b[0;32m   1595\u001b[0m             )\n",
      "\u001b[1;32md:\\jswietek\\mgr\\env\\lib\\site-packages\\transformers\\generation\\utils.py\u001b[0m in \u001b[0;36m_prepare_encoder_decoder_kwargs_for_generation\u001b[1;34m(self, inputs_tensor, model_kwargs, model_input_name)\u001b[0m\n\u001b[0;32m    740\u001b[0m         \u001b[0mencoder_kwargs\u001b[0m\u001b[1;33m[\u001b[0m\u001b[1;34m\"return_dict\"\u001b[0m\u001b[1;33m]\u001b[0m \u001b[1;33m=\u001b[0m \u001b[1;32mTrue\u001b[0m\u001b[1;33m\u001b[0m\u001b[1;33m\u001b[0m\u001b[0m\n\u001b[0;32m    741\u001b[0m         \u001b[0mencoder_kwargs\u001b[0m\u001b[1;33m[\u001b[0m\u001b[0mmodel_input_name\u001b[0m\u001b[1;33m]\u001b[0m \u001b[1;33m=\u001b[0m \u001b[0minputs_tensor\u001b[0m\u001b[1;33m\u001b[0m\u001b[1;33m\u001b[0m\u001b[0m\n\u001b[1;32m--> 742\u001b[1;33m         \u001b[0mmodel_kwargs\u001b[0m\u001b[1;33m[\u001b[0m\u001b[1;34m\"encoder_outputs\"\u001b[0m\u001b[1;33m]\u001b[0m\u001b[1;33m:\u001b[0m \u001b[0mModelOutput\u001b[0m \u001b[1;33m=\u001b[0m \u001b[0mencoder\u001b[0m\u001b[1;33m(\u001b[0m\u001b[1;33m**\u001b[0m\u001b[0mencoder_kwargs\u001b[0m\u001b[1;33m)\u001b[0m\u001b[1;33m\u001b[0m\u001b[1;33m\u001b[0m\u001b[0m\n\u001b[0m\u001b[0;32m    743\u001b[0m \u001b[1;33m\u001b[0m\u001b[0m\n\u001b[0;32m    744\u001b[0m         \u001b[1;32mreturn\u001b[0m \u001b[0mmodel_kwargs\u001b[0m\u001b[1;33m\u001b[0m\u001b[1;33m\u001b[0m\u001b[0m\n",
      "\u001b[1;32md:\\jswietek\\mgr\\env\\lib\\site-packages\\torch\\nn\\modules\\module.py\u001b[0m in \u001b[0;36m_wrapped_call_impl\u001b[1;34m(self, *args, **kwargs)\u001b[0m\n\u001b[0;32m   1516\u001b[0m             \u001b[1;32mreturn\u001b[0m \u001b[0mself\u001b[0m\u001b[1;33m.\u001b[0m\u001b[0m_compiled_call_impl\u001b[0m\u001b[1;33m(\u001b[0m\u001b[1;33m*\u001b[0m\u001b[0margs\u001b[0m\u001b[1;33m,\u001b[0m \u001b[1;33m**\u001b[0m\u001b[0mkwargs\u001b[0m\u001b[1;33m)\u001b[0m  \u001b[1;31m# type: ignore[misc]\u001b[0m\u001b[1;33m\u001b[0m\u001b[1;33m\u001b[0m\u001b[0m\n\u001b[0;32m   1517\u001b[0m         \u001b[1;32melse\u001b[0m\u001b[1;33m:\u001b[0m\u001b[1;33m\u001b[0m\u001b[1;33m\u001b[0m\u001b[0m\n\u001b[1;32m-> 1518\u001b[1;33m             \u001b[1;32mreturn\u001b[0m \u001b[0mself\u001b[0m\u001b[1;33m.\u001b[0m\u001b[0m_call_impl\u001b[0m\u001b[1;33m(\u001b[0m\u001b[1;33m*\u001b[0m\u001b[0margs\u001b[0m\u001b[1;33m,\u001b[0m \u001b[1;33m**\u001b[0m\u001b[0mkwargs\u001b[0m\u001b[1;33m)\u001b[0m\u001b[1;33m\u001b[0m\u001b[1;33m\u001b[0m\u001b[0m\n\u001b[0m\u001b[0;32m   1519\u001b[0m \u001b[1;33m\u001b[0m\u001b[0m\n\u001b[0;32m   1520\u001b[0m     \u001b[1;32mdef\u001b[0m \u001b[0m_call_impl\u001b[0m\u001b[1;33m(\u001b[0m\u001b[0mself\u001b[0m\u001b[1;33m,\u001b[0m \u001b[1;33m*\u001b[0m\u001b[0margs\u001b[0m\u001b[1;33m,\u001b[0m \u001b[1;33m**\u001b[0m\u001b[0mkwargs\u001b[0m\u001b[1;33m)\u001b[0m\u001b[1;33m:\u001b[0m\u001b[1;33m\u001b[0m\u001b[1;33m\u001b[0m\u001b[0m\n",
      "\u001b[1;32md:\\jswietek\\mgr\\env\\lib\\site-packages\\torch\\nn\\modules\\module.py\u001b[0m in \u001b[0;36m_call_impl\u001b[1;34m(self, *args, **kwargs)\u001b[0m\n\u001b[0;32m   1525\u001b[0m                 \u001b[1;32mor\u001b[0m \u001b[0m_global_backward_pre_hooks\u001b[0m \u001b[1;32mor\u001b[0m \u001b[0m_global_backward_hooks\u001b[0m\u001b[1;33m\u001b[0m\u001b[1;33m\u001b[0m\u001b[0m\n\u001b[0;32m   1526\u001b[0m                 or _global_forward_hooks or _global_forward_pre_hooks):\n\u001b[1;32m-> 1527\u001b[1;33m             \u001b[1;32mreturn\u001b[0m \u001b[0mforward_call\u001b[0m\u001b[1;33m(\u001b[0m\u001b[1;33m*\u001b[0m\u001b[0margs\u001b[0m\u001b[1;33m,\u001b[0m \u001b[1;33m**\u001b[0m\u001b[0mkwargs\u001b[0m\u001b[1;33m)\u001b[0m\u001b[1;33m\u001b[0m\u001b[1;33m\u001b[0m\u001b[0m\n\u001b[0m\u001b[0;32m   1528\u001b[0m \u001b[1;33m\u001b[0m\u001b[0m\n\u001b[0;32m   1529\u001b[0m         \u001b[1;32mtry\u001b[0m\u001b[1;33m:\u001b[0m\u001b[1;33m\u001b[0m\u001b[1;33m\u001b[0m\u001b[0m\n",
      "\u001b[1;32md:\\jswietek\\mgr\\env\\lib\\site-packages\\transformers\\models\\t5\\modeling_t5.py\u001b[0m in \u001b[0;36mforward\u001b[1;34m(self, input_ids, attention_mask, encoder_hidden_states, encoder_attention_mask, inputs_embeds, head_mask, cross_attn_head_mask, past_key_values, use_cache, output_attentions, output_hidden_states, return_dict)\u001b[0m\n\u001b[0;32m   1108\u001b[0m                 )\n\u001b[0;32m   1109\u001b[0m             \u001b[1;32melse\u001b[0m\u001b[1;33m:\u001b[0m\u001b[1;33m\u001b[0m\u001b[1;33m\u001b[0m\u001b[0m\n\u001b[1;32m-> 1110\u001b[1;33m                 layer_outputs = layer_module(\n\u001b[0m\u001b[0;32m   1111\u001b[0m                     \u001b[0mhidden_states\u001b[0m\u001b[1;33m,\u001b[0m\u001b[1;33m\u001b[0m\u001b[1;33m\u001b[0m\u001b[0m\n\u001b[0;32m   1112\u001b[0m                     \u001b[0mattention_mask\u001b[0m\u001b[1;33m=\u001b[0m\u001b[0mextended_attention_mask\u001b[0m\u001b[1;33m,\u001b[0m\u001b[1;33m\u001b[0m\u001b[1;33m\u001b[0m\u001b[0m\n",
      "\u001b[1;32md:\\jswietek\\mgr\\env\\lib\\site-packages\\torch\\nn\\modules\\module.py\u001b[0m in \u001b[0;36m_wrapped_call_impl\u001b[1;34m(self, *args, **kwargs)\u001b[0m\n\u001b[0;32m   1516\u001b[0m             \u001b[1;32mreturn\u001b[0m \u001b[0mself\u001b[0m\u001b[1;33m.\u001b[0m\u001b[0m_compiled_call_impl\u001b[0m\u001b[1;33m(\u001b[0m\u001b[1;33m*\u001b[0m\u001b[0margs\u001b[0m\u001b[1;33m,\u001b[0m \u001b[1;33m**\u001b[0m\u001b[0mkwargs\u001b[0m\u001b[1;33m)\u001b[0m  \u001b[1;31m# type: ignore[misc]\u001b[0m\u001b[1;33m\u001b[0m\u001b[1;33m\u001b[0m\u001b[0m\n\u001b[0;32m   1517\u001b[0m         \u001b[1;32melse\u001b[0m\u001b[1;33m:\u001b[0m\u001b[1;33m\u001b[0m\u001b[1;33m\u001b[0m\u001b[0m\n\u001b[1;32m-> 1518\u001b[1;33m             \u001b[1;32mreturn\u001b[0m \u001b[0mself\u001b[0m\u001b[1;33m.\u001b[0m\u001b[0m_call_impl\u001b[0m\u001b[1;33m(\u001b[0m\u001b[1;33m*\u001b[0m\u001b[0margs\u001b[0m\u001b[1;33m,\u001b[0m \u001b[1;33m**\u001b[0m\u001b[0mkwargs\u001b[0m\u001b[1;33m)\u001b[0m\u001b[1;33m\u001b[0m\u001b[1;33m\u001b[0m\u001b[0m\n\u001b[0m\u001b[0;32m   1519\u001b[0m \u001b[1;33m\u001b[0m\u001b[0m\n\u001b[0;32m   1520\u001b[0m     \u001b[1;32mdef\u001b[0m \u001b[0m_call_impl\u001b[0m\u001b[1;33m(\u001b[0m\u001b[0mself\u001b[0m\u001b[1;33m,\u001b[0m \u001b[1;33m*\u001b[0m\u001b[0margs\u001b[0m\u001b[1;33m,\u001b[0m \u001b[1;33m**\u001b[0m\u001b[0mkwargs\u001b[0m\u001b[1;33m)\u001b[0m\u001b[1;33m:\u001b[0m\u001b[1;33m\u001b[0m\u001b[1;33m\u001b[0m\u001b[0m\n",
      "\u001b[1;32md:\\jswietek\\mgr\\env\\lib\\site-packages\\torch\\nn\\modules\\module.py\u001b[0m in \u001b[0;36m_call_impl\u001b[1;34m(self, *args, **kwargs)\u001b[0m\n\u001b[0;32m   1525\u001b[0m                 \u001b[1;32mor\u001b[0m \u001b[0m_global_backward_pre_hooks\u001b[0m \u001b[1;32mor\u001b[0m \u001b[0m_global_backward_hooks\u001b[0m\u001b[1;33m\u001b[0m\u001b[1;33m\u001b[0m\u001b[0m\n\u001b[0;32m   1526\u001b[0m                 or _global_forward_hooks or _global_forward_pre_hooks):\n\u001b[1;32m-> 1527\u001b[1;33m             \u001b[1;32mreturn\u001b[0m \u001b[0mforward_call\u001b[0m\u001b[1;33m(\u001b[0m\u001b[1;33m*\u001b[0m\u001b[0margs\u001b[0m\u001b[1;33m,\u001b[0m \u001b[1;33m**\u001b[0m\u001b[0mkwargs\u001b[0m\u001b[1;33m)\u001b[0m\u001b[1;33m\u001b[0m\u001b[1;33m\u001b[0m\u001b[0m\n\u001b[0m\u001b[0;32m   1528\u001b[0m \u001b[1;33m\u001b[0m\u001b[0m\n\u001b[0;32m   1529\u001b[0m         \u001b[1;32mtry\u001b[0m\u001b[1;33m:\u001b[0m\u001b[1;33m\u001b[0m\u001b[1;33m\u001b[0m\u001b[0m\n",
      "\u001b[1;32md:\\jswietek\\mgr\\env\\lib\\site-packages\\transformers\\models\\t5\\modeling_t5.py\u001b[0m in \u001b[0;36mforward\u001b[1;34m(self, hidden_states, attention_mask, position_bias, encoder_hidden_states, encoder_attention_mask, encoder_decoder_position_bias, layer_head_mask, cross_attn_layer_head_mask, past_key_value, use_cache, output_attentions, return_dict)\u001b[0m\n\u001b[0;32m    692\u001b[0m             \u001b[0mself_attn_past_key_value\u001b[0m\u001b[1;33m,\u001b[0m \u001b[0mcross_attn_past_key_value\u001b[0m \u001b[1;33m=\u001b[0m \u001b[1;32mNone\u001b[0m\u001b[1;33m,\u001b[0m \u001b[1;32mNone\u001b[0m\u001b[1;33m\u001b[0m\u001b[1;33m\u001b[0m\u001b[0m\n\u001b[0;32m    693\u001b[0m \u001b[1;33m\u001b[0m\u001b[0m\n\u001b[1;32m--> 694\u001b[1;33m         self_attention_outputs = self.layer[0](\n\u001b[0m\u001b[0;32m    695\u001b[0m             \u001b[0mhidden_states\u001b[0m\u001b[1;33m,\u001b[0m\u001b[1;33m\u001b[0m\u001b[1;33m\u001b[0m\u001b[0m\n\u001b[0;32m    696\u001b[0m             \u001b[0mattention_mask\u001b[0m\u001b[1;33m=\u001b[0m\u001b[0mattention_mask\u001b[0m\u001b[1;33m,\u001b[0m\u001b[1;33m\u001b[0m\u001b[1;33m\u001b[0m\u001b[0m\n",
      "\u001b[1;32md:\\jswietek\\mgr\\env\\lib\\site-packages\\torch\\nn\\modules\\module.py\u001b[0m in \u001b[0;36m_wrapped_call_impl\u001b[1;34m(self, *args, **kwargs)\u001b[0m\n\u001b[0;32m   1516\u001b[0m             \u001b[1;32mreturn\u001b[0m \u001b[0mself\u001b[0m\u001b[1;33m.\u001b[0m\u001b[0m_compiled_call_impl\u001b[0m\u001b[1;33m(\u001b[0m\u001b[1;33m*\u001b[0m\u001b[0margs\u001b[0m\u001b[1;33m,\u001b[0m \u001b[1;33m**\u001b[0m\u001b[0mkwargs\u001b[0m\u001b[1;33m)\u001b[0m  \u001b[1;31m# type: ignore[misc]\u001b[0m\u001b[1;33m\u001b[0m\u001b[1;33m\u001b[0m\u001b[0m\n\u001b[0;32m   1517\u001b[0m         \u001b[1;32melse\u001b[0m\u001b[1;33m:\u001b[0m\u001b[1;33m\u001b[0m\u001b[1;33m\u001b[0m\u001b[0m\n\u001b[1;32m-> 1518\u001b[1;33m             \u001b[1;32mreturn\u001b[0m \u001b[0mself\u001b[0m\u001b[1;33m.\u001b[0m\u001b[0m_call_impl\u001b[0m\u001b[1;33m(\u001b[0m\u001b[1;33m*\u001b[0m\u001b[0margs\u001b[0m\u001b[1;33m,\u001b[0m \u001b[1;33m**\u001b[0m\u001b[0mkwargs\u001b[0m\u001b[1;33m)\u001b[0m\u001b[1;33m\u001b[0m\u001b[1;33m\u001b[0m\u001b[0m\n\u001b[0m\u001b[0;32m   1519\u001b[0m \u001b[1;33m\u001b[0m\u001b[0m\n\u001b[0;32m   1520\u001b[0m     \u001b[1;32mdef\u001b[0m \u001b[0m_call_impl\u001b[0m\u001b[1;33m(\u001b[0m\u001b[0mself\u001b[0m\u001b[1;33m,\u001b[0m \u001b[1;33m*\u001b[0m\u001b[0margs\u001b[0m\u001b[1;33m,\u001b[0m \u001b[1;33m**\u001b[0m\u001b[0mkwargs\u001b[0m\u001b[1;33m)\u001b[0m\u001b[1;33m:\u001b[0m\u001b[1;33m\u001b[0m\u001b[1;33m\u001b[0m\u001b[0m\n",
      "\u001b[1;32md:\\jswietek\\mgr\\env\\lib\\site-packages\\torch\\nn\\modules\\module.py\u001b[0m in \u001b[0;36m_call_impl\u001b[1;34m(self, *args, **kwargs)\u001b[0m\n\u001b[0;32m   1525\u001b[0m                 \u001b[1;32mor\u001b[0m \u001b[0m_global_backward_pre_hooks\u001b[0m \u001b[1;32mor\u001b[0m \u001b[0m_global_backward_hooks\u001b[0m\u001b[1;33m\u001b[0m\u001b[1;33m\u001b[0m\u001b[0m\n\u001b[0;32m   1526\u001b[0m                 or _global_forward_hooks or _global_forward_pre_hooks):\n\u001b[1;32m-> 1527\u001b[1;33m             \u001b[1;32mreturn\u001b[0m \u001b[0mforward_call\u001b[0m\u001b[1;33m(\u001b[0m\u001b[1;33m*\u001b[0m\u001b[0margs\u001b[0m\u001b[1;33m,\u001b[0m \u001b[1;33m**\u001b[0m\u001b[0mkwargs\u001b[0m\u001b[1;33m)\u001b[0m\u001b[1;33m\u001b[0m\u001b[1;33m\u001b[0m\u001b[0m\n\u001b[0m\u001b[0;32m   1528\u001b[0m \u001b[1;33m\u001b[0m\u001b[0m\n\u001b[0;32m   1529\u001b[0m         \u001b[1;32mtry\u001b[0m\u001b[1;33m:\u001b[0m\u001b[1;33m\u001b[0m\u001b[1;33m\u001b[0m\u001b[0m\n",
      "\u001b[1;32md:\\jswietek\\mgr\\env\\lib\\site-packages\\transformers\\models\\t5\\modeling_t5.py\u001b[0m in \u001b[0;36mforward\u001b[1;34m(self, hidden_states, attention_mask, position_bias, layer_head_mask, past_key_value, use_cache, output_attentions)\u001b[0m\n\u001b[0;32m    599\u001b[0m     ):\n\u001b[0;32m    600\u001b[0m         \u001b[0mnormed_hidden_states\u001b[0m \u001b[1;33m=\u001b[0m \u001b[0mself\u001b[0m\u001b[1;33m.\u001b[0m\u001b[0mlayer_norm\u001b[0m\u001b[1;33m(\u001b[0m\u001b[0mhidden_states\u001b[0m\u001b[1;33m)\u001b[0m\u001b[1;33m\u001b[0m\u001b[1;33m\u001b[0m\u001b[0m\n\u001b[1;32m--> 601\u001b[1;33m         attention_output = self.SelfAttention(\n\u001b[0m\u001b[0;32m    602\u001b[0m             \u001b[0mnormed_hidden_states\u001b[0m\u001b[1;33m,\u001b[0m\u001b[1;33m\u001b[0m\u001b[1;33m\u001b[0m\u001b[0m\n\u001b[0;32m    603\u001b[0m             \u001b[0mmask\u001b[0m\u001b[1;33m=\u001b[0m\u001b[0mattention_mask\u001b[0m\u001b[1;33m,\u001b[0m\u001b[1;33m\u001b[0m\u001b[1;33m\u001b[0m\u001b[0m\n",
      "\u001b[1;32md:\\jswietek\\mgr\\env\\lib\\site-packages\\torch\\nn\\modules\\module.py\u001b[0m in \u001b[0;36m_wrapped_call_impl\u001b[1;34m(self, *args, **kwargs)\u001b[0m\n\u001b[0;32m   1516\u001b[0m             \u001b[1;32mreturn\u001b[0m \u001b[0mself\u001b[0m\u001b[1;33m.\u001b[0m\u001b[0m_compiled_call_impl\u001b[0m\u001b[1;33m(\u001b[0m\u001b[1;33m*\u001b[0m\u001b[0margs\u001b[0m\u001b[1;33m,\u001b[0m \u001b[1;33m**\u001b[0m\u001b[0mkwargs\u001b[0m\u001b[1;33m)\u001b[0m  \u001b[1;31m# type: ignore[misc]\u001b[0m\u001b[1;33m\u001b[0m\u001b[1;33m\u001b[0m\u001b[0m\n\u001b[0;32m   1517\u001b[0m         \u001b[1;32melse\u001b[0m\u001b[1;33m:\u001b[0m\u001b[1;33m\u001b[0m\u001b[1;33m\u001b[0m\u001b[0m\n\u001b[1;32m-> 1518\u001b[1;33m             \u001b[1;32mreturn\u001b[0m \u001b[0mself\u001b[0m\u001b[1;33m.\u001b[0m\u001b[0m_call_impl\u001b[0m\u001b[1;33m(\u001b[0m\u001b[1;33m*\u001b[0m\u001b[0margs\u001b[0m\u001b[1;33m,\u001b[0m \u001b[1;33m**\u001b[0m\u001b[0mkwargs\u001b[0m\u001b[1;33m)\u001b[0m\u001b[1;33m\u001b[0m\u001b[1;33m\u001b[0m\u001b[0m\n\u001b[0m\u001b[0;32m   1519\u001b[0m \u001b[1;33m\u001b[0m\u001b[0m\n\u001b[0;32m   1520\u001b[0m     \u001b[1;32mdef\u001b[0m \u001b[0m_call_impl\u001b[0m\u001b[1;33m(\u001b[0m\u001b[0mself\u001b[0m\u001b[1;33m,\u001b[0m \u001b[1;33m*\u001b[0m\u001b[0margs\u001b[0m\u001b[1;33m,\u001b[0m \u001b[1;33m**\u001b[0m\u001b[0mkwargs\u001b[0m\u001b[1;33m)\u001b[0m\u001b[1;33m:\u001b[0m\u001b[1;33m\u001b[0m\u001b[1;33m\u001b[0m\u001b[0m\n",
      "\u001b[1;32md:\\jswietek\\mgr\\env\\lib\\site-packages\\torch\\nn\\modules\\module.py\u001b[0m in \u001b[0;36m_call_impl\u001b[1;34m(self, *args, **kwargs)\u001b[0m\n\u001b[0;32m   1525\u001b[0m                 \u001b[1;32mor\u001b[0m \u001b[0m_global_backward_pre_hooks\u001b[0m \u001b[1;32mor\u001b[0m \u001b[0m_global_backward_hooks\u001b[0m\u001b[1;33m\u001b[0m\u001b[1;33m\u001b[0m\u001b[0m\n\u001b[0;32m   1526\u001b[0m                 or _global_forward_hooks or _global_forward_pre_hooks):\n\u001b[1;32m-> 1527\u001b[1;33m             \u001b[1;32mreturn\u001b[0m \u001b[0mforward_call\u001b[0m\u001b[1;33m(\u001b[0m\u001b[1;33m*\u001b[0m\u001b[0margs\u001b[0m\u001b[1;33m,\u001b[0m \u001b[1;33m**\u001b[0m\u001b[0mkwargs\u001b[0m\u001b[1;33m)\u001b[0m\u001b[1;33m\u001b[0m\u001b[1;33m\u001b[0m\u001b[0m\n\u001b[0m\u001b[0;32m   1528\u001b[0m \u001b[1;33m\u001b[0m\u001b[0m\n\u001b[0;32m   1529\u001b[0m         \u001b[1;32mtry\u001b[0m\u001b[1;33m:\u001b[0m\u001b[1;33m\u001b[0m\u001b[1;33m\u001b[0m\u001b[0m\n",
      "\u001b[1;32md:\\jswietek\\mgr\\env\\lib\\site-packages\\transformers\\models\\t5\\modeling_t5.py\u001b[0m in \u001b[0;36mforward\u001b[1;34m(self, hidden_states, mask, key_value_states, position_bias, past_key_value, layer_head_mask, query_length, use_cache, output_attentions)\u001b[0m\n\u001b[0;32m    549\u001b[0m \u001b[1;33m\u001b[0m\u001b[0m\n\u001b[0;32m    550\u001b[0m             \u001b[1;32mif\u001b[0m \u001b[0mmask\u001b[0m \u001b[1;32mis\u001b[0m \u001b[1;32mnot\u001b[0m \u001b[1;32mNone\u001b[0m\u001b[1;33m:\u001b[0m\u001b[1;33m\u001b[0m\u001b[1;33m\u001b[0m\u001b[0m\n\u001b[1;32m--> 551\u001b[1;33m                 \u001b[0mposition_bias\u001b[0m \u001b[1;33m=\u001b[0m \u001b[0mposition_bias\u001b[0m \u001b[1;33m+\u001b[0m \u001b[0mmask\u001b[0m  \u001b[1;31m# (batch_size, n_heads, seq_length, key_length)\u001b[0m\u001b[1;33m\u001b[0m\u001b[1;33m\u001b[0m\u001b[0m\n\u001b[0m\u001b[0;32m    552\u001b[0m \u001b[1;33m\u001b[0m\u001b[0m\n\u001b[0;32m    553\u001b[0m         \u001b[1;32mif\u001b[0m \u001b[0mself\u001b[0m\u001b[1;33m.\u001b[0m\u001b[0mpruned_heads\u001b[0m\u001b[1;33m:\u001b[0m\u001b[1;33m\u001b[0m\u001b[1;33m\u001b[0m\u001b[0m\n",
      "\u001b[1;31mOutOfMemoryError\u001b[0m: CUDA out of memory. Tried to allocate 2.97 GiB. GPU 0 has a total capacty of 12.00 GiB of which 2.21 GiB is free. Of the allocated memory 6.89 GiB is allocated by PyTorch, and 99.41 MiB is reserved by PyTorch but unallocated. If reserved but unallocated memory is large try setting max_split_size_mb to avoid fragmentation.  See documentation for Memory Management and PYTORCH_CUDA_ALLOC_CONF"
     ]
    }
   ],
   "source": [
    "def contextual_aug(df: pd.DataFrame):\n",
    "    res = df.copy()\n",
    "\n",
    "    shufled_df = res.copy()\n",
    "    shufled_df['text'] = shufled_df['text'].apply(lambda x: cont_aug.augment(x)[0])\n",
    "    return pd.concat((res, shufled_df))\n",
    "\n",
    "augmented_train_df4 = contextual_aug(augmented_train_df3)\n",
    "\n",
    "augmented_train_df1 = augmented_train_df\n",
    "augmented_train_df = augmented_train_df3"
   ]
  },
  {
   "cell_type": "code",
   "execution_count": 33,
   "metadata": {},
   "outputs": [
    {
     "data": {
      "text/html": [
       "<div>\n",
       "<style scoped>\n",
       "    .dataframe tbody tr th:only-of-type {\n",
       "        vertical-align: middle;\n",
       "    }\n",
       "\n",
       "    .dataframe tbody tr th {\n",
       "        vertical-align: top;\n",
       "    }\n",
       "\n",
       "    .dataframe thead th {\n",
       "        text-align: right;\n",
       "    }\n",
       "</style>\n",
       "<table border=\"1\" class=\"dataframe\">\n",
       "  <thead>\n",
       "    <tr style=\"text-align: right;\">\n",
       "      <th></th>\n",
       "      <th>text</th>\n",
       "      <th>HER2</th>\n",
       "      <th>ER</th>\n",
       "      <th>PR</th>\n",
       "      <th>HR</th>\n",
       "      <th>SUBTYPE</th>\n",
       "    </tr>\n",
       "  </thead>\n",
       "  <tbody>\n",
       "    <tr>\n",
       "      <th>TCGA-3C-AALI</th>\n",
       "      <td>Path No.: Date Obtained: (Age: ). Date Receive...</td>\n",
       "      <td>1.0</td>\n",
       "      <td>1.0</td>\n",
       "      <td>1.0</td>\n",
       "      <td>1.0</td>\n",
       "      <td>HER2+</td>\n",
       "    </tr>\n",
       "    <tr>\n",
       "      <th>TCGA-3C-AALK</th>\n",
       "      <td>Path No.: Date Obtained: (Age: ). Date Receive...</td>\n",
       "      <td>1.0</td>\n",
       "      <td>1.0</td>\n",
       "      <td>1.0</td>\n",
       "      <td>1.0</td>\n",
       "      <td>HER2+</td>\n",
       "    </tr>\n",
       "    <tr>\n",
       "      <th>TCGA-5L-AAT0</th>\n",
       "      <td>Gender: Female. Color: White. Origin: Nature o...</td>\n",
       "      <td>0.0</td>\n",
       "      <td>1.0</td>\n",
       "      <td>1.0</td>\n",
       "      <td>1.0</td>\n",
       "      <td>HR+</td>\n",
       "    </tr>\n",
       "    <tr>\n",
       "      <th>TCGA-A1-A0SB</th>\n",
       "      <td>Final Pathologic Diagnosis: A. Sentinel lymph ...</td>\n",
       "      <td>0.0</td>\n",
       "      <td>1.0</td>\n",
       "      <td>0.0</td>\n",
       "      <td>1.0</td>\n",
       "      <td>HR+</td>\n",
       "    </tr>\n",
       "    <tr>\n",
       "      <th>TCGA-A1-A0SD</th>\n",
       "      <td>Final Pathologic Diagnosis: A. Sentinel lymph ...</td>\n",
       "      <td>0.0</td>\n",
       "      <td>1.0</td>\n",
       "      <td>1.0</td>\n",
       "      <td>1.0</td>\n",
       "      <td>HR+</td>\n",
       "    </tr>\n",
       "    <tr>\n",
       "      <th>...</th>\n",
       "      <td>...</td>\n",
       "      <td>...</td>\n",
       "      <td>...</td>\n",
       "      <td>...</td>\n",
       "      <td>...</td>\n",
       "      <td>...</td>\n",
       "    </tr>\n",
       "    <tr>\n",
       "      <th>TCGA-OL-A66I</th>\n",
       "      <td>final pathological diagnosis. axillary tumpect...</td>\n",
       "      <td>0.0</td>\n",
       "      <td>0.0</td>\n",
       "      <td>0.0</td>\n",
       "      <td>0.0</td>\n",
       "      <td>TNBC</td>\n",
       "    </tr>\n",
       "    <tr>\n",
       "      <th>TCGA-OL-A6VO</th>\n",
       "      <td>final pathological diagnosis. a. sentinel lymp...</td>\n",
       "      <td>0.0</td>\n",
       "      <td>0.0</td>\n",
       "      <td>0.0</td>\n",
       "      <td>0.0</td>\n",
       "      <td>TNBC</td>\n",
       "    </tr>\n",
       "    <tr>\n",
       "      <th>TCGA-OL-A97C</th>\n",
       "      <td>final pathological diagnosis. there is a 25 x ...</td>\n",
       "      <td>0.0</td>\n",
       "      <td>0.0</td>\n",
       "      <td>0.0</td>\n",
       "      <td>0.0</td>\n",
       "      <td>TNBC</td>\n",
       "    </tr>\n",
       "    <tr>\n",
       "      <th>TCGA-S3-AA10</th>\n",
       "      <td>temporary copy. diagnostic. a. right breast, m...</td>\n",
       "      <td>0.0</td>\n",
       "      <td>0.0</td>\n",
       "      <td>0.0</td>\n",
       "      <td>0.0</td>\n",
       "      <td>TNBC</td>\n",
       "    </tr>\n",
       "    <tr>\n",
       "      <th>TCGA-S3-AA15</th>\n",
       "      <td>female. admission date: release date: date / t...</td>\n",
       "      <td>0.0</td>\n",
       "      <td>0.0</td>\n",
       "      <td>0.0</td>\n",
       "      <td>0.0</td>\n",
       "      <td>TNBC</td>\n",
       "    </tr>\n",
       "  </tbody>\n",
       "</table>\n",
       "<p>4356 rows × 6 columns</p>\n",
       "</div>"
      ],
      "text/plain": [
       "                                                           text  HER2   ER  \\\n",
       "TCGA-3C-AALI  Path No.: Date Obtained: (Age: ). Date Receive...   1.0  1.0   \n",
       "TCGA-3C-AALK  Path No.: Date Obtained: (Age: ). Date Receive...   1.0  1.0   \n",
       "TCGA-5L-AAT0  Gender: Female. Color: White. Origin: Nature o...   0.0  1.0   \n",
       "TCGA-A1-A0SB  Final Pathologic Diagnosis: A. Sentinel lymph ...   0.0  1.0   \n",
       "TCGA-A1-A0SD  Final Pathologic Diagnosis: A. Sentinel lymph ...   0.0  1.0   \n",
       "...                                                         ...   ...  ...   \n",
       "TCGA-OL-A66I  final pathological diagnosis. axillary tumpect...   0.0  0.0   \n",
       "TCGA-OL-A6VO  final pathological diagnosis. a. sentinel lymp...   0.0  0.0   \n",
       "TCGA-OL-A97C  final pathological diagnosis. there is a 25 x ...   0.0  0.0   \n",
       "TCGA-S3-AA10  temporary copy. diagnostic. a. right breast, m...   0.0  0.0   \n",
       "TCGA-S3-AA15  female. admission date: release date: date / t...   0.0  0.0   \n",
       "\n",
       "               PR   HR SUBTYPE  \n",
       "TCGA-3C-AALI  1.0  1.0   HER2+  \n",
       "TCGA-3C-AALK  1.0  1.0   HER2+  \n",
       "TCGA-5L-AAT0  1.0  1.0     HR+  \n",
       "TCGA-A1-A0SB  0.0  1.0     HR+  \n",
       "TCGA-A1-A0SD  1.0  1.0     HR+  \n",
       "...           ...  ...     ...  \n",
       "TCGA-OL-A66I  0.0  0.0    TNBC  \n",
       "TCGA-OL-A6VO  0.0  0.0    TNBC  \n",
       "TCGA-OL-A97C  0.0  0.0    TNBC  \n",
       "TCGA-S3-AA10  0.0  0.0    TNBC  \n",
       "TCGA-S3-AA15  0.0  0.0    TNBC  \n",
       "\n",
       "[4356 rows x 6 columns]"
      ]
     },
     "execution_count": 33,
     "metadata": {},
     "output_type": "execute_result"
    }
   ],
   "source": [
    "augmented_train_df3[['text', 'HER2', 'ER', 'PR', 'HR', 'SUBTYPE']]"
   ]
  },
  {
   "cell_type": "code",
   "execution_count": 34,
   "metadata": {},
   "outputs": [],
   "source": [
    "# augmented_train_df3[['text', 'HER2', 'ER', 'PR', 'HR', 'SUBTYPE']].to_csv('../data/augmented_train_df3.csv')"
   ]
  },
  {
   "cell_type": "code",
   "execution_count": 35,
   "metadata": {},
   "outputs": [],
   "source": [
    "# test_df[['text', 'HER2', 'ER', 'PR', 'HR', 'SUBTYPE']].to_csv('../data/test_30.csv')"
   ]
  },
  {
   "cell_type": "code",
   "execution_count": 64,
   "metadata": {},
   "outputs": [
    {
     "name": "stdout",
     "output_type": "stream",
     "text": [
      "5596\n"
     ]
    },
    {
     "data": {
      "text/plain": [
       "['path informed. : date obtained : ( age : ). date received : f. see addendum / procedure. specimen : a : lymph node, right axilla sentinel node, biopsy. b : breast, right, lumpectomy. c : lymph nodes, right axilla, dissection. diagnosis ( es ) : a. deep node, right axilla sentinel node, biopsy : - carcinoma in 1 sentinel node following carcinoma of right breast. b. breast, right, lumpectomy : - carcinoma, single ductal type, moderately - differentiated, with focal micropapillary features,. nottingham\\'s score 5 ( 2 + 2 + 1 ). - carcinoma, intraductal, comedo type with microcalcifications. - lobular neoplasia, focal, classical type. - fibrocystic disease, proliferative, with apocrine metaplasia, sclerosing point and. microcalcifications. - cicatricial fibrosis and organizing granulation tissue with fat necrosis, consistent with previous. biopsy site. - fibroadenoma, microscopic. c. lymph nodes, right axilla, dissection : - no evidence of carcinoma in 2 lymph nodes. date dictated : clinical information : breast cancer. gross description : the specimen is received in three parts. part a is received fresh from the operating room for frozen section diagnosis in a container labeled opposite the patient\\'s. name and \" r sentinel lymph node \". it consists of one firm tan to red lymph node measuring 2. 0 x 1. 8 m 1, 0 cm, the. specimen is again sectioned. submitted in toto in three cassettes labeled afs, a1 and a2. afs = frozen section, a1. - a2 = remaining tissue,. part b is received unfixed in a container labeled with the patient\\'s name and \" r for lumpectomy \". it consists of a. piece of yellow - white fibrofatty tissue measuring 26. 5 x 9. 0 x 6, 0 cm. an ellipse of skin is not present. an x - ray is. received. a localization needle is not noted. a short suture is noted indicating the superior margin and a row of long. sutures are noted indicating the lateral margin . a mass is palpated in the center. the superficial surface is inked yellow. and the deep surface is inked black. the specimen is serially sectioned. on cut section, the mass is tan, firm, poorly. circumscribed and measures 3. 2 x 3. 0 x 3. 0 cm. the mass comes to 0. 3 cm of the superficial, 0. 5 cm of the deep and. 2. 5 cm of the lateral margins. the tissue is composed of 60 % fat and 40 % intermixed firm tan - white parenchyma. representative sections are submitted in 29 cassettes labeled b1 - b29. legend : b1 = mass and closest deep surface,. b2 = mass and closest superficial surface ( b1 and b2 = full thickness of mass ),. b3 - b8 = mass with adjacent deep margin. b9 - b17 = superficial margin over mass. b18 - b19 = mass. b20 - b21 = superior. b22 - b23 = deep margin in lateral part ( closest to mass ). b24 - b25 if lateral. b26 - b27 = inferior. b28 - b29 = medial. part c is received unfixed in a container labeled with the patient\\'s name and \" r axillary lymph node dissection \". it. consists of two pieces of yellow - red fatty tissue measuring 4. 0 x 2. 7 x 1. 0 cm and 10. 0 x 7. 0 x 1. 0 cm. a suture is noted. attached to one end of the larger piece of fatty tissue. fourteen lymph moves measuring from 0. 6 x 0. 5 x 0. 5 cm. to. 3. 5. x 1. 5 x 1. 0 cm are identified. the lymph nodes are submitted in toto 10 cassettes labeled c1 - c10. legend : c1 = five intact nodes, c2 - c5 = one bisected node in each cassettes, c6 = one intact node, c7 - c8 = one. large quadrisected node, c9 - c10 = nodes closest to suture ( larger node is bisected ). intraoperative consultation : afs : metastatic carcinoma in lymph node. performed by : resident : interpreted by : attending : microscopic description : i. type of specimen : right breast, excisional biopsy / lumpectomy. right axillary node dissection. ii. location of the tumor : upper outer quadrant. iii. type of neoplasm : carcinoma, invasive - ductal type nos with micropapillary features. histological grading : moderately differentiated. ( nuclear grade 2 and tubular & glandular differentiation grade 2 ). ductal carcinoma in situ, nuclear grade 3, multifocal 10 %. intraductal comedo subtype. necrosis is present within the intraductal subtype. lobular neoplasia, type a ( monomorphic ), focal in 2 of 29 slides. iv. gross / micro final invasive tumor size interpretation : 3. 2 x 3. 0 x 3. 0 cm. v. borders of invasive neoplasm : iii - defined. vi. vascular space invasion : present in lymphatics. vii. calcification : present in both malignant and benign areas. viii. nipple : n / a. ix. skin : n / a. x. adjacent breast tissue : fibroadenoma ( size 0, 2 cm. ). cystic disease, proliferative. xi. surgical margin : no carcinoma is identified on surgical margins. tumor distance from closest deep ( slide \" b1 \" ) margin : 0. 6 cm. xii. axillary lymph nodes : total : 15. high point : 2. sentinel node : 1. xiii. positive lymph nodes : total : 1. high point : 0. sentinel node : 1. degree of involvement : extensive replacement. extranodal extension : present. xiv. pectoral muscle : no pectoral muscle identified. this report has been reviewed electronically and signed on. interpreted by : attending : the diagnosis was rendered by the attending pathologist. addendum. addendum. slides were reviewed by. the diagnosis rendered is in. agreement with the original diagnosis. this procedure / addenda has been electronically reviewed and signed on. interpreted by : attending : note : immunochemistry testing performed at. was developed and its performance characteristics determined by the. these tests were interpreted in conjunction with external positive and internal negative controla, unless otherwise noted it has not been cleared or approved by the us. fda. this test is used for clinical purposes only, it should not be regarded as investigational or for research.']"
      ]
     },
     "execution_count": 64,
     "metadata": {},
     "output_type": "execute_result"
    }
   ],
   "source": [
    "from nlpaug.augmenter import word\n",
    "print(len(augmented_train_df3['text'][0]))\n",
    "wc_aug = word.ContextualWordEmbsAug(model_path='C:/Users/jswietek/.cache/huggingface/hub/models--bert-base-uncased/snapshots/1dbc166cf8765166998eff31ade2eb64c8a40076', device='cuda')\n",
    "wc_aug.augment(augmented_train_df3['text'][0])"
   ]
  },
  {
   "cell_type": "code",
   "execution_count": 65,
   "metadata": {},
   "outputs": [],
   "source": [
    "def context_augment_data(df: pd.DataFrame, types_to_augment: list[str]):\n",
    "    res = df.copy()\n",
    "\n",
    "    for ty in types_to_augment:\n",
    "        translated_df = df[df['SUBTYPE'] == ty].copy()\n",
    "        # shufled_df = df[df['SUBTYPE'] == ty].copy()\n",
    "        translated_df['text'] = translated_df['text'].apply(lambda x: wc_aug.augment(x))\n",
    "        # shufled_df['text'] = pd.concat((shufled_df, translated_df)) translated_df['text'].apply(lambda x: shuffle_aug.augment(x))\n",
    "        res = pd.concat((res, translated_df))\n",
    "    return res\n",
    "c_augmented_df = context_augment_data(augmented_train_df,  ['HER2+', 'TNBC'])"
   ]
  },
  {
   "cell_type": "code",
   "execution_count": 66,
   "metadata": {},
   "outputs": [
    {
     "data": {
      "text/plain": [
       "HER2+    604\n",
       "HR+      545\n",
       "TNBC     484\n",
       "Name: SUBTYPE, dtype: int64"
      ]
     },
     "execution_count": 66,
     "metadata": {},
     "output_type": "execute_result"
    }
   ],
   "source": [
    "c_augmented_df['SUBTYPE'].value_counts()"
   ]
  },
  {
   "cell_type": "code",
   "execution_count": 70,
   "metadata": {},
   "outputs": [
    {
     "data": {
      "text/plain": [
       "HER2+    1208\n",
       "HR+      1090\n",
       "TNBC      968\n",
       "Name: SUBTYPE, dtype: int64"
      ]
     },
     "execution_count": 70,
     "metadata": {},
     "output_type": "execute_result"
    }
   ],
   "source": [
    "sentence_aug_df = sentence_aug(c_augmented_df)\n",
    "sentence_aug_df['SUBTYPE'].value_counts()"
   ]
  },
  {
   "cell_type": "code",
   "execution_count": 73,
   "metadata": {},
   "outputs": [
    {
     "name": "stdout",
     "output_type": "stream",
     "text": [
      "HER2+    2416\n",
      "HR+      2180\n",
      "TNBC     1936\n",
      "Name: SUBTYPE, dtype: int64\n"
     ]
    }
   ],
   "source": [
    "char_aug_df = char_aug(sentence_aug_df)\n",
    "print(char_aug_df['SUBTYPE'].value_counts())"
   ]
  },
  {
   "cell_type": "code",
   "execution_count": 75,
   "metadata": {},
   "outputs": [],
   "source": [
    "# char_aug_df.to_csv('../data/char_aug_df.csv')\n",
    "# sentence_aug_df.to_csv('../data/sentence_aug_df.csv')"
   ]
  },
  {
   "cell_type": "code",
   "execution_count": 52,
   "metadata": {},
   "outputs": [
    {
     "data": {
      "text/html": [
       "<div>\n",
       "<style scoped>\n",
       "    .dataframe tbody tr th:only-of-type {\n",
       "        vertical-align: middle;\n",
       "    }\n",
       "\n",
       "    .dataframe tbody tr th {\n",
       "        vertical-align: top;\n",
       "    }\n",
       "\n",
       "    .dataframe thead th {\n",
       "        text-align: right;\n",
       "    }\n",
       "</style>\n",
       "<table border=\"1\" class=\"dataframe\">\n",
       "  <thead>\n",
       "    <tr style=\"text-align: right;\">\n",
       "      <th></th>\n",
       "      <th>subtype</th>\n",
       "    </tr>\n",
       "  </thead>\n",
       "  <tbody>\n",
       "    <tr>\n",
       "      <th>TCGA-3C-AALJ</th>\n",
       "      <td>HR+</td>\n",
       "    </tr>\n",
       "    <tr>\n",
       "      <th>TCGA-4H-AAAK</th>\n",
       "      <td>HR+</td>\n",
       "    </tr>\n",
       "    <tr>\n",
       "      <th>TCGA-5L-AAT1</th>\n",
       "      <td>HR+</td>\n",
       "    </tr>\n",
       "    <tr>\n",
       "      <th>TCGA-A2-A25E</th>\n",
       "      <td>HR+</td>\n",
       "    </tr>\n",
       "    <tr>\n",
       "      <th>TCGA-A7-A0CH</th>\n",
       "      <td>HR+</td>\n",
       "    </tr>\n",
       "    <tr>\n",
       "      <th>...</th>\n",
       "      <td>...</td>\n",
       "    </tr>\n",
       "    <tr>\n",
       "      <th>TCGA-E9-A5UP</th>\n",
       "      <td>HER2+</td>\n",
       "    </tr>\n",
       "    <tr>\n",
       "      <th>TCGA-EW-A6SD</th>\n",
       "      <td>HER2+</td>\n",
       "    </tr>\n",
       "    <tr>\n",
       "      <th>TCGA-PL-A8LV</th>\n",
       "      <td>TNBC</td>\n",
       "    </tr>\n",
       "    <tr>\n",
       "      <th>TCGA-PL-A8LX</th>\n",
       "      <td>HR+</td>\n",
       "    </tr>\n",
       "    <tr>\n",
       "      <th>TCGA-PL-A8LZ</th>\n",
       "      <td>TNBC</td>\n",
       "    </tr>\n",
       "  </tbody>\n",
       "</table>\n",
       "<p>112 rows × 1 columns</p>\n",
       "</div>"
      ],
      "text/plain": [
       "             subtype\n",
       "TCGA-3C-AALJ     HR+\n",
       "TCGA-4H-AAAK     HR+\n",
       "TCGA-5L-AAT1     HR+\n",
       "TCGA-A2-A25E     HR+\n",
       "TCGA-A7-A0CH     HR+\n",
       "...              ...\n",
       "TCGA-E9-A5UP   HER2+\n",
       "TCGA-EW-A6SD   HER2+\n",
       "TCGA-PL-A8LV    TNBC\n",
       "TCGA-PL-A8LX     HR+\n",
       "TCGA-PL-A8LZ    TNBC\n",
       "\n",
       "[112 rows x 1 columns]"
      ]
     },
     "execution_count": 52,
     "metadata": {},
     "output_type": "execute_result"
    }
   ],
   "source": [
    "import pandas as pd\n",
    "rna_seq_df = pd.read_excel('../data/BRCA_predicted_subtypes.xlsx', index_col='patients_id')\n",
    "negative_df = pd.read_csv('./negative_df.csv',  index_col=0)\n",
    "negative_df = negative_df.join(rna_seq_df, how='inner')[['subtype']]\n",
    "raw_exams_df = pd.read_csv('../data/TCGA_Reports.csv')\n",
    "\n",
    "# rna_seq_df = rna_seq_df.apply(get_new_rna_row, axis=1)\n",
    "negative_df"
   ]
  },
  {
   "cell_type": "code",
   "execution_count": 56,
   "metadata": {},
   "outputs": [],
   "source": [
    "raw_exams_df['patient_id'] = raw_exams_df['patient_filename'].apply(lambda x: x.split('.')[0])\n",
    "raw_exams_df.set_index('patient_id', inplace=True)"
   ]
  },
  {
   "cell_type": "code",
   "execution_count": 57,
   "metadata": {},
   "outputs": [
    {
     "data": {
      "text/html": [
       "<div>\n",
       "<style scoped>\n",
       "    .dataframe tbody tr th:only-of-type {\n",
       "        vertical-align: middle;\n",
       "    }\n",
       "\n",
       "    .dataframe tbody tr th {\n",
       "        vertical-align: top;\n",
       "    }\n",
       "\n",
       "    .dataframe thead th {\n",
       "        text-align: right;\n",
       "    }\n",
       "</style>\n",
       "<table border=\"1\" class=\"dataframe\">\n",
       "  <thead>\n",
       "    <tr style=\"text-align: right;\">\n",
       "      <th></th>\n",
       "      <th>subtype</th>\n",
       "      <th>patient_filename</th>\n",
       "      <th>text</th>\n",
       "    </tr>\n",
       "  </thead>\n",
       "  <tbody>\n",
       "    <tr>\n",
       "      <th>TCGA-3C-AALJ</th>\n",
       "      <td>HR+</td>\n",
       "      <td>TCGA-3C-AALJ.265E5A9A-64FD-4B86-89BC-5E89F253C118</td>\n",
       "      <td>Path No.: Date Obtained: (Age: ). Date Receive...</td>\n",
       "    </tr>\n",
       "    <tr>\n",
       "      <th>TCGA-4H-AAAK</th>\n",
       "      <td>HR+</td>\n",
       "      <td>TCGA-4H-AAAK.8894688F-7167-48A1-BB1B-FC219B7675C2</td>\n",
       "      <td>Procedure: Left radical mastectomy. Preoperati...</td>\n",
       "    </tr>\n",
       "    <tr>\n",
       "      <th>TCGA-5L-AAT1</th>\n",
       "      <td>HR+</td>\n",
       "      <td>TCGA-5L-AAT1.B5CA42BB-9514-42C6-9FB0-C8889C1DC51A</td>\n",
       "      <td>Gender: Female. Color: White. Origin: Nature o...</td>\n",
       "    </tr>\n",
       "    <tr>\n",
       "      <th>TCGA-A2-A25E</th>\n",
       "      <td>HR+</td>\n",
       "      <td>TCGA-A2-A25E.B81555D4-78D9-4235-AABE-F852CA6F15B5</td>\n",
       "      <td>Specimen #: (Age: F Race: Physician (s) : AMEN...</td>\n",
       "    </tr>\n",
       "    <tr>\n",
       "      <th>TCGA-A7-A0CH</th>\n",
       "      <td>HR+</td>\n",
       "      <td>TCGA-A7-A0CH.F70DA7E5-2AB3-487F-8B2C-72EEE91E58E0</td>\n",
       "      <td>SPECIMEN. A. Sentinel node left breast. B. Lef...</td>\n",
       "    </tr>\n",
       "    <tr>\n",
       "      <th>...</th>\n",
       "      <td>...</td>\n",
       "      <td>...</td>\n",
       "      <td>...</td>\n",
       "    </tr>\n",
       "    <tr>\n",
       "      <th>TCGA-E9-A5UP</th>\n",
       "      <td>HER2+</td>\n",
       "      <td>TCGA-E9-A5UP.B50AB6D5-3010-450E-9CCE-E9BFA0202736</td>\n",
       "      <td>Gross Description: There is a quadrant of the ...</td>\n",
       "    </tr>\n",
       "    <tr>\n",
       "      <th>TCGA-EW-A6SD</th>\n",
       "      <td>HER2+</td>\n",
       "      <td>TCGA-EW-A6SD.9FB40DC5-BED9-420E-B334-4D0BE8B8BCF5</td>\n",
       "      <td>F. Pathologic Interpretation: A. LEFT BREAST L...</td>\n",
       "    </tr>\n",
       "    <tr>\n",
       "      <th>TCGA-PL-A8LV</th>\n",
       "      <td>TNBC</td>\n",
       "      <td>TCGA-PL-A8LV.D35DBECD-5241-4562-85CC-2822BB338279</td>\n",
       "      <td>Sex: Female. Date of Tumour Procurement: 1. GR...</td>\n",
       "    </tr>\n",
       "    <tr>\n",
       "      <th>TCGA-PL-A8LX</th>\n",
       "      <td>HR+</td>\n",
       "      <td>TCGA-PL-A8LX.E6DD0840-4D71-4EEC-B559-F6BFC9E7E68B</td>\n",
       "      <td>Sex: Female. Date of Tumour Procurement: 1. GR...</td>\n",
       "    </tr>\n",
       "    <tr>\n",
       "      <th>TCGA-PL-A8LZ</th>\n",
       "      <td>TNBC</td>\n",
       "      <td>TCGA-PL-A8LZ.436F3280-98C7-4FA9-BD6F-1B02CAF1D262</td>\n",
       "      <td>Sex: Female. Date of Tumour Procurement: 1. GR...</td>\n",
       "    </tr>\n",
       "  </tbody>\n",
       "</table>\n",
       "<p>112 rows × 3 columns</p>\n",
       "</div>"
      ],
      "text/plain": [
       "             subtype                                   patient_filename  \\\n",
       "TCGA-3C-AALJ     HR+  TCGA-3C-AALJ.265E5A9A-64FD-4B86-89BC-5E89F253C118   \n",
       "TCGA-4H-AAAK     HR+  TCGA-4H-AAAK.8894688F-7167-48A1-BB1B-FC219B7675C2   \n",
       "TCGA-5L-AAT1     HR+  TCGA-5L-AAT1.B5CA42BB-9514-42C6-9FB0-C8889C1DC51A   \n",
       "TCGA-A2-A25E     HR+  TCGA-A2-A25E.B81555D4-78D9-4235-AABE-F852CA6F15B5   \n",
       "TCGA-A7-A0CH     HR+  TCGA-A7-A0CH.F70DA7E5-2AB3-487F-8B2C-72EEE91E58E0   \n",
       "...              ...                                                ...   \n",
       "TCGA-E9-A5UP   HER2+  TCGA-E9-A5UP.B50AB6D5-3010-450E-9CCE-E9BFA0202736   \n",
       "TCGA-EW-A6SD   HER2+  TCGA-EW-A6SD.9FB40DC5-BED9-420E-B334-4D0BE8B8BCF5   \n",
       "TCGA-PL-A8LV    TNBC  TCGA-PL-A8LV.D35DBECD-5241-4562-85CC-2822BB338279   \n",
       "TCGA-PL-A8LX     HR+  TCGA-PL-A8LX.E6DD0840-4D71-4EEC-B559-F6BFC9E7E68B   \n",
       "TCGA-PL-A8LZ    TNBC  TCGA-PL-A8LZ.436F3280-98C7-4FA9-BD6F-1B02CAF1D262   \n",
       "\n",
       "                                                           text  \n",
       "TCGA-3C-AALJ  Path No.: Date Obtained: (Age: ). Date Receive...  \n",
       "TCGA-4H-AAAK  Procedure: Left radical mastectomy. Preoperati...  \n",
       "TCGA-5L-AAT1  Gender: Female. Color: White. Origin: Nature o...  \n",
       "TCGA-A2-A25E  Specimen #: (Age: F Race: Physician (s) : AMEN...  \n",
       "TCGA-A7-A0CH  SPECIMEN. A. Sentinel node left breast. B. Lef...  \n",
       "...                                                         ...  \n",
       "TCGA-E9-A5UP  Gross Description: There is a quadrant of the ...  \n",
       "TCGA-EW-A6SD  F. Pathologic Interpretation: A. LEFT BREAST L...  \n",
       "TCGA-PL-A8LV  Sex: Female. Date of Tumour Procurement: 1. GR...  \n",
       "TCGA-PL-A8LX  Sex: Female. Date of Tumour Procurement: 1. GR...  \n",
       "TCGA-PL-A8LZ  Sex: Female. Date of Tumour Procurement: 1. GR...  \n",
       "\n",
       "[112 rows x 3 columns]"
      ]
     },
     "execution_count": 57,
     "metadata": {},
     "output_type": "execute_result"
    }
   ],
   "source": [
    "negative_df.join(raw_exams_df, how='inner')"
   ]
  },
  {
   "cell_type": "code",
   "execution_count": 10,
   "metadata": {},
   "outputs": [
    {
     "data": {
      "text/plain": [
       "(126, 126)"
      ]
     },
     "execution_count": 10,
     "metadata": {},
     "output_type": "execute_result"
    }
   ],
   "source": [
    "len(negative_df.index), len(negative_df.index.unique())"
   ]
  },
  {
   "cell_type": "code",
   "execution_count": 11,
   "metadata": {},
   "outputs": [
    {
     "data": {
      "text/plain": [
       "(981, 966)"
      ]
     },
     "execution_count": 11,
     "metadata": {},
     "output_type": "execute_result"
    }
   ],
   "source": [
    "len(rna_seq_df.index), len(rna_seq_df.index.unique())"
   ]
  },
  {
   "cell_type": "code",
   "execution_count": 43,
   "metadata": {},
   "outputs": [
    {
     "ename": "InvalidIndexError",
     "evalue": "Reindexing only valid with uniquely valued Index objects",
     "output_type": "error",
     "traceback": [
      "\u001b[1;31m---------------------------------------------------------------------------\u001b[0m",
      "\u001b[1;31mInvalidIndexError\u001b[0m                         Traceback (most recent call last)",
      "\u001b[1;32m~\\AppData\\Local\\Temp\\2\\ipykernel_16036\\2388941476.py\u001b[0m in \u001b[0;36m<cell line: 3>\u001b[1;34m()\u001b[0m\n\u001b[0;32m      1\u001b[0m \u001b[0mnon_unique_rna_index\u001b[0m \u001b[1;33m=\u001b[0m \u001b[0mrna_seq_df\u001b[0m\u001b[1;33m.\u001b[0m\u001b[0mindex\u001b[0m\u001b[1;33m.\u001b[0m\u001b[0munique\u001b[0m\u001b[1;33m(\u001b[0m\u001b[1;33m)\u001b[0m\u001b[1;33m[\u001b[0m\u001b[0mrna_seq_df\u001b[0m\u001b[1;33m.\u001b[0m\u001b[0mindex\u001b[0m\u001b[1;33m.\u001b[0m\u001b[0mvalue_counts\u001b[0m\u001b[1;33m(\u001b[0m\u001b[1;33m)\u001b[0m \u001b[1;33m>\u001b[0m \u001b[1;36m1\u001b[0m\u001b[1;33m]\u001b[0m\u001b[1;33m\u001b[0m\u001b[1;33m\u001b[0m\u001b[0m\n\u001b[0;32m      2\u001b[0m \u001b[0mnon_unique_negative_index\u001b[0m \u001b[1;33m=\u001b[0m \u001b[0mnegative_df\u001b[0m\u001b[1;33m.\u001b[0m\u001b[0mindex\u001b[0m\u001b[1;33m.\u001b[0m\u001b[0munique\u001b[0m\u001b[1;33m(\u001b[0m\u001b[1;33m)\u001b[0m\u001b[1;33m[\u001b[0m\u001b[0mnegative_df\u001b[0m\u001b[1;33m.\u001b[0m\u001b[0mindex\u001b[0m\u001b[1;33m.\u001b[0m\u001b[0mvalue_counts\u001b[0m\u001b[1;33m(\u001b[0m\u001b[1;33m)\u001b[0m \u001b[1;33m>\u001b[0m \u001b[1;36m1\u001b[0m\u001b[1;33m]\u001b[0m\u001b[1;33m\u001b[0m\u001b[1;33m\u001b[0m\u001b[0m\n\u001b[1;32m----> 3\u001b[1;33m \u001b[0mpd\u001b[0m\u001b[1;33m.\u001b[0m\u001b[0mconcat\u001b[0m\u001b[1;33m(\u001b[0m\u001b[1;33m(\u001b[0m\u001b[0mnegative_df\u001b[0m\u001b[1;33m.\u001b[0m\u001b[0mdrop\u001b[0m\u001b[1;33m(\u001b[0m\u001b[0mnon_unique_negative_index\u001b[0m\u001b[1;33m)\u001b[0m\u001b[1;33m,\u001b[0m \u001b[0mrna_seq_df\u001b[0m\u001b[1;33m.\u001b[0m\u001b[0mdrop\u001b[0m\u001b[1;33m(\u001b[0m\u001b[0mnon_unique_rna_index\u001b[0m\u001b[1;33m)\u001b[0m\u001b[1;33m.\u001b[0m\u001b[0mreindex\u001b[0m\u001b[1;33m(\u001b[0m\u001b[1;33m)\u001b[0m\u001b[1;33m)\u001b[0m\u001b[1;33m,\u001b[0m \u001b[0maxis\u001b[0m\u001b[1;33m=\u001b[0m\u001b[1;36m1\u001b[0m\u001b[1;33m)\u001b[0m\u001b[1;33m\u001b[0m\u001b[1;33m\u001b[0m\u001b[0m\n\u001b[0m",
      "\u001b[1;32md:\\jswietek\\mgr\\env\\lib\\site-packages\\pandas\\util\\_decorators.py\u001b[0m in \u001b[0;36mwrapper\u001b[1;34m(*args, **kwargs)\u001b[0m\n\u001b[0;32m    309\u001b[0m                     \u001b[0mstacklevel\u001b[0m\u001b[1;33m=\u001b[0m\u001b[0mstacklevel\u001b[0m\u001b[1;33m,\u001b[0m\u001b[1;33m\u001b[0m\u001b[1;33m\u001b[0m\u001b[0m\n\u001b[0;32m    310\u001b[0m                 )\n\u001b[1;32m--> 311\u001b[1;33m             \u001b[1;32mreturn\u001b[0m \u001b[0mfunc\u001b[0m\u001b[1;33m(\u001b[0m\u001b[1;33m*\u001b[0m\u001b[0margs\u001b[0m\u001b[1;33m,\u001b[0m \u001b[1;33m**\u001b[0m\u001b[0mkwargs\u001b[0m\u001b[1;33m)\u001b[0m\u001b[1;33m\u001b[0m\u001b[1;33m\u001b[0m\u001b[0m\n\u001b[0m\u001b[0;32m    312\u001b[0m \u001b[1;33m\u001b[0m\u001b[0m\n\u001b[0;32m    313\u001b[0m         \u001b[1;32mreturn\u001b[0m \u001b[0mwrapper\u001b[0m\u001b[1;33m\u001b[0m\u001b[1;33m\u001b[0m\u001b[0m\n",
      "\u001b[1;32md:\\jswietek\\mgr\\env\\lib\\site-packages\\pandas\\core\\reshape\\concat.py\u001b[0m in \u001b[0;36mconcat\u001b[1;34m(objs, axis, join, ignore_index, keys, levels, names, verify_integrity, sort, copy)\u001b[0m\n\u001b[0;32m    305\u001b[0m     )\n\u001b[0;32m    306\u001b[0m \u001b[1;33m\u001b[0m\u001b[0m\n\u001b[1;32m--> 307\u001b[1;33m     \u001b[1;32mreturn\u001b[0m \u001b[0mop\u001b[0m\u001b[1;33m.\u001b[0m\u001b[0mget_result\u001b[0m\u001b[1;33m(\u001b[0m\u001b[1;33m)\u001b[0m\u001b[1;33m\u001b[0m\u001b[1;33m\u001b[0m\u001b[0m\n\u001b[0m\u001b[0;32m    308\u001b[0m \u001b[1;33m\u001b[0m\u001b[0m\n\u001b[0;32m    309\u001b[0m \u001b[1;33m\u001b[0m\u001b[0m\n",
      "\u001b[1;32md:\\jswietek\\mgr\\env\\lib\\site-packages\\pandas\\core\\reshape\\concat.py\u001b[0m in \u001b[0;36mget_result\u001b[1;34m(self)\u001b[0m\n\u001b[0;32m    526\u001b[0m                     \u001b[0mobj_labels\u001b[0m \u001b[1;33m=\u001b[0m \u001b[0mobj\u001b[0m\u001b[1;33m.\u001b[0m\u001b[0maxes\u001b[0m\u001b[1;33m[\u001b[0m\u001b[1;36m1\u001b[0m \u001b[1;33m-\u001b[0m \u001b[0max\u001b[0m\u001b[1;33m]\u001b[0m\u001b[1;33m\u001b[0m\u001b[1;33m\u001b[0m\u001b[0m\n\u001b[0;32m    527\u001b[0m                     \u001b[1;32mif\u001b[0m \u001b[1;32mnot\u001b[0m \u001b[0mnew_labels\u001b[0m\u001b[1;33m.\u001b[0m\u001b[0mequals\u001b[0m\u001b[1;33m(\u001b[0m\u001b[0mobj_labels\u001b[0m\u001b[1;33m)\u001b[0m\u001b[1;33m:\u001b[0m\u001b[1;33m\u001b[0m\u001b[1;33m\u001b[0m\u001b[0m\n\u001b[1;32m--> 528\u001b[1;33m                         \u001b[0mindexers\u001b[0m\u001b[1;33m[\u001b[0m\u001b[0max\u001b[0m\u001b[1;33m]\u001b[0m \u001b[1;33m=\u001b[0m \u001b[0mobj_labels\u001b[0m\u001b[1;33m.\u001b[0m\u001b[0mget_indexer\u001b[0m\u001b[1;33m(\u001b[0m\u001b[0mnew_labels\u001b[0m\u001b[1;33m)\u001b[0m\u001b[1;33m\u001b[0m\u001b[1;33m\u001b[0m\u001b[0m\n\u001b[0m\u001b[0;32m    529\u001b[0m \u001b[1;33m\u001b[0m\u001b[0m\n\u001b[0;32m    530\u001b[0m                 \u001b[0mmgrs_indexers\u001b[0m\u001b[1;33m.\u001b[0m\u001b[0mappend\u001b[0m\u001b[1;33m(\u001b[0m\u001b[1;33m(\u001b[0m\u001b[0mobj\u001b[0m\u001b[1;33m.\u001b[0m\u001b[0m_mgr\u001b[0m\u001b[1;33m,\u001b[0m \u001b[0mindexers\u001b[0m\u001b[1;33m)\u001b[0m\u001b[1;33m)\u001b[0m\u001b[1;33m\u001b[0m\u001b[1;33m\u001b[0m\u001b[0m\n",
      "\u001b[1;32md:\\jswietek\\mgr\\env\\lib\\site-packages\\pandas\\core\\indexes\\base.py\u001b[0m in \u001b[0;36mget_indexer\u001b[1;34m(self, target, method, limit, tolerance)\u001b[0m\n\u001b[0;32m   3440\u001b[0m \u001b[1;33m\u001b[0m\u001b[0m\n\u001b[0;32m   3441\u001b[0m         \u001b[1;32mif\u001b[0m \u001b[1;32mnot\u001b[0m \u001b[0mself\u001b[0m\u001b[1;33m.\u001b[0m\u001b[0m_index_as_unique\u001b[0m\u001b[1;33m:\u001b[0m\u001b[1;33m\u001b[0m\u001b[1;33m\u001b[0m\u001b[0m\n\u001b[1;32m-> 3442\u001b[1;33m             \u001b[1;32mraise\u001b[0m \u001b[0mInvalidIndexError\u001b[0m\u001b[1;33m(\u001b[0m\u001b[0mself\u001b[0m\u001b[1;33m.\u001b[0m\u001b[0m_requires_unique_msg\u001b[0m\u001b[1;33m)\u001b[0m\u001b[1;33m\u001b[0m\u001b[1;33m\u001b[0m\u001b[0m\n\u001b[0m\u001b[0;32m   3443\u001b[0m \u001b[1;33m\u001b[0m\u001b[0m\n\u001b[0;32m   3444\u001b[0m         \u001b[1;32mif\u001b[0m \u001b[1;32mnot\u001b[0m \u001b[0mself\u001b[0m\u001b[1;33m.\u001b[0m\u001b[0m_should_compare\u001b[0m\u001b[1;33m(\u001b[0m\u001b[0mtarget\u001b[0m\u001b[1;33m)\u001b[0m \u001b[1;32mand\u001b[0m \u001b[1;32mnot\u001b[0m \u001b[0mis_interval_dtype\u001b[0m\u001b[1;33m(\u001b[0m\u001b[0mself\u001b[0m\u001b[1;33m.\u001b[0m\u001b[0mdtype\u001b[0m\u001b[1;33m)\u001b[0m\u001b[1;33m:\u001b[0m\u001b[1;33m\u001b[0m\u001b[1;33m\u001b[0m\u001b[0m\n",
      "\u001b[1;31mInvalidIndexError\u001b[0m: Reindexing only valid with uniquely valued Index objects"
     ]
    }
   ],
   "source": [
    "non_unique_rna_index = rna_seq_df.index.unique()[rna_seq_df.index.value_counts() > 1]\n",
    "non_unique_negative_index = negative_df.index.unique()[negative_df.index.value_counts() > 1]\n",
    "pd.concat((negative_df.drop(non_unique_negative_index), rna_seq_df.drop(non_unique_rna_index).reindex()), axis=1)"
   ]
  },
  {
   "cell_type": "code",
   "execution_count": 59,
   "metadata": {},
   "outputs": [
    {
     "data": {
      "text/plain": [
       "set()"
      ]
     },
     "execution_count": 59,
     "metadata": {},
     "output_type": "execute_result"
    }
   ],
   "source": [
    "sentence_aug_df = pd.read_csv('../data/sentence_aug_df.csv')\n",
    "set(sentence_aug_df.index).intersection(set(negative_df.index))"
   ]
  },
  {
   "cell_type": "code",
   "execution_count": 62,
   "metadata": {},
   "outputs": [
    {
     "data": {
      "text/plain": [
       "set()"
      ]
     },
     "execution_count": 62,
     "metadata": {},
     "output_type": "execute_result"
    }
   ],
   "source": [
    "raw_exams_df = pd.read_csv('../data/TCGA_Reports.csv')\n",
    "set(raw_exams_df.index).intersection(set(negative_df.index))"
   ]
  },
  {
   "cell_type": "code",
   "execution_count": 67,
   "metadata": {},
   "outputs": [
    {
     "data": {
      "text/html": [
       "<div>\n",
       "<style scoped>\n",
       "    .dataframe tbody tr th:only-of-type {\n",
       "        vertical-align: middle;\n",
       "    }\n",
       "\n",
       "    .dataframe tbody tr th {\n",
       "        vertical-align: top;\n",
       "    }\n",
       "\n",
       "    .dataframe thead th {\n",
       "        text-align: right;\n",
       "    }\n",
       "</style>\n",
       "<table border=\"1\" class=\"dataframe\">\n",
       "  <thead>\n",
       "    <tr style=\"text-align: right;\">\n",
       "      <th></th>\n",
       "      <th>patient_filename</th>\n",
       "      <th>text</th>\n",
       "    </tr>\n",
       "  </thead>\n",
       "  <tbody>\n",
       "    <tr>\n",
       "      <th>0</th>\n",
       "      <td>TCGA-BP-5195.25c0b433-5557-4165-922e-2c1eac9c26f0</td>\n",
       "      <td>Date of Recelpt: Clinical Diagnosis &amp; History:...</td>\n",
       "    </tr>\n",
       "    <tr>\n",
       "      <th>1</th>\n",
       "      <td>TCGA-D7-8573.b7306a47-697d-4ed3-bbe1-81d49674a8f8</td>\n",
       "      <td>Material: 1) Material: stomach, Method of coll...</td>\n",
       "    </tr>\n",
       "    <tr>\n",
       "      <th>2</th>\n",
       "      <td>TCGA-EI-7004.13591eed-30e5-47a3-91be-7a370663d2d4</td>\n",
       "      <td>page 1 / 1. copy No. 3. Examination: Histopath...</td>\n",
       "    </tr>\n",
       "    <tr>\n",
       "      <th>3</th>\n",
       "      <td>TCGA-EB-A82B.23E186C6-739C-4EF1-8788-79AA89C6E87A</td>\n",
       "      <td>Patient ID: Gross Description: A mass is locat...</td>\n",
       "    </tr>\n",
       "    <tr>\n",
       "      <th>4</th>\n",
       "      <td>TCGA-A6-3808.e1505f65-72ef-438d-a5e1-93ed8bf6635d</td>\n",
       "      <td>SPECIMEN. Right colon. CLINICAL NOTES. PRE-OP ...</td>\n",
       "    </tr>\n",
       "  </tbody>\n",
       "</table>\n",
       "</div>"
      ],
      "text/plain": [
       "                                    patient_filename  \\\n",
       "0  TCGA-BP-5195.25c0b433-5557-4165-922e-2c1eac9c26f0   \n",
       "1  TCGA-D7-8573.b7306a47-697d-4ed3-bbe1-81d49674a8f8   \n",
       "2  TCGA-EI-7004.13591eed-30e5-47a3-91be-7a370663d2d4   \n",
       "3  TCGA-EB-A82B.23E186C6-739C-4EF1-8788-79AA89C6E87A   \n",
       "4  TCGA-A6-3808.e1505f65-72ef-438d-a5e1-93ed8bf6635d   \n",
       "\n",
       "                                                text  \n",
       "0  Date of Recelpt: Clinical Diagnosis & History:...  \n",
       "1  Material: 1) Material: stomach, Method of coll...  \n",
       "2  page 1 / 1. copy No. 3. Examination: Histopath...  \n",
       "3  Patient ID: Gross Description: A mass is locat...  \n",
       "4  SPECIMEN. Right colon. CLINICAL NOTES. PRE-OP ...  "
      ]
     },
     "execution_count": 67,
     "metadata": {},
     "output_type": "execute_result"
    }
   ],
   "source": [
    "raw_exams_df.head()"
   ]
  },
  {
   "cell_type": "code",
   "execution_count": 71,
   "metadata": {},
   "outputs": [],
   "source": [
    "raw_exams_df['patient_id'] = raw_exams_df['patient_filename'].apply(lambda x: x.split('.')[0])\n",
    "existing_negative_ids = set(raw_exams_df['patient_id']).intersection(set(negative_df.index))"
   ]
  },
  {
   "cell_type": "code",
   "execution_count": 73,
   "metadata": {},
   "outputs": [
    {
     "data": {
      "text/plain": [
       "<AxesSubplot:>"
      ]
     },
     "execution_count": 73,
     "metadata": {},
     "output_type": "execute_result"
    },
    {
     "data": {
      "image/png": "[encoded data removed]",
      "text/plain": [
       "<Figure size 640x480 with 1 Axes>"
      ]
     },
     "metadata": {},
     "output_type": "display_data"
    }
   ],
   "source": [
    "negative_df.loc[existing_negative_ids]['subtype'].value_counts().plot(kind=\"bar\")"
   ]
  }
 ],
 "metadata": {
  "kernelspec": {
   "display_name": "env",
   "language": "python",
   "name": "python3"
  },
  "language_info": {
   "codemirror_mode": {
    "name": "ipython",
    "version": 3
   },
   "file_extension": ".py",
   "mimetype": "text/x-python",
   "name": "python",
   "nbconvert_exporter": "python",
   "pygments_lexer": "ipython3",
   "version": "3.9.7"
  }
 },
 "nbformat": 4,
 "nbformat_minor": 2
}
