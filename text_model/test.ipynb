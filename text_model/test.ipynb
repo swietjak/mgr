{
 "cells": [
  {
   "cell_type": "code",
   "execution_count": 1,
   "metadata": {},
   "outputs": [],
   "source": [
    "from sklearn.feature_extraction.text import TfidfVectorizer\n",
    "from sklearn.naive_bayes import MultinomialNB\n",
    "from sklearn.pipeline import make_pipeline\n",
    "import pandas as pd\n",
    "from sklearn.datasets import fetch_20newsgroups\n",
    "from sklearn.model_selection import train_test_split\n",
    "from sklearn.metrics import confusion_matrix\n",
    "import seaborn as sns\n",
    "from matplotlib import pyplot as plt"
   ]
  },
  {
   "cell_type": "code",
   "execution_count": 2,
   "metadata": {},
   "outputs": [],
   "source": [
    "df = pd.read_csv('./data/augmented_df.csv')\n",
    "df.head()\n",
    "X, y = df['text'].values, df['SUBTYPE'].values"
   ]
  },
  {
   "cell_type": "code",
   "execution_count": 3,
   "metadata": {},
   "outputs": [],
   "source": [
    "X_train, X_test, y_train, y_test = train_test_split(X, y, test_size=0.2, random_state=420, stratify=False)"
   ]
  },
  {
   "cell_type": "code",
   "execution_count": 28,
   "metadata": {},
   "outputs": [
    {
     "data": {
      "text/plain": [
       "(725, 725)"
      ]
     },
     "execution_count": 28,
     "metadata": {},
     "output_type": "execute_result"
    }
   ],
   "source": [
    "len(X_train), len(y_train)"
   ]
  },
  {
   "cell_type": "code",
   "execution_count": 4,
   "metadata": {},
   "outputs": [],
   "source": [
    "model = make_pipeline(TfidfVectorizer(), MultinomialNB())\n",
    "model.fit(X_train, y_train)\n",
    "labels = model.predict(X_test)"
   ]
  },
  {
   "cell_type": "code",
   "execution_count": 33,
   "metadata": {},
   "outputs": [
    {
     "name": "stdout",
     "output_type": "stream",
     "text": [
      "['hr+her2-' 'hr+her2-' 'hr+her2-' 'hr+her2-' 'hr+her2-' 'hr+her2-'\n",
      " 'hr+her2-' 'hr+her2-' 'hr+her2-' 'hr+her2-' 'hr+her2-' 'hr+her2-'\n",
      " 'hr+her2-' 'hr+her2-' 'hr+her2-' 'hr+her2-' 'hr+her2-' 'hr+her2-'\n",
      " 'hr+her2-' 'hr+her2-' 'hr+her2-' 'hr+her2-' 'hr+her2-' 'hr+her2-'\n",
      " 'hr+her2-' 'hr+her2-' 'hr+her2-' 'hr+her2-' 'hr+her2-' 'hr+her2-'\n",
      " 'hr+her2-' 'hr+her2-' 'hr+her2-' 'hr+her2-' 'hr+her2-' 'hr+her2-'\n",
      " 'hr+her2-' 'hr+her2-' 'hr+her2-' 'hr+her2-' 'hr+her2-' 'hr+her2-'\n",
      " 'hr+her2-' 'hr+her2-' 'hr+her2-' 'hr+her2-' 'hr+her2-' 'hr+her2-'\n",
      " 'hr+her2-' 'hr+her2-' 'hr+her2-' 'hr+her2-' 'hr+her2-' 'hr+her2-'\n",
      " 'hr+her2-' 'hr+her2-' 'hr+her2-' 'hr+her2-' 'hr+her2-' 'hr+her2-'\n",
      " 'hr+her2-' 'hr+her2-' 'hr+her2-' 'hr+her2-' 'hr+her2-' 'hr+her2-'\n",
      " 'hr+her2-' 'hr+her2-' 'hr+her2-' 'hr+her2-' 'hr+her2-' 'hr+her2-'\n",
      " 'hr+her2-' 'hr+her2-' 'hr+her2-' 'hr+her2-' 'hr+her2-' 'hr+her2-'\n",
      " 'hr+her2-' 'hr+her2-' 'hr+her2-' 'hr+her2-' 'hr+her2-' 'hr+her2-'\n",
      " 'hr+her2-' 'hr+her2-' 'hr+her2-' 'hr+her2-' 'hr+her2-' 'hr+her2-'\n",
      " 'hr+her2-' 'hr+her2-' 'hr+her2-' 'hr+her2-' 'hr+her2-' 'hr+her2-'\n",
      " 'hr+her2-' 'hr+her2-' 'hr+her2-' 'hr+her2-' 'hr+her2-' 'hr+her2-'\n",
      " 'hr+her2-' 'hr+her2-' 'hr+her2-' 'hr+her2-' 'hr+her2-' 'hr+her2-'\n",
      " 'hr+her2-' 'hr+her2-' 'hr+her2-' 'hr+her2-' 'hr+her2-' 'hr+her2-'\n",
      " 'hr+her2-' 'hr+her2-' 'hr+her2-' 'hr+her2-' 'hr+her2-' 'hr+her2-'\n",
      " 'hr+her2-' 'hr+her2-' 'hr+her2-' 'hr+her2-' 'hr+her2-' 'hr+her2-'\n",
      " 'hr+her2-' 'hr+her2-' 'hr+her2-' 'hr+her2-' 'hr+her2-' 'hr+her2-'\n",
      " 'hr+her2-' 'hr+her2-' 'hr+her2-' 'hr+her2-' 'hr+her2-' 'hr+her2-'\n",
      " 'hr+her2-' 'hr+her2-' 'hr+her2-' 'hr+her2-' 'hr+her2-' 'hr+her2-'\n",
      " 'hr+her2-' 'hr+her2-' 'hr+her2-' 'hr+her2-' 'hr+her2-' 'hr+her2-'\n",
      " 'hr+her2-' 'hr+her2-' 'hr+her2-' 'hr+her2-' 'hr+her2-' 'hr+her2-'\n",
      " 'hr+her2-' 'hr+her2-' 'hr+her2-' 'hr+her2-' 'hr+her2-' 'hr+her2-'\n",
      " 'hr+her2-' 'hr+her2-' 'hr+her2-' 'hr+her2-' 'hr+her2-' 'hr+her2-'\n",
      " 'hr+her2-' 'hr+her2-' 'hr+her2-' 'hr+her2-' 'hr+her2-' 'hr+her2-'\n",
      " 'hr+her2-' 'hr+her2-' 'hr+her2-' 'hr+her2-' 'hr+her2-' 'hr+her2-'\n",
      " 'hr+her2-' 'hr+her2-']\n"
     ]
    }
   ],
   "source": [
    "print(labels)"
   ]
  },
  {
   "cell_type": "code",
   "execution_count": 34,
   "metadata": {},
   "outputs": [
    {
     "data": {
      "text/plain": [
       "array(['hr+her2+', 'hr+her2-', 'hr-'], dtype=object)"
      ]
     },
     "execution_count": 34,
     "metadata": {},
     "output_type": "execute_result"
    }
   ],
   "source": [
    "df['SUBTYPE'].unique()"
   ]
  },
  {
   "cell_type": "code",
   "execution_count": 5,
   "metadata": {},
   "outputs": [
    {
     "data": {
      "text/plain": [
       "Text(113.9222222222222, 0.5, 'predicted label')"
      ]
     },
     "execution_count": 5,
     "metadata": {},
     "output_type": "execute_result"
    },
    {
     "data": {
      "image/png": "[encoded data removed]",
      "text/plain": [
       "<Figure size 640x480 with 1 Axes>"
      ]
     },
     "metadata": {},
     "output_type": "display_data"
    }
   ],
   "source": [
    "mat = confusion_matrix(y_test, labels)\n",
    "sns.heatmap(mat.T, square=True, annot=True, fmt='d', cbar=False,\n",
    "            xticklabels=df['SUBTYPE'].unique(), yticklabels=df['SUBTYPE'].unique())\n",
    "plt.xlabel('true label')\n",
    "plt.ylabel('predicted label')"
   ]
  }
 ],
 "metadata": {
  "kernelspec": {
   "display_name": "env",
   "language": "python",
   "name": "python3"
  },
  "language_info": {
   "codemirror_mode": {
    "name": "ipython",
    "version": 3
   },
   "file_extension": ".py",
   "mimetype": "text/x-python",
   "name": "python",
   "nbconvert_exporter": "python",
   "pygments_lexer": "ipython3",
   "version": "3.9.7"
  }
 },
 "nbformat": 4,
 "nbformat_minor": 2
}
