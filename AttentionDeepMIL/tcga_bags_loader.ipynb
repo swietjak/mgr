{
 "cells": [
  {
   "cell_type": "code",
   "execution_count": 2,
   "metadata": {},
   "outputs": [],
   "source": [
    "import numpy as np\n",
    "import pandas as pd\n",
    "import torch\n",
    "from torch.utils.data import Dataset, DataLoader"
   ]
  },
  {
   "cell_type": "code",
   "execution_count": 3,
   "metadata": {},
   "outputs": [],
   "source": [
    "class MnistBags(Dataset):\n",
    "    def __init__(self, df, mean_bag_length=10, var_bag_length=1, num_bag=1000, seed=7, train=True):\n",
    "        self.mean_bag_length = mean_bag_length\n",
    "        self.var_bag_length = var_bag_length\n",
    "        self.num_bag = num_bag\n",
    "        self.seed = seed\n",
    "        self.train = train\n",
    "\n",
    "        self.r = np.random.RandomState(seed)\n",
    "\n",
    "\n",
    "        if self.train:\n",
    "            self.train_bags_list, self.train_labels_list = self._form_bags()\n",
    "        else:\n",
    "            self.test_bags_list, self.test_labels_list = self._form_bags()\n",
    "    def get_grouped_data(self, df):\n",
    "        \n",
    "    def _form_bags(self, df):\n",
    "        bags_list = []\n",
    "        labels_list = []\n",
    "        valid_bags_counter = 0\n",
    "        label_of_last_bag = 0\n",
    "\n",
    "        for batch_data in loader:\n",
    "            numbers = batch_data[0]\n",
    "            labels = batch_data[1]\n",
    "\n",
    "        \n",
    "        while valid_bags_counter < self.num_bag:\n",
    "            bag_length = np.int(self.r.normal(\n",
    "                self.mean_bag_length, self.var_bag_length, 1))\n",
    "            if bag_length < 1:\n",
    "                bag_length = 1\n",
    "            indices = torch.LongTensor(\n",
    "                self.r.randint(0, self.ds_count, bag_length))\n",
    "            labels_in_bag = labels[indices]\n",
    "\n",
    "            if (self.target_number in labels_in_bag) and (label_of_last_bag == 0):\n",
    "                labels_in_bag = labels_in_bag >= self.target_number\n",
    "                labels_list.append(labels_in_bag)\n",
    "                bags_list.append(numbers[indices])\n",
    "                label_of_last_bag = 1\n",
    "                valid_bags_counter += 1\n",
    "            elif label_of_last_bag == 1:\n",
    "                index_list = []\n",
    "                bag_length_counter = 0\n",
    "                while bag_length_counter < bag_length:\n",
    "                    index = torch.LongTensor(\n",
    "                        self.r.randint(0, self.ds_count, 1))\n",
    "                    label_temp = labels[index]\n",
    "                    if label_temp.numpy()[0] != self.target_number:\n",
    "                        index_list.append(index)\n",
    "                        bag_length_counter += 1\n",
    "\n",
    "                index_list = np.array(index_list)\n",
    "                labels_in_bag = labels[index_list]\n",
    "                labels_in_bag = labels_in_bag >= self.target_number\n",
    "                labels_list.append(labels_in_bag)\n",
    "                bags_list.append(numbers[index_list])\n",
    "                label_of_last_bag = 0\n",
    "                valid_bags_counter += 1\n",
    "            else:\n",
    "                pass\n",
    "\n",
    "        return bags_list, labels_list\n",
    "\n",
    "    def __len__(self):\n",
    "        if self.train:\n",
    "            return len(self.train_labels_list)\n",
    "        else:\n",
    "            return len(self.test_labels_list)\n",
    "\n",
    "    def __getitem__(self, index):\n",
    "        if self.train:\n",
    "            bag = self.train_bags_list[index]\n",
    "            label = [max(self.train_labels_list[index]),\n",
    "                     self.train_labels_list[index]]\n",
    "        else:\n",
    "            bag = self.train_bags_list[index]\n",
    "            label = [max(self.train_labels_list[index]),\n",
    "                     self.train_labels_list[index]]\n",
    "\n",
    "        return bag, label"
   ]
  },
  {
   "cell_type": "code",
   "execution_count": 26,
   "metadata": {},
   "outputs": [],
   "source": [
    "df = pd.read_csv('/mnt/d/uczelnia/magister/TCGA_breast_patch/metadata.csv', index_col=0)\n",
    "df['patient_id'] = df['file_name'].apply(lambda x: x.split('/')[6])"
   ]
  },
  {
   "cell_type": "code",
   "execution_count": 27,
   "metadata": {},
   "outputs": [],
   "source": [
    "df.set_index(['patient_id', 'file_name'], inplace=True)"
   ]
  },
  {
   "cell_type": "code",
   "execution_count": 28,
   "metadata": {},
   "outputs": [
    {
     "data": {
      "text/plain": [
       "label    hr+her2+\n",
       "Name: /mnt/d/uczelnia/magister/TCGA_breast_patch/TCGA-3C-AALI-01A-01-T_R1/patch_10_10.png, dtype: object"
      ]
     },
     "execution_count": 28,
     "metadata": {},
     "output_type": "execute_result"
    }
   ],
   "source": [
    "df.loc['TCGA-3C-AALI-01A-01-T_R1'].loc['/mnt/d/uczelnia/magister/TCGA_breast_patch/TCGA-3C-AALI-01A-01-T_R1/patch_10_10.png']"
   ]
  },
  {
   "cell_type": "code",
   "execution_count": 33,
   "metadata": {},
   "outputs": [
    {
     "data": {
      "text/plain": [
       "Index(['TCGA-3C-AALI-01A-01-T_R1', 'TCGA-3C-AALI-01A-01-T_R2',\n",
       "       'TCGA-5L-AAT0-01A-01-T_R1', 'TCGA-5L-AAT0-01A-01-T_R2',\n",
       "       'TCGA-A1-A0SE-01A-01-B_R1', 'TCGA-A1-A0SE-01A-01-B_R2',\n",
       "       'TCGA-A1-A0SF-01A-01-M_R1', 'TCGA-A1-A0SF-01A-01-M_R2',\n",
       "       'TCGA-A1-A0SF-01A-01-T_R1', 'TCGA-A1-A0SF-01A-01-T_R2',\n",
       "       ...\n",
       "       'TCGA-S3-AA11-01A-03-T_R1', 'TCGA-S3-AA11-01A-03-T_R2',\n",
       "       'TCGA-S3-AA12-01A-01-T_R1', 'TCGA-S3-AA12-01A-01-T_R2',\n",
       "       'TCGA-S3-AA14-01A-01-T_R1', 'TCGA-S3-AA14-01A-01-T_R2',\n",
       "       'TCGA-S3-AA15-01A-01-T_R1', 'TCGA-S3-AA15-01A-01-T_R2',\n",
       "       'TCGA-S3-AA17-01A-01-T_R1', 'TCGA-S3-AA17-01A-01-T_R2'],\n",
       "      dtype='object', name='patient_id', length=2519)"
      ]
     },
     "execution_count": 33,
     "metadata": {},
     "output_type": "execute_result"
    }
   ],
   "source": [
    "df.index.get_level_values(0).unique()"
   ]
  }
 ],
 "metadata": {
  "kernelspec": {
   "display_name": "env",
   "language": "python",
   "name": "python3"
  },
  "language_info": {
   "codemirror_mode": {
    "name": "ipython",
    "version": 3
   },
   "file_extension": ".py",
   "mimetype": "text/x-python",
   "name": "python",
   "nbconvert_exporter": "python",
   "pygments_lexer": "ipython3",
   "version": "3.10.12"
  }
 },
 "nbformat": 4,
 "nbformat_minor": 2
}
