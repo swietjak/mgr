{
 "cells": [
  {
   "cell_type": "code",
   "execution_count": 1,
   "metadata": {},
   "outputs": [],
   "source": [
    "import pandas as pd"
   ]
  },
  {
   "cell_type": "code",
   "execution_count": 20,
   "metadata": {},
   "outputs": [],
   "source": [
    "white_stats = pd.read_csv('../data/white_stats.csv', index_col=0)\n",
    "params_df = pd.read_csv('../data/processed_df2.csv', index_col=0)\n",
    "negative_df = pd.read_csv('../text_model//negative_df.csv', index_col=0)"
   ]
  },
  {
   "cell_type": "code",
   "execution_count": 40,
   "metadata": {},
   "outputs": [
    {
     "data": {
      "text/plain": [
       "(907, 121)"
      ]
     },
     "execution_count": 40,
     "metadata": {},
     "output_type": "execute_result"
    }
   ],
   "source": [
    "params_df"
   ]
  },
  {
   "cell_type": "code",
   "execution_count": 5,
   "metadata": {},
   "outputs": [
    {
     "data": {
      "text/plain": [
       "(1116932, 4)"
      ]
     },
     "execution_count": 5,
     "metadata": {},
     "output_type": "execute_result"
    }
   ],
   "source": [
    "white_stats.shape"
   ]
  },
  {
   "cell_type": "code",
   "execution_count": 24,
   "metadata": {},
   "outputs": [],
   "source": [
    "white_stats['patient_id'] = white_stats['0'].apply(lambda x: '-'.join(x.replace('/mnt/d/uczelnia/magister/TCGA_breast_patch/', '').split('-')[0:3]))"
   ]
  },
  {
   "cell_type": "code",
   "execution_count": 35,
   "metadata": {},
   "outputs": [],
   "source": [
    "import os\n",
    "ids = set(['-'.join(d.split('-')[0:3]) for d in os.listdir('../data/TCGA_breast_patch/')[1:]])"
   ]
  },
  {
   "cell_type": "code",
   "execution_count": 37,
   "metadata": {},
   "outputs": [
    {
     "data": {
      "text/plain": [
       "102"
      ]
     },
     "execution_count": 37,
     "metadata": {},
     "output_type": "execute_result"
    }
   ],
   "source": [
    "negative_df.loc[negative_df.index.isin(ids), '']"
   ]
  },
  {
   "cell_type": "code",
   "execution_count": 18,
   "metadata": {},
   "outputs": [
    {
     "data": {
      "text/plain": [
       "'/mnt/d/uczelnia/magister/TCGA_breast_patch/TCGA-3C-AAAU-01A-01-T_R1/patch_10_1.png'"
      ]
     },
     "execution_count": 18,
     "metadata": {},
     "output_type": "execute_result"
    }
   ],
   "source": [
    "white_stats.iloc[0,0]"
   ]
  },
  {
   "cell_type": "code",
   "execution_count": 27,
   "metadata": {},
   "outputs": [
    {
     "data": {
      "text/html": [
       "<div>\n",
       "<style scoped>\n",
       "    .dataframe tbody tr th:only-of-type {\n",
       "        vertical-align: middle;\n",
       "    }\n",
       "\n",
       "    .dataframe tbody tr th {\n",
       "        vertical-align: top;\n",
       "    }\n",
       "\n",
       "    .dataframe thead th {\n",
       "        text-align: right;\n",
       "    }\n",
       "</style>\n",
       "<table border=\"1\" class=\"dataframe\">\n",
       "  <thead>\n",
       "    <tr style=\"text-align: right;\">\n",
       "      <th></th>\n",
       "      <th>0</th>\n",
       "      <th>1</th>\n",
       "      <th>2</th>\n",
       "      <th>3</th>\n",
       "      <th>patient_id</th>\n",
       "    </tr>\n",
       "  </thead>\n",
       "  <tbody>\n",
       "    <tr>\n",
       "      <th>0</th>\n",
       "      <td>/mnt/d/uczelnia/magister/TCGA_breast_patch/TCG...</td>\n",
       "      <td>0.999701</td>\n",
       "      <td>50161</td>\n",
       "      <td>50176</td>\n",
       "      <td>TCGA-3C-AAAU</td>\n",
       "    </tr>\n",
       "    <tr>\n",
       "      <th>1</th>\n",
       "      <td>/mnt/d/uczelnia/magister/TCGA_breast_patch/TCG...</td>\n",
       "      <td>0.000000</td>\n",
       "      <td>0</td>\n",
       "      <td>50176</td>\n",
       "      <td>TCGA-3C-AAAU</td>\n",
       "    </tr>\n",
       "    <tr>\n",
       "      <th>2</th>\n",
       "      <td>/mnt/d/uczelnia/magister/TCGA_breast_patch/TCG...</td>\n",
       "      <td>0.000020</td>\n",
       "      <td>1</td>\n",
       "      <td>50176</td>\n",
       "      <td>TCGA-3C-AAAU</td>\n",
       "    </tr>\n",
       "    <tr>\n",
       "      <th>3</th>\n",
       "      <td>/mnt/d/uczelnia/magister/TCGA_breast_patch/TCG...</td>\n",
       "      <td>0.000000</td>\n",
       "      <td>0</td>\n",
       "      <td>50176</td>\n",
       "      <td>TCGA-3C-AAAU</td>\n",
       "    </tr>\n",
       "    <tr>\n",
       "      <th>4</th>\n",
       "      <td>/mnt/d/uczelnia/magister/TCGA_breast_patch/TCG...</td>\n",
       "      <td>0.000060</td>\n",
       "      <td>3</td>\n",
       "      <td>50176</td>\n",
       "      <td>TCGA-3C-AAAU</td>\n",
       "    </tr>\n",
       "  </tbody>\n",
       "</table>\n",
       "</div>"
      ],
      "text/plain": [
       "                                                   0         1      2      3  \\\n",
       "0  /mnt/d/uczelnia/magister/TCGA_breast_patch/TCG...  0.999701  50161  50176   \n",
       "1  /mnt/d/uczelnia/magister/TCGA_breast_patch/TCG...  0.000000      0  50176   \n",
       "2  /mnt/d/uczelnia/magister/TCGA_breast_patch/TCG...  0.000020      1  50176   \n",
       "3  /mnt/d/uczelnia/magister/TCGA_breast_patch/TCG...  0.000000      0  50176   \n",
       "4  /mnt/d/uczelnia/magister/TCGA_breast_patch/TCG...  0.000060      3  50176   \n",
       "\n",
       "     patient_id  \n",
       "0  TCGA-3C-AAAU  \n",
       "1  TCGA-3C-AAAU  \n",
       "2  TCGA-3C-AAAU  \n",
       "3  TCGA-3C-AAAU  \n",
       "4  TCGA-3C-AAAU  "
      ]
     },
     "execution_count": 27,
     "metadata": {},
     "output_type": "execute_result"
    }
   ],
   "source": [
    "white_stats.head()"
   ]
  },
  {
   "cell_type": "code",
   "execution_count": 28,
   "metadata": {},
   "outputs": [],
   "source": [
    "df = white_stats.join(params_df['SUBTYPE'], 'patient_id', how='inner')\n",
    "df.rename(columns={'0': 'path', '1': 'percentage'}, inplace=True)"
   ]
  },
  {
   "cell_type": "code",
   "execution_count": 29,
   "metadata": {},
   "outputs": [
    {
     "data": {
      "text/html": [
       "<div>\n",
       "<style scoped>\n",
       "    .dataframe tbody tr th:only-of-type {\n",
       "        vertical-align: middle;\n",
       "    }\n",
       "\n",
       "    .dataframe tbody tr th {\n",
       "        vertical-align: top;\n",
       "    }\n",
       "\n",
       "    .dataframe thead th {\n",
       "        text-align: right;\n",
       "    }\n",
       "</style>\n",
       "<table border=\"1\" class=\"dataframe\">\n",
       "  <thead>\n",
       "    <tr style=\"text-align: right;\">\n",
       "      <th></th>\n",
       "      <th>path</th>\n",
       "      <th>percentage</th>\n",
       "      <th>2</th>\n",
       "      <th>3</th>\n",
       "      <th>patient_id</th>\n",
       "      <th>SUBTYPE</th>\n",
       "    </tr>\n",
       "  </thead>\n",
       "  <tbody>\n",
       "    <tr>\n",
       "      <th>1502</th>\n",
       "      <td>/mnt/d/uczelnia/magister/TCGA_breast_patch/TCG...</td>\n",
       "      <td>0.00000</td>\n",
       "      <td>0</td>\n",
       "      <td>50176</td>\n",
       "      <td>TCGA-3C-AALI</td>\n",
       "      <td>HER2+</td>\n",
       "    </tr>\n",
       "    <tr>\n",
       "      <th>1503</th>\n",
       "      <td>/mnt/d/uczelnia/magister/TCGA_breast_patch/TCG...</td>\n",
       "      <td>0.00002</td>\n",
       "      <td>1</td>\n",
       "      <td>50176</td>\n",
       "      <td>TCGA-3C-AALI</td>\n",
       "      <td>HER2+</td>\n",
       "    </tr>\n",
       "    <tr>\n",
       "      <th>1504</th>\n",
       "      <td>/mnt/d/uczelnia/magister/TCGA_breast_patch/TCG...</td>\n",
       "      <td>0.00000</td>\n",
       "      <td>0</td>\n",
       "      <td>50176</td>\n",
       "      <td>TCGA-3C-AALI</td>\n",
       "      <td>HER2+</td>\n",
       "    </tr>\n",
       "    <tr>\n",
       "      <th>1505</th>\n",
       "      <td>/mnt/d/uczelnia/magister/TCGA_breast_patch/TCG...</td>\n",
       "      <td>0.00000</td>\n",
       "      <td>0</td>\n",
       "      <td>50176</td>\n",
       "      <td>TCGA-3C-AALI</td>\n",
       "      <td>HER2+</td>\n",
       "    </tr>\n",
       "    <tr>\n",
       "      <th>1506</th>\n",
       "      <td>/mnt/d/uczelnia/magister/TCGA_breast_patch/TCG...</td>\n",
       "      <td>0.00000</td>\n",
       "      <td>0</td>\n",
       "      <td>50176</td>\n",
       "      <td>TCGA-3C-AALI</td>\n",
       "      <td>HER2+</td>\n",
       "    </tr>\n",
       "  </tbody>\n",
       "</table>\n",
       "</div>"
      ],
      "text/plain": [
       "                                                   path  percentage  2      3  \\\n",
       "1502  /mnt/d/uczelnia/magister/TCGA_breast_patch/TCG...     0.00000  0  50176   \n",
       "1503  /mnt/d/uczelnia/magister/TCGA_breast_patch/TCG...     0.00002  1  50176   \n",
       "1504  /mnt/d/uczelnia/magister/TCGA_breast_patch/TCG...     0.00000  0  50176   \n",
       "1505  /mnt/d/uczelnia/magister/TCGA_breast_patch/TCG...     0.00000  0  50176   \n",
       "1506  /mnt/d/uczelnia/magister/TCGA_breast_patch/TCG...     0.00000  0  50176   \n",
       "\n",
       "        patient_id SUBTYPE  \n",
       "1502  TCGA-3C-AALI   HER2+  \n",
       "1503  TCGA-3C-AALI   HER2+  \n",
       "1504  TCGA-3C-AALI   HER2+  \n",
       "1505  TCGA-3C-AALI   HER2+  \n",
       "1506  TCGA-3C-AALI   HER2+  "
      ]
     },
     "execution_count": 29,
     "metadata": {},
     "output_type": "execute_result"
    }
   ],
   "source": [
    "df.head()"
   ]
  },
  {
   "cell_type": "code",
   "execution_count": 30,
   "metadata": {},
   "outputs": [],
   "source": [
    "df['path'] = df['path'].apply(lambda x: x.replace('/mnt/d/uczelnia/magister', '../data'))"
   ]
  },
  {
   "cell_type": "code",
   "execution_count": 31,
   "metadata": {},
   "outputs": [],
   "source": [
    "filtered_df = df[df['percentage'] <= 0.2]"
   ]
  },
  {
   "cell_type": "code",
   "execution_count": 32,
   "metadata": {},
   "outputs": [
    {
     "data": {
      "text/plain": [
       "<AxesSubplot:>"
      ]
     },
     "execution_count": 32,
     "metadata": {},
     "output_type": "execute_result"
    },
    {
     "data": {
      "image/png": "[encoded data removed]",
      "text/plain": [
       "<Figure size 640x480 with 1 Axes>"
      ]
     },
     "metadata": {},
     "output_type": "display_data"
    }
   ],
   "source": [
    "filtered_df['SUBTYPE'].value_counts().plot.bar()"
   ]
  },
  {
   "cell_type": "code",
   "execution_count": 33,
   "metadata": {},
   "outputs": [],
   "source": [
    "filtered_df.rename(columns={'path': 'file_name', 'SUBTYPE': 'label'})[['file_name', 'label']].to_csv('../data/TCGA_breast_patch/metadata.csv')"
   ]
  }
 ],
 "metadata": {
  "kernelspec": {
   "display_name": "env",
   "language": "python",
   "name": "python3"
  },
  "language_info": {
   "codemirror_mode": {
    "name": "ipython",
    "version": 3
   },
   "file_extension": ".py",
   "mimetype": "text/x-python",
   "name": "python",
   "nbconvert_exporter": "python",
   "pygments_lexer": "ipython3",
   "version": "3.9.7"
  }
 },
 "nbformat": 4,
 "nbformat_minor": 2
}
