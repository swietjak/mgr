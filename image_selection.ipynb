{
 "cells": [
  {
   "cell_type": "code",
   "execution_count": 5,
   "metadata": {},
   "outputs": [],
   "source": [
    "import pandas as pd\n",
    "import numpy as np"
   ]
  },
  {
   "cell_type": "code",
   "execution_count": 6,
   "metadata": {},
   "outputs": [],
   "source": [
    "stats_df = pd.read_csv(\"white_stats.csv\")"
   ]
  },
  {
   "cell_type": "code",
   "execution_count": 7,
   "metadata": {},
   "outputs": [
    {
     "data": {
      "text/html": [
       "<div>\n",
       "<style scoped>\n",
       "    .dataframe tbody tr th:only-of-type {\n",
       "        vertical-align: middle;\n",
       "    }\n",
       "\n",
       "    .dataframe tbody tr th {\n",
       "        vertical-align: top;\n",
       "    }\n",
       "\n",
       "    .dataframe thead th {\n",
       "        text-align: right;\n",
       "    }\n",
       "</style>\n",
       "<table border=\"1\" class=\"dataframe\">\n",
       "  <thead>\n",
       "    <tr style=\"text-align: right;\">\n",
       "      <th></th>\n",
       "      <th>Unnamed: 0</th>\n",
       "      <th>0</th>\n",
       "      <th>1</th>\n",
       "      <th>2</th>\n",
       "      <th>3</th>\n",
       "    </tr>\n",
       "  </thead>\n",
       "  <tbody>\n",
       "    <tr>\n",
       "      <th>0</th>\n",
       "      <td>0</td>\n",
       "      <td>/mnt/d/uczelnia/magister/TCGA_breast_patch/TCG...</td>\n",
       "      <td>0.999701</td>\n",
       "      <td>50161</td>\n",
       "      <td>50176</td>\n",
       "    </tr>\n",
       "    <tr>\n",
       "      <th>1</th>\n",
       "      <td>1</td>\n",
       "      <td>/mnt/d/uczelnia/magister/TCGA_breast_patch/TCG...</td>\n",
       "      <td>0.000000</td>\n",
       "      <td>0</td>\n",
       "      <td>50176</td>\n",
       "    </tr>\n",
       "    <tr>\n",
       "      <th>2</th>\n",
       "      <td>2</td>\n",
       "      <td>/mnt/d/uczelnia/magister/TCGA_breast_patch/TCG...</td>\n",
       "      <td>0.000020</td>\n",
       "      <td>1</td>\n",
       "      <td>50176</td>\n",
       "    </tr>\n",
       "    <tr>\n",
       "      <th>3</th>\n",
       "      <td>3</td>\n",
       "      <td>/mnt/d/uczelnia/magister/TCGA_breast_patch/TCG...</td>\n",
       "      <td>0.000000</td>\n",
       "      <td>0</td>\n",
       "      <td>50176</td>\n",
       "    </tr>\n",
       "    <tr>\n",
       "      <th>4</th>\n",
       "      <td>4</td>\n",
       "      <td>/mnt/d/uczelnia/magister/TCGA_breast_patch/TCG...</td>\n",
       "      <td>0.000060</td>\n",
       "      <td>3</td>\n",
       "      <td>50176</td>\n",
       "    </tr>\n",
       "  </tbody>\n",
       "</table>\n",
       "</div>"
      ],
      "text/plain": [
       "   Unnamed: 0                                                  0         1  \\\n",
       "0           0  /mnt/d/uczelnia/magister/TCGA_breast_patch/TCG...  0.999701   \n",
       "1           1  /mnt/d/uczelnia/magister/TCGA_breast_patch/TCG...  0.000000   \n",
       "2           2  /mnt/d/uczelnia/magister/TCGA_breast_patch/TCG...  0.000020   \n",
       "3           3  /mnt/d/uczelnia/magister/TCGA_breast_patch/TCG...  0.000000   \n",
       "4           4  /mnt/d/uczelnia/magister/TCGA_breast_patch/TCG...  0.000060   \n",
       "\n",
       "       2      3  \n",
       "0  50161  50176  \n",
       "1      0  50176  \n",
       "2      1  50176  \n",
       "3      0  50176  \n",
       "4      3  50176  "
      ]
     },
     "execution_count": 7,
     "metadata": {},
     "output_type": "execute_result"
    }
   ],
   "source": [
    "stats_df.head()"
   ]
  },
  {
   "cell_type": "code",
   "execution_count": 8,
   "metadata": {},
   "outputs": [
    {
     "data": {
      "text/plain": [
       "<Axes: ylabel='Frequency'>"
      ]
     },
     "execution_count": 8,
     "metadata": {},
     "output_type": "execute_result"
    },
    {
     "data": {
      "image/png": "[encoded data removed]",
      "text/plain": [
       "<Figure size 640x480 with 1 Axes>"
      ]
     },
     "metadata": {},
     "output_type": "display_data"
    }
   ],
   "source": [
    "# stats_df[\"perc_1\"] = stats_df[\"perc_1\"].apply(np.log)\n",
    "stats_df[\"1\"].plot.hist(bins=20)"
   ]
  },
  {
   "cell_type": "code",
   "execution_count": 10,
   "metadata": {},
   "outputs": [
    {
     "data": {
      "text/plain": [
       "<Axes: >"
      ]
     },
     "execution_count": 10,
     "metadata": {},
     "output_type": "execute_result"
    },
    {
     "data": {
      "image/png": "[encoded data removed]",
      "text/plain": [
       "<Figure size 640x480 with 1 Axes>"
      ]
     },
     "metadata": {},
     "output_type": "display_data"
    }
   ],
   "source": [
    "stats_df[\"1\"].plot.box()"
   ]
  },
  {
   "cell_type": "code",
   "execution_count": 15,
   "metadata": {},
   "outputs": [
    {
     "data": {
      "text/html": [
       "<div>\n",
       "<style scoped>\n",
       "    .dataframe tbody tr th:only-of-type {\n",
       "        vertical-align: middle;\n",
       "    }\n",
       "\n",
       "    .dataframe tbody tr th {\n",
       "        vertical-align: top;\n",
       "    }\n",
       "\n",
       "    .dataframe thead th {\n",
       "        text-align: right;\n",
       "    }\n",
       "</style>\n",
       "<table border=\"1\" class=\"dataframe\">\n",
       "  <thead>\n",
       "    <tr style=\"text-align: right;\">\n",
       "      <th></th>\n",
       "      <th>Unnamed: 0</th>\n",
       "      <th>0</th>\n",
       "      <th>1</th>\n",
       "      <th>2</th>\n",
       "      <th>3</th>\n",
       "      <th>dir</th>\n",
       "      <th>file</th>\n",
       "    </tr>\n",
       "  </thead>\n",
       "  <tbody>\n",
       "    <tr>\n",
       "      <th>0</th>\n",
       "      <td>0</td>\n",
       "      <td>/mnt/d/uczelnia/magister/TCGA_breast_patch/TCG...</td>\n",
       "      <td>0.999701</td>\n",
       "      <td>50161</td>\n",
       "      <td>50176</td>\n",
       "      <td>TCGA-3C-AAAU-01A-01-T_R1</td>\n",
       "      <td>patch_10_1.png</td>\n",
       "    </tr>\n",
       "    <tr>\n",
       "      <th>1</th>\n",
       "      <td>1</td>\n",
       "      <td>/mnt/d/uczelnia/magister/TCGA_breast_patch/TCG...</td>\n",
       "      <td>0.000000</td>\n",
       "      <td>0</td>\n",
       "      <td>50176</td>\n",
       "      <td>TCGA-3C-AAAU-01A-01-T_R1</td>\n",
       "      <td>patch_10_10.png</td>\n",
       "    </tr>\n",
       "    <tr>\n",
       "      <th>2</th>\n",
       "      <td>2</td>\n",
       "      <td>/mnt/d/uczelnia/magister/TCGA_breast_patch/TCG...</td>\n",
       "      <td>0.000020</td>\n",
       "      <td>1</td>\n",
       "      <td>50176</td>\n",
       "      <td>TCGA-3C-AAAU-01A-01-T_R1</td>\n",
       "      <td>patch_10_11.png</td>\n",
       "    </tr>\n",
       "    <tr>\n",
       "      <th>3</th>\n",
       "      <td>3</td>\n",
       "      <td>/mnt/d/uczelnia/magister/TCGA_breast_patch/TCG...</td>\n",
       "      <td>0.000000</td>\n",
       "      <td>0</td>\n",
       "      <td>50176</td>\n",
       "      <td>TCGA-3C-AAAU-01A-01-T_R1</td>\n",
       "      <td>patch_10_12.png</td>\n",
       "    </tr>\n",
       "    <tr>\n",
       "      <th>4</th>\n",
       "      <td>4</td>\n",
       "      <td>/mnt/d/uczelnia/magister/TCGA_breast_patch/TCG...</td>\n",
       "      <td>0.000060</td>\n",
       "      <td>3</td>\n",
       "      <td>50176</td>\n",
       "      <td>TCGA-3C-AAAU-01A-01-T_R1</td>\n",
       "      <td>patch_10_13.png</td>\n",
       "    </tr>\n",
       "  </tbody>\n",
       "</table>\n",
       "</div>"
      ],
      "text/plain": [
       "   Unnamed: 0                                                  0         1  \\\n",
       "0           0  /mnt/d/uczelnia/magister/TCGA_breast_patch/TCG...  0.999701   \n",
       "1           1  /mnt/d/uczelnia/magister/TCGA_breast_patch/TCG...  0.000000   \n",
       "2           2  /mnt/d/uczelnia/magister/TCGA_breast_patch/TCG...  0.000020   \n",
       "3           3  /mnt/d/uczelnia/magister/TCGA_breast_patch/TCG...  0.000000   \n",
       "4           4  /mnt/d/uczelnia/magister/TCGA_breast_patch/TCG...  0.000060   \n",
       "\n",
       "       2      3                       dir             file  \n",
       "0  50161  50176  TCGA-3C-AAAU-01A-01-T_R1   patch_10_1.png  \n",
       "1      0  50176  TCGA-3C-AAAU-01A-01-T_R1  patch_10_10.png  \n",
       "2      1  50176  TCGA-3C-AAAU-01A-01-T_R1  patch_10_11.png  \n",
       "3      0  50176  TCGA-3C-AAAU-01A-01-T_R1  patch_10_12.png  \n",
       "4      3  50176  TCGA-3C-AAAU-01A-01-T_R1  patch_10_13.png  "
      ]
     },
     "execution_count": 15,
     "metadata": {},
     "output_type": "execute_result"
    }
   ],
   "source": [
    "stats_df[\"dir\"] = stats_df[\"0\"].apply(lambda r: r.replace(\"/mnt/d/uczelnia/magister/TCGA_breast_patch/\", \"\").split(\"/\")[0])\n",
    "stats_df[\"file\"] = stats_df[\"0\"].apply(lambda r: r.replace(\"/mnt/d/uczelnia/magister/TCGA_breast_patch/\", \"\").split(\"/\")[1])\n",
    "stats_df.head()"
   ]
  },
  {
   "cell_type": "code",
   "execution_count": 31,
   "metadata": {},
   "outputs": [
    {
     "data": {
      "text/plain": [
       "<Axes: >"
      ]
     },
     "execution_count": 31,
     "metadata": {},
     "output_type": "execute_result"
    },
    {
     "data": {
      "image/png": "[encoded data removed]",
      "text/plain": [
       "<Figure size 640x480 with 1 Axes>"
      ]
     },
     "metadata": {},
     "output_type": "display_data"
    }
   ],
   "source": [
    "grouped_df = stats_df.groupby([\"dir\"], group_keys=False).sum()[[\"2\", \"3\"]]\n",
    "grouped_df[\"percentage\"] = grouped_df[\"2\"]/grouped_df[\"3\"]\n",
    "grouped_df[\"percentage\"].plot.box()"
   ]
  },
  {
   "cell_type": "code",
   "execution_count": 32,
   "metadata": {},
   "outputs": [],
   "source": [
    "grouped_df.to_csv(\"data/grouped_data.csv\")"
   ]
  }
 ],
 "metadata": {
  "kernelspec": {
   "display_name": "Python 3",
   "language": "python",
   "name": "python3"
  },
  "language_info": {
   "codemirror_mode": {
    "name": "ipython",
    "version": 3
   },
   "file_extension": ".py",
   "mimetype": "text/x-python",
   "name": "python",
   "nbconvert_exporter": "python",
   "pygments_lexer": "ipython3",
   "version": "3.0.0"
  }
 },
 "nbformat": 4,
 "nbformat_minor": 2
}
